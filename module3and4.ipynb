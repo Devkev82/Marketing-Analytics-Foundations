{
 "cells": [
  {
   "cell_type": "markdown",
   "id": "f21b84bc",
   "metadata": {},
   "source": [
    "# Segmenting a Database Retrospectively"
   ]
  },
  {
   "cell_type": "markdown",
   "id": "cac78b2e",
   "metadata": {},
   "source": [
    "## Computing RFM"
   ]
  },
  {
   "cell_type": "code",
   "execution_count": 2,
   "id": "2accfb33",
   "metadata": {},
   "outputs": [],
   "source": [
    "# import needed packages\n",
    "import pandas as pd\n",
    "import numpy as np\n",
    "import matplotlib.pyplot as plt\n",
    "import matplotlib as mpl\n",
    "import squarify\n",
    "import statsmodels.api as sm\n",
    "from sklearn.linear_model import LogisticRegression\n",
    "import patsy"
   ]
  },
  {
   "cell_type": "code",
   "execution_count": 3,
   "id": "ab13f889",
   "metadata": {},
   "outputs": [],
   "source": [
    "from pandasql import sqldf"
   ]
  },
  {
   "cell_type": "code",
   "execution_count": 4,
   "id": "16a3b1b7-d276-43ea-b4a2-e62d6149b77b",
   "metadata": {},
   "outputs": [
    {
     "data": {
      "text/plain": [
       "dict_keys(['sys', 'builtins', '_frozen_importlib', '_imp', '_thread', '_warnings', '_weakref', '_frozen_importlib_external', 'posix', '_io', 'marshal', 'time', 'zipimport', '_codecs', 'codecs', 'encodings.aliases', 'encodings', 'encodings.utf_8', '_signal', 'encodings.latin_1', '_abc', 'abc', 'io', '__main__', '_stat', 'stat', '_collections_abc', 'genericpath', 'posixpath', 'os.path', 'os', '_sitebuiltins', '_locale', '_bootlocale', 'types', 'importlib._bootstrap', 'importlib._bootstrap_external', 'warnings', 'importlib', 'importlib.machinery', '_heapq', 'heapq', 'itertools', 'keyword', '_operator', 'operator', 'reprlib', '_collections', 'collections', 'collections.abc', '_functools', 'functools', 'contextlib', 'enum', '_sre', 'sre_constants', 'sre_parse', 'sre_compile', 'copyreg', 're', 'typing.io', 'typing.re', 'typing', 'importlib.abc', 'importlib.util', 'mpl_toolkits', 'site', '_weakrefset', 'weakref', 'pkgutil', 'runpy', 'ipykernel._version', '__future__', '_json', 'json.scanner', 'json.decoder', 'json.encoder', 'json', 'errno', 'signal', 'threading', 'pwd', 'grp', '_posixsubprocess', 'select', 'math', 'selectors', 'subprocess', 'IPython.core', 'IPython.core.getipython', 'IPython.core.release', 'atexit', 'copy', 'fnmatch', 'glob', 'token', 'tokenize', 'linecache', 'traceback', '_string', 'string', 'logging', 'zlib', '_compression', '_bz2', 'bz2', '_lzma', 'lzma', 'shutil', '_ast', 'ast', '_opcode', 'opcode', 'dis', 'inspect', 'traitlets.utils', 'traitlets.utils.getargspec', 'traitlets.utils.importstring', 'traitlets.utils.sentinel', 'traitlets.utils.bunch', 'traitlets.utils.descriptions', 'traitlets.traitlets', 'traitlets.utils.decorators', 'traitlets._version', 'traitlets', 'pprint', 'gettext', 'argparse', 'ipython_genutils._version', 'ipython_genutils', '_bisect', 'bisect', '_random', '_sha512', 'random', 'locale', 'ipython_genutils.encoding', 'platform', 'ipython_genutils.py3compat', 'ipython_genutils.path', 'traitlets.config.loader', 'textwrap', 'ipython_genutils.text', 'traitlets.config.configurable', 'traitlets.config.application', 'traitlets.config', 'sysconfig', 'urllib', 'urllib.parse', '_sysconfigdata__darwin_darwin', '_osx_support', 'pydoc', 'bdb', 'IPython.utils', 'IPython.utils.ipstruct', 'IPython.utils.coloransi', 'pygments', 'IPython.utils.colorable', 'IPython.utils.PyColorize', 'IPython.utils.encoding', 'IPython.utils.py3compat', 'IPython.core.excolors', 'IPython.testing', 'IPython.testing.skipdoctest', 'cmd', 'codeop', 'code', 'pdb', 'IPython.core.debugger', 'IPython.core.display_trap', 'pexpect.exceptions', 'pexpect.utils', 'pexpect.expect', 'termios', 'tty', 'pty', 'fcntl', 'resource', '_struct', 'struct', 'ptyprocess.util', 'ptyprocess.ptyprocess', 'ptyprocess', 'pexpect.spawnbase', 'pexpect.pty_spawn', 'pexpect.run', 'pexpect', 'shlex', 'IPython.utils._process_common', 'IPython.utils._process_posix', 'IPython.utils.process', 'IPython.utils.decorators', 'IPython.utils.path', 'IPython.utils.data', 'IPython.utils.terminal', 'IPython.core.ultratb', 'IPython.utils._sysinfo', 'IPython.utils.sysinfo', 'IPython.core.crashhandler', 'tempfile', 'IPython.utils.importstring', 'IPython.paths', 'IPython.core.profiledir', 'IPython.core.application', 'IPython.terminal', '_hashlib', '_blake2', 'hashlib', 'IPython.core.compilerop', 'IPython.core.error', 'ntpath', 'pathlib', 'IPython.utils.text', 'IPython.core.magic_arguments', 'getopt', 'binascii', 'mimetypes', 'IPython.core.display', 'IPython.core.page', 'getpass', 'IPython.lib.security', 'IPython.lib', '_datetime', 'datetime', 'IPython.lib.pretty', 'IPython.utils.openpy', 'IPython.utils.dir2', 'IPython.utils.wildcard', 'pygments.lexers._mapping', 'pygments.modeline', 'pygments.plugin', 'pygments.util', 'pygments.lexers', 'pygments.filter', 'pygments.token', 'pygments.filters', 'pygments.regexopt', 'pygments.lexer', 'pygments.unistring', 'pygments.lexers.python', 'pygments.formatters._mapping', 'pygments.formatters', 'pygments.styles', 'pygments.formatter', 'pygments.formatters.html', 'IPython.core.oinspect', 'IPython.core.inputtransformer2', 'decorator', 'IPython.core.magic', '_compat_pickle', '_pickle', 'pickle', 'pickleshare', 'IPython.core.autocall', 'IPython.core.macro', 'IPython.core.splitinput', 'IPython.core.prefilter', 'IPython.core.alias', 'IPython.core.builtin_trap', 'backcall.backcall', 'backcall', 'IPython.core.events', 'IPython.core.displayhook', 'IPython.core.displaypub', 'IPython.core.extensions', 'IPython.utils.sentinel', 'IPython.core.formatters', '_sqlite3', 'sqlite3.dbapi2', 'sqlite3', 'IPython.core.history', 'IPython.core.logger', 'IPython.core.payload', 'IPython.core.usage', 'html.entities', 'html', 'IPython.lib.display', 'IPython.display', 'IPython.utils.capture', 'IPython.utils.io', 'IPython.core.hooks', 'IPython.utils.strdispatch', 'IPython.utils.syspathcontext', 'IPython.utils.tempdir', 'IPython.utils.contexts', 'IPython.core.async_helpers', 'IPython.core.interactiveshell', 'concurrent', 'concurrent.futures._base', 'concurrent.futures', '_socket', 'array', 'socket', '_ssl', 'base64', 'ssl', 'asyncio.constants', 'asyncio.format_helpers', 'asyncio.base_futures', 'asyncio.log', 'asyncio.coroutines', '_contextvars', 'contextvars', 'asyncio.exceptions', 'asyncio.base_tasks', '_asyncio', 'asyncio.events', 'asyncio.futures', 'asyncio.protocols', 'asyncio.transports', 'asyncio.sslproto', 'asyncio.locks', 'asyncio.tasks', 'asyncio.staggered', 'asyncio.trsock', 'asyncio.base_events', 'asyncio.runners', 'asyncio.queues', 'asyncio.streams', 'asyncio.subprocess', 'asyncio.threads', 'asyncio.base_subprocess', 'asyncio.selector_events', 'asyncio.unix_events', 'asyncio', 'prompt_toolkit.application.current', 'prompt_toolkit.eventloop.utils', 'prompt_toolkit.eventloop.async_generator', 'wcwidth.table_wide', 'wcwidth.table_zero', 'wcwidth.unicode_versions', 'wcwidth.wcwidth', 'wcwidth', 'prompt_toolkit.utils', 'prompt_toolkit.eventloop.inputhook', 'prompt_toolkit.eventloop', 'prompt_toolkit.application.run_in_terminal', 'prompt_toolkit.selection', 'prompt_toolkit.clipboard.base', 'prompt_toolkit.clipboard.in_memory', 'prompt_toolkit.clipboard', 'prompt_toolkit.cache', 'prompt_toolkit.enums', 'prompt_toolkit.filters.base', 'prompt_toolkit.filters.app', 'prompt_toolkit.filters.cli', 'prompt_toolkit.filters.utils', 'prompt_toolkit.filters', 'prompt_toolkit.document', 'prompt_toolkit.auto_suggest', 'prompt_toolkit.data_structures', 'prompt_toolkit.styles.base', 'prompt_toolkit.styles.named_colors', 'prompt_toolkit.styles.style', 'prompt_toolkit.styles.defaults', 'prompt_toolkit.styles.pygments', 'colorsys', 'prompt_toolkit.styles.style_transformation', 'prompt_toolkit.styles', 'prompt_toolkit.output.color_depth', 'prompt_toolkit.output.base', 'prompt_toolkit.output.defaults', 'prompt_toolkit.output', 'prompt_toolkit.output.vt100', 'prompt_toolkit.mouse_events', 'prompt_toolkit.formatted_text.base', 'prompt_toolkit.formatted_text.ansi', 'xml', 'xml.dom.domreg', 'xml.dom', 'xml.dom.minicompat', 'xml.dom.NodeFilter', 'xml.dom.xmlbuilder', 'xml.dom.minidom', 'prompt_toolkit.formatted_text.html', 'prompt_toolkit.formatted_text.pygments', 'prompt_toolkit.formatted_text.utils', 'prompt_toolkit.formatted_text', 'prompt_toolkit.completion.base', 'prompt_toolkit.completion.deduplicate', 'prompt_toolkit.completion.filesystem', 'prompt_toolkit.completion.word_completer', 'prompt_toolkit.completion.fuzzy_completer', 'prompt_toolkit.completion.nested', 'prompt_toolkit.completion', 'prompt_toolkit.history', 'prompt_toolkit.keys', 'prompt_toolkit.key_binding.key_bindings', 'prompt_toolkit.key_binding.key_processor', 'prompt_toolkit.key_binding', 'prompt_toolkit.key_binding.vi_state', 'prompt_toolkit.search', 'prompt_toolkit.validation', 'prompt_toolkit.buffer', 'prompt_toolkit.input.base', 'prompt_toolkit.input.defaults', 'prompt_toolkit.input', 'prompt_toolkit.input.typeahead', 'prompt_toolkit.key_binding.bindings', 'prompt_toolkit.key_binding.bindings.scroll', 'prompt_toolkit.key_binding.bindings.page_navigation', 'prompt_toolkit.lexers.base', 'prompt_toolkit.lexers.pygments', 'prompt_toolkit.lexers', 'prompt_toolkit.layout.utils', 'prompt_toolkit.layout.processors', 'prompt_toolkit.layout.controls', 'prompt_toolkit.layout.dimension', 'prompt_toolkit.layout.margins', 'prompt_toolkit.layout.mouse_handlers', 'prompt_toolkit.layout.screen', 'prompt_toolkit.layout.containers', 'prompt_toolkit.layout.layout', 'prompt_toolkit.layout.menus', 'prompt_toolkit.layout.scrollable_pane', 'prompt_toolkit.layout', 'prompt_toolkit.key_binding.bindings.completion', 'prompt_toolkit.key_binding.bindings.named_commands', 'prompt_toolkit.key_binding.bindings.basic', 'prompt_toolkit.key_binding.bindings.cpr', 'prompt_toolkit.key_binding.bindings.emacs', 'prompt_toolkit.key_binding.bindings.mouse', 'prompt_toolkit.input.ansi_escape_sequences', 'prompt_toolkit.input.vt100_parser', 'prompt_toolkit.key_binding.digraphs', 'prompt_toolkit.key_binding.bindings.vi', 'prompt_toolkit.key_binding.defaults', 'prompt_toolkit.key_binding.emacs_state', 'prompt_toolkit.layout.dummy', 'prompt_toolkit.renderer', 'prompt_toolkit.application.application', 'prompt_toolkit.application.dummy', 'prompt_toolkit.application', 'prompt_toolkit.key_binding.bindings.focus', 'prompt_toolkit.widgets.toolbars', 'prompt_toolkit.widgets.base', 'prompt_toolkit.widgets.dialogs', 'prompt_toolkit.widgets.menus', 'prompt_toolkit.widgets', 'prompt_toolkit.shortcuts.dialogs', 'prompt_toolkit.shortcuts.progress_bar.formatters', 'prompt_toolkit.shortcuts.progress_bar.base', 'prompt_toolkit.shortcuts.progress_bar', 'prompt_toolkit.key_binding.bindings.auto_suggest', 'prompt_toolkit.key_binding.bindings.open_in_editor', 'prompt_toolkit.shortcuts.prompt', 'prompt_toolkit.shortcuts.utils', 'prompt_toolkit.shortcuts', 'prompt_toolkit', '_queue', 'queue', 'prompt_toolkit.patch_stdout', 'pygments.style', 'unicodedata', 'IPython.core.latex_symbols', 'IPython.utils.generics', 'parso.utils', 'parso.tree', 'parso.python', 'parso.python.token', 'parso.python.tokenize', 'parso.pgen2.grammar_parser', 'parso.pgen2.generator', 'parso.pgen2', 'parso.parser', 'parso._compatibility', 'difflib', 'parso.python.prefix', 'parso.python.tree', 'parso.python.parser', 'parso.python.diff', 'gc', 'parso.cache', 'parso.normalizer', 'parso.python.errors', 'parso.python.pep8', 'parso.file_io', 'parso.grammar', 'parso', 'jedi._compatibility', 'jedi.parser_utils', 'colorama.ansi', '_ctypes', 'ctypes._endian', 'ctypes', 'colorama.win32', 'colorama.winterm', 'colorama.ansitowin32', 'colorama.initialise', 'colorama', 'jedi.debug', 'jedi.settings', 'jedi.cache', 'jedi.file_io', 'jedi.inference.cache', 'jedi.inference.helpers', 'jedi.inference.utils', 'jedi.inference.base_value', 'jedi.inference.sys_path', 'jedi.inference.recursion', 'jedi.inference.flow_analysis', 'jedi.common', 'jedi.inference.lazy_value', 'jedi.inference.docstrings', 'jedi.plugins', 'jedi.inference.names', 'jedi.inference.filters', 'jedi.inference.compiled.getattr_static', 'jedi.inference.compiled.access', 'jedi.inference.signature', 'jedi.inference.context', 'jedi.inference.compiled.value', 'jedi.inference.compiled', 'jedi.inference.analysis', 'jedi.inference.gradual', 'jedi.inference.value.module', 'jedi.inference.value.dynamic_arrays', 'jedi.inference.value.iterable', 'jedi.inference.arguments', 'jedi.inference.parser_cache', 'jedi.inference.gradual.generics', 'jedi.inference.value.function', 'jedi.inference.value.klass', 'jedi.inference.value.instance', 'jedi.inference.value', 'jedi.inference.gradual.base', 'jedi.inference.gradual.type_var', 'jedi.inference.gradual.typing', 'jedi.inference.gradual.stub_value', 'jedi.inference.gradual.typeshed', 'jedi.inference.compiled.subprocess.functions', 'jedi.api.exceptions', 'jedi.inference.compiled.subprocess', 'jedi.inference.imports', 'jedi.inference.param', 'jedi.inference.gradual.annotation', 'jedi.inference.value.decorator', 'jedi.inference.syntax_tree', 'jedi.inference', 'jedi.inference.gradual.conversion', 'jedi.inference.compiled.mixed', 'pydoc_data', 'pydoc_data.topics', 'jedi.api.keywords', 'jedi.api.completion_cache', 'jedi.api.helpers', 'jedi.api.classes', 'jedi.api.interpreter', 'jedi.api.strings', 'jedi.api.file_name', 'jedi.api.completion', 'filecmp', 'jedi.api.environment', 'jedi.inference.references', 'jedi.api.project', 'jedi.api.errors', 'jedi.api.refactoring', 'jedi.api.refactoring.extract', 'jedi.inference.gradual.utils', 'jedi.api', 'jedi.plugins.stdlib', 'jedi.plugins.flask', 'jedi.plugins.pytest', 'jedi.plugins.django', 'jedi.plugins.registry', 'jedi', 'IPython.core.completer', 'IPython.terminal.ptutils', 'IPython.terminal.shortcuts', 'IPython.terminal.debugger', 'IPython.lib.clipboard', 'IPython.terminal.magics', 'IPython.terminal.pt_inputhooks', 'IPython.terminal.prompts', 'IPython.terminal.interactiveshell', 'IPython.core.magics.auto', 'IPython.core.magics.basic', 'email', 'http', 'email.errors', 'email.quoprimime', 'email.base64mime', 'quopri', 'email.encoders', 'email.charset', 'email.header', 'calendar', 'email._parseaddr', 'email.utils', 'email._policybase', 'email.feedparser', 'email.parser', 'uu', 'email._encoded_words', 'email.iterators', 'email.message', 'http.client', 'urllib.response', 'urllib.error', '_scproxy', 'urllib.request', 'IPython.core.magics.code', 'IPython.core.magics.config', 'IPython.core.magics.display', 'timeit', '_lsprof', 'profile', 'cProfile', 'dataclasses', 'pstats', 'IPython.utils.module_paths', 'IPython.utils.timing', 'IPython.core.magics.execution', 'IPython.core.magics.extension', 'IPython.core.magics.history', 'IPython.core.magics.logging', 'IPython.core.magics.namespace', 'IPython.core.magics.osm', 'IPython.core.magics.packaging', 'IPython.core.pylabtools', 'IPython.core.magics.pylab', 'IPython.lib.backgroundjobs', 'IPython.core.magics.script', 'IPython.core.magics', 'IPython.core.shellapp', 'IPython.extensions', 'IPython.extensions.storemagic', 'IPython.terminal.ipapp', 'IPython.terminal.embed', 'IPython.utils.frame', 'IPython', 'jupyter_client._version', 'zmq.backend.select', 'cython_runtime', 'zmq.backend.cython.constants', '_cython_0_29_21', 'zmq.backend.cython.error', 'zmq.error', 'zmq.backend.cython.message', 'zmq.backend.cython.context', 'zmq.backend.cython.socket', 'zmq.backend.cython.utils', 'zmq.backend.cython._poll', 'zmq.backend.cython._version', 'zmq.backend.cython._device', 'zmq.backend.cython._proxy_steerable', 'zmq.backend.cython', 'zmq.backend', 'zmq.utils', 'zmq.utils.constant_names', 'zmq.sugar.constants', 'zmq.sugar.attrsettr', 'zmq.sugar.poll', 'zmq.utils.strtypes', 'zmq.utils.jsonapi', 'zmq.sugar.socket', 'zmq.sugar.context', 'zmq.sugar.frame', 'zmq.sugar.tracker', 'zmq.sugar.version', 'zmq.sugar.stopwatch', 'zmq.sugar', 'zmq', 'jupyter_client.localinterfaces', 'jupyter_core.version', 'jupyter_core', 'jupyter_core.paths', 'jupyter_client.utils', 'jupyter_client.connect', 'traitlets.log', 'jupyter_client.launcher', 'jupyter_client.channelsabc', 'jupyter_client.channels', 'jupyter_client.clientabc', 'jupyter_client.client', 'jupyter_client.kernelspec', 'jupyter_client.managerabc', 'jupyter_client.manager', 'jupyter_client.blocking.channels', 'jupyter_client.blocking.client', 'jupyter_client.blocking', 'zmq._future', 'zmq.asyncio', 'jupyter_client.asynchronous.channels', 'jupyter_client.asynchronous.client', 'jupyter_client.asynchronous', '_uuid', 'uuid', 'jupyter_client.multikernelmanager', 'jupyter_client', 'ipykernel.connect', 'ipykernel', 'tornado', 'numbers', 'logging.handlers', 'tornado.speedups', 'tornado.util', 'tornado.escape', '_curses', 'curses', 'tornado.log', 'tornado.concurrent', 'tornado.ioloop', 'tornado.platform', 'tornado.gen', 'tornado.platform.asyncio', 'zmq.eventloop.ioloop', 'zmq.eventloop', 'zmq.eventloop.zmqstream', 'ipython_genutils.importstring', 'imp', 'hmac', 'dateutil._version', 'dateutil', 'six', '_decimal', 'decimal', 'dateutil._common', 'dateutil.relativedelta', 'six.moves', 'dateutil.tz._common', 'dateutil.tz._factories', 'dateutil.tz.tz', 'dateutil.tz', 'dateutil.parser._parser', 'dateutil.parser.isoparser', 'dateutil.parser', '_strptime', 'jupyter_client.jsonutil', 'jupyter_client.adapter', 'jupyter_client.session', 'ipykernel.iostream', 'ipykernel.heartbeat', 'IPython.utils.tokenutil', 'tornado.locks', 'tornado.queues', 'ipykernel.jsonutil', 'ipykernel.kernelbase', 'ipykernel.comm.comm', 'ipykernel.comm.manager', 'ipykernel.comm', 'IPython.core.payloadpage', 'ipykernel.displayhook', 'ipykernel.zmqshell', 'distutils', 'distutils.version', 'ipykernel.eventloops', 'ipykernel.ipkernel', 'ipykernel.parentpoller', 'ipykernel.kernelapp', 'faulthandler', 'ipykernel.codeutil', 'ipykernel.pickleutil', 'ipykernel.serialize', 'ipykernel.datapub', 'IPython.core.completerlib', 'xml.parsers', 'pyexpat.errors', 'pyexpat.model', 'pyexpat', 'xml.parsers.expat.model', 'xml.parsers.expat.errors', 'xml.parsers.expat', 'plistlib', 'ctypes.macholib', 'ctypes.macholib.framework', 'ctypes.macholib.dylib', 'ctypes.macholib.dyld', 'ctypes.util', 'appnope._nope', 'appnope', 'storemagic', 'numpy._globals', 'numpy.__config__', 'numpy.version', 'mkl._mklinit', 'mkl._py_mkl_service', 'mkl', 'numpy._distributor_init', 'numpy.core._multiarray_umath', 'numpy.compat._inspect', 'numpy.compat.py3k', 'numpy.compat', 'numpy.core.overrides', 'numpy.core.multiarray', 'numpy.core.umath', 'numpy.core._string_helpers', 'numpy.core._dtype', 'numpy.core._type_aliases', 'numpy.core.numerictypes', 'numpy.core._asarray', 'numpy.core._exceptions', 'numpy.core._methods', 'numpy.core.fromnumeric', 'numpy.core.shape_base', 'numpy.core._ufunc_config', 'numpy.core.arrayprint', 'numpy.core.numeric', 'numpy.core.defchararray', 'numpy.core.records', 'numpy.core.memmap', 'numpy.core.function_base', 'numpy.core.machar', 'numpy.core.getlimits', 'numpy.core.einsumfunc', 'numpy.core._multiarray_tests', 'numpy.core._add_newdocs', 'numpy.core._add_newdocs_scalars', 'numpy.core._dtype_ctypes', 'numpy.core._internal', 'numpy._pytesttester', 'numpy.core', 'numpy.lib.mixins', 'numpy.lib.ufunclike', 'numpy.lib.type_check', 'numpy.lib.scimath', 'numpy.lib.twodim_base', 'numpy.linalg.lapack_lite', 'numpy.linalg._umath_linalg', 'numpy.linalg.linalg', 'numpy.linalg', 'numpy.matrixlib.defmatrix', 'numpy.matrixlib', 'numpy.lib.histograms', 'numpy.lib.function_base', 'numpy.lib.stride_tricks', 'numpy.lib.index_tricks', 'numpy.lib.nanfunctions', 'numpy.lib.shape_base', 'numpy.lib.polynomial', 'numpy.lib.utils', 'numpy.lib.arraysetops', 'numpy.lib.format', 'numpy.lib._datasource', 'numpy.lib._iotools', 'numpy.lib.npyio', 'numpy.lib.arrayterator', 'numpy.lib.arraypad', 'numpy.lib._version', 'numpy.lib', 'numpy.fft._pocketfft_internal', 'numpy.fft._pocketfft', 'numpy.fft.helper', 'numpy.fft', 'numpy.polynomial.polyutils', 'numpy.polynomial._polybase', 'numpy.polynomial.polynomial', 'numpy.polynomial.chebyshev', 'numpy.polynomial.legendre', 'numpy.polynomial.hermite', 'numpy.polynomial.hermite_e', 'numpy.polynomial.laguerre', 'numpy.polynomial', '_cython_0_29_23', 'numpy.random._common', 'secrets', 'numpy.random.bit_generator', 'numpy.random._bounded_integers', 'numpy.random._mt19937', 'numpy.random.mtrand', 'numpy.random._philox', 'numpy.random._pcg64', 'numpy.random._sfc64', 'numpy.random._generator', 'numpy.random._pickle', 'numpy.random', 'numpy.ctypeslib', 'numpy.ma.core', 'numpy.ma.extras', 'numpy.ma', 'numpy', 'pytz.exceptions', 'pytz.lazy', 'pytz.tzinfo', 'pytz.tzfile', 'pytz', 'mmap', 'pandas._typing', 'pandas.compat', 'pandas.compat.numpy', '_cython_0_29_22', 'pandas._libs.tslibs.dtypes', 'pandas._libs.tslibs.base', 'pandas._libs.tslibs.np_datetime', 'pandas._libs.tslibs.nattype', 'pandas._libs.tslibs.timezones', 'pandas._libs.tslibs.ccalendar', 'pandas._libs.tslibs.tzconversion', 'pandas._libs.tslibs.timedeltas', 'pandas._config.config', 'pandas._config.dates', 'pandas._config.display', 'pandas._config', 'pandas._config.localization', 'pandas._libs.tslibs.strptime', 'pandas._libs.tslibs.fields', 'pandas._libs.tslibs.timestamps', 'dateutil.easter', 'pandas._libs.properties', 'pandas._libs.tslibs.offsets', 'pandas._libs.tslibs.parsing', 'pandas._libs.tslibs.conversion', 'pandas._libs.tslibs.period', 'pandas._libs.tslibs.vectorized', 'pandas._libs.tslibs', 'pandas._libs.ops_dispatch', 'pandas._libs.missing', 'pandas._libs.hashtable', 'pandas._libs.algos', 'pandas._libs.interval', 'pandas._libs', 'pandas._libs.tslib', 'pandas._libs.lib', 'pandas.core', 'pandas.core.config_init', 'pandas.core.dtypes', 'pandas.errors', 'pandas.core.dtypes.generic', 'pandas.core.dtypes.base', 'pandas.core.dtypes.inference', 'pandas.core.dtypes.dtypes', 'pandas.core.dtypes.common', 'pandas.core.dtypes.missing', 'pandas.util._decorators', 'pandas.core.util', 'pandas._libs.hashing', 'pandas.core.util.hashing', 'pandas.util', 'pandas.util._validators', 'pandas.core.dtypes.cast', 'pandas.core.common', 'pandas.core.construction', 'pandas.core.indexers', 'pandas.core.algorithms', 'pandas.compat.numpy.function', 'pandas._libs.ops', 'pandas.core.ops.roperator', 'pandas.core.ops.missing', 'pandas.core.ops.dispatch', 'pandas.core.ops.invalid', 'pandas.core.ops.array_ops', 'pandas.core.ops.common', 'pandas.core.ops.docstrings', 'pandas.core.ops.mask_ops', 'pandas.core.ops.methods', 'pandas.core.ops', 'pandas.compat._optional', 'pandas.core.missing', 'pandas.core.sorting', 'pandas.core.arrays.base', 'pandas.core.nanops', 'pandas.core.array_algos', 'pandas.core.array_algos.masked_reductions', 'pandas.core.arraylike', 'pandas.core.arrays.masked', 'pandas.core.arrays.boolean', '_csv', 'csv', 'pandas.core.accessor', 'pandas.core.array_algos.transforms', 'pandas.core.arrays._mixins', 'pandas.core.base', 'pandas.core.strings.accessor', 'pandas.core.strings.base', 'pandas.core.strings', 'pandas.core.strings.object_array', 'pandas.io', 'pandas.io.formats', 'pandas.io.formats.console', 'pandas.core.arrays.categorical', 'pandas.tseries', 'pandas.tseries.frequencies', 'pandas.core.arrays.datetimelike', 'pandas.core.arrays._ranges', 'pandas.tseries.offsets', 'pandas.core.arrays.datetimes', 'pandas.core.tools', 'pandas.core.tools.numeric', 'pandas.core.arrays.numeric', 'pandas.core.arrays.floating', 'pandas.core.arrays.integer', 'pandas.core.indexes', 'pandas._libs.index', 'pandas._libs.join', 'pandas._libs.sparse', 'pandas.core.arrays.sparse.dtype', 'pandas.io.formats.printing', 'pandas.core.arrays.sparse.array', 'pandas.core.arrays.sparse.accessor', 'pandas.core.arrays.sparse', 'pandas.core.dtypes.concat', 'pandas.core.indexes.frozen', 'pandas.core.indexes.base', 'pandas.core.arrays.interval', 'pandas.core.arrays.numpy_', 'pandas.core.arrays.period', 'pandas.core.arrays.string_', 'pandas.core.arrays.timedeltas', 'pandas.core.arrays', 'pandas.core.flags', 'pandas._libs.reduction', 'pandas.core.indexes.extension', 'pandas.core.indexes.category', 'pandas.core.indexes.numeric', 'pandas.core.tools.timedeltas', 'pandas.core.indexes.datetimelike', 'pandas.core.tools.times', 'pandas.core.indexes.datetimes', 'pandas.util._exceptions', 'pandas.core.indexes.multi', 'pandas.core.indexes.timedeltas', 'pandas.core.indexes.interval', 'pandas.core.indexes.period', 'pandas.core.indexes.range', 'pandas.core.indexes.api', 'pandas.core.aggregation', 'pandas._libs.indexing', 'pandas.core.indexing', 'pandas._libs.internals', 'pandas._libs.writers', 'pandas.core.array_algos.replace', 'pandas.core.internals.blocks', 'pandas.core.internals.ops', 'pandas.core.internals.managers', 'pandas.core.internals.concat', 'pandas.core.internals', 'pandas.core.shared_docs', 'pandas._libs.window', 'pandas._libs.window.aggregations', 'pandas.core.util.numba_', 'pandas.core.window.common', 'pandas._libs.window.indexers', 'pandas.core.window.indexers', 'pandas.core.window.numba_', 'pandas.core.groupby.base', 'pandas.core.window.rolling', 'pandas.core.window.ewm', 'pandas.core.window.expanding', 'pandas.core.window', 'pandas.core.reshape', 'pandas.core.reshape.concat', 'gzip', 'zipfile', 'pandas.io.common', 'pandas.io.formats.format', 'pandas.core.generic', 'pandas.core.internals.construction', 'pandas.core.reshape.util', 'pandas.core.reshape.melt', 'pandas._libs.reshape', 'pandas.core.indexes.accessors', 'pandas.arrays', 'pandas.core.tools.datetimes', 'pandas.plotting._core', 'pandas.plotting._misc', 'pandas.plotting', 'pandas.core.series', 'pandas.io.formats.info', 'pandas.core.frame', 'pandas._libs.groupby', 'pandas.core.groupby.numba_', 'pandas.core.groupby.categorical', 'pandas.core.groupby.grouper', 'pandas.core.groupby.ops', 'pandas.core.groupby.groupby', 'pandas.core.groupby.generic', 'pandas.core.groupby', 'pandas.core.api', 'pandas.tseries.api', 'pandas.core.computation', 'pandas.core.computation.common', 'pandas.core.computation.align', 'pandas.compat.chainmap', 'pandas.core.computation.scope', 'pandas.core.computation.ops', 'pandas.core.computation.engines', 'pandas.core.computation.parsing', 'pandas.core.computation.expr', 'pandas.core.computation.eval', 'pandas.core.computation.api', 'pandas.core.reshape.merge', 'pandas.core.reshape.pivot', 'pandas.core.reshape.reshape', 'pandas.core.reshape.tile', 'pandas.core.reshape.api', 'pandas.api.extensions', 'pandas.api.indexers', 'pandas.core.dtypes.api', 'pandas.api.types', 'pandas.api', 'pandas.util._print_versions', 'pandas.io.clipboards', 'pandas._libs.parsers', 'pandas.io.excel._util', 'pandas.io.date_converters', 'pandas.io.parsers', 'pandas.io.excel._odfreader', 'pandas.io.excel._openpyxl', 'pandas.io.excel._pyxlsb', 'pandas.io.excel._xlrd', 'pandas.io.excel._base', 'pandas._libs.json', 'pandas.io.formats._color_data', 'pandas.io.formats.css', 'pandas.io.formats.excel', 'pandas.io.excel._odswriter', 'pandas.io.excel._xlsxwriter', 'pandas.io.excel._xlwt', 'pandas.io.excel', 'pandas.io.feather_format', 'pandas.io.gbq', 'pandas.io.html', 'pandas.io.json._normalize', 'pandas.io.json._table_schema', 'pandas.io.json._json', 'pandas.io.json', 'pandas.io.orc', 'pandas.io.parquet', 'pandas.compat.pickle_compat', 'pandas.io.pickle', 'pandas.core.computation.pytables', 'pandas.io.pytables', 'pandas.io.sas.sasreader', 'pandas.io.sas', 'pandas.io.spss', 'pandas.io.sql', 'pandas.io.stata', 'pandas.io.api', 'pandas.util._tester', 'cmath', 'pandas._libs.testing', 'pandas._testing', 'pandas.testing', 'pandas._version', 'pandas', 'matplotlib.cbook.deprecation', 'matplotlib.cbook', 'matplotlib._animation_data', 'matplotlib.animation', 'pyparsing', 'matplotlib.fontconfig_pattern', 'matplotlib.docstring', 'matplotlib._color_data', 'matplotlib.colors', 'cycler', 'matplotlib.rcsetup', 'matplotlib._version', 'matplotlib.ft2font', 'kiwisolver', 'matplotlib', 'matplotlib._path', 'matplotlib.bezier', 'matplotlib.path', 'matplotlib.transforms', 'matplotlib.artist', 'matplotlib._cm', 'matplotlib._cm_listed', 'matplotlib.cm', 'matplotlib.markers', 'matplotlib.lines', 'matplotlib.collections', 'matplotlib.ticker', 'matplotlib._mathtext_data', 'matplotlib.afm', 'matplotlib.font_manager', 'matplotlib.patches', 'matplotlib._text_layout', 'matplotlib.dviread', 'PIL._version', 'PIL', 'xml.etree', 'xml.etree.ElementPath', '_elementtree', 'xml.etree.ElementTree', 'PIL.ImageMode', 'PIL.TiffTags', 'PIL._binary', 'PIL._util', 'PIL._imaging', 'cffi.lock', 'cffi.error', 'cffi.model', 'cffi.api', 'cffi', 'PIL.Image', 'matplotlib.mathtext', 'matplotlib.textpath', 'matplotlib.text', 'matplotlib.texmanager', 'matplotlib._pylab_helpers', 'matplotlib.backend_tools', 'matplotlib.tight_bbox', 'matplotlib.widgets', 'matplotlib.backend_managers', 'matplotlib.backend_bases', 'matplotlib.blocking_input', 'matplotlib.contour', 'matplotlib.tight_layout', 'matplotlib._layoutbox', 'matplotlib.gridspec', 'matplotlib._constrained_layout', 'matplotlib.colorbar', 'PIL.ImageChops', 'PIL.ImageFile', 'PIL.GimpGradientFile', 'PIL.GimpPaletteFile', 'PIL.ImageColor', 'PIL.PaletteFile', 'PIL.ImagePalette', 'PIL.ImageSequence', 'PIL.PngImagePlugin', 'matplotlib._image', 'matplotlib.image', 'matplotlib.style.core', 'matplotlib.style', 'matplotlib.units', 'matplotlib.category', 'dateutil.rrule', 'matplotlib.dates', 'matplotlib.offsetbox', 'matplotlib.container', 'matplotlib.legend_handler', 'matplotlib.legend', 'matplotlib.mlab', 'matplotlib.quiver', 'matplotlib.stackplot', 'matplotlib.streamplot', 'matplotlib.table', 'matplotlib.tri.triangulation', 'matplotlib.tri.tricontour', 'matplotlib.tri.tritools', 'matplotlib.tri.trifinder', 'matplotlib.tri.triinterpolate', 'matplotlib.tri.trirefine', 'matplotlib.tri.tripcolor', 'matplotlib.tri.triplot', 'matplotlib.tri', 'matplotlib.scale', 'matplotlib.axis', 'matplotlib.spines', 'matplotlib.axes._base', 'matplotlib.axes._secondary_axes', 'matplotlib.axes._axes', 'matplotlib.axes._subplots', 'matplotlib.axes', 'matplotlib.projections.geo', 'matplotlib.projections.polar', 'mpl_toolkits.mplot3d.proj3d', 'mpl_toolkits.mplot3d.art3d', 'mpl_toolkits.mplot3d.axis3d', 'mpl_toolkits.mplot3d.axes3d', 'mpl_toolkits.mplot3d', 'matplotlib.projections', 'matplotlib.figure', 'matplotlib.backends', 'ipykernel.pylab', 'matplotlib.backends._backend_agg', 'matplotlib.backends.backend_agg', 'ipykernel.pylab.config', 'ipykernel.pylab.backend_inline', 'matplotlib.pyplot', 'squarify', 'statsmodels._version', 'statsmodels', 'numpy.ma.mrecords', 'unittest.util', 'unittest.result', 'unittest.case', 'unittest.suite', 'unittest.loader', 'unittest.signals', 'unittest.runner', 'unittest.main', 'unittest', 'numpy.testing._private', 'numpy.testing._private.utils', 'numpy.testing._private.decorators', 'numpy.testing._private.nosetester', 'numpy.testing', 'numpy.lib.recfunctions', 'scipy._lib._testutils', 'scipy._lib', 'scipy._lib.deprecation', 'scipy.__config__', 'scipy.version', 'scipy._distributor_init', 'scipy._lib._pep440', 'scipy._lib._ccallback_c', 'scipy._lib._ccallback', 'scipy', 'scipy.linalg._fblas', 'scipy.linalg.blas', 'scipy.linalg._flapack', 'scipy._lib._util', 'scipy.linalg.lapack', 'scipy.linalg.misc', 'scipy.linalg._flinalg', 'scipy.linalg.flinalg', 'scipy.linalg.decomp', 'scipy.linalg.decomp_svd', 'scipy.linalg._solve_toeplitz', 'scipy.linalg.basic', 'scipy.linalg.decomp_lu', 'scipy.linalg._decomp_ldl', 'scipy.linalg.decomp_cholesky', 'scipy.linalg.decomp_qr', 'scipy.linalg._decomp_qz', 'scipy.linalg.decomp_schur', 'scipy.linalg._decomp_polar', 'scipy.linalg.special_matrices', 'scipy.linalg._expm_frechet', 'scipy.linalg._matfuncs_sqrtm_triu', 'scipy.linalg._matfuncs_sqrtm', 'scipy.linalg.matfuncs', 'scipy.linalg._solvers', 'scipy.linalg._procrustes', 'scipy.linalg.cython_blas', 'scipy.linalg.cython_lapack', 'scipy.linalg._decomp_update', 'scipy.sparse.sputils', 'scipy.sparse.base', 'scipy.sparse._sparsetools', 'scipy.sparse.data', 'scipy.sparse.dia', 'scipy.sparse._index', 'scipy.sparse.compressed', 'scipy.sparse.csr', 'scipy.sparse.csc', 'scipy.sparse._csparsetools', 'scipy.sparse.lil', 'scipy.sparse.dok', 'scipy.sparse.coo', 'scipy.sparse.bsr', 'scipy.sparse.construct', 'scipy.sparse.extract', 'scipy.sparse._matrix_io', 'scipy.sparse.csgraph._laplacian', 'scipy.sparse.csgraph._tools', 'scipy.sparse.csgraph._validation', 'scipy.sparse.csgraph._shortest_path', 'scipy.sparse.csgraph._traversal', 'scipy.sparse.csgraph._min_spanning_tree', 'scipy.sparse.csgraph._flow', 'scipy.sparse.csgraph._matching', 'scipy.sparse.csgraph._reordering', 'scipy.sparse.csgraph', 'scipy.sparse', 'scipy.linalg._sketches', 'scipy.linalg._decomp_cossin', 'scipy.linalg', 'statsmodels.compat.python', 'statsmodels.tools.data', 'statsmodels.tools.validation.validation', 'statsmodels.tools.validation', 'statsmodels.tools.tools', 'statsmodels.compat.pandas', 'statsmodels.tools._testing', 'statsmodels.tools', 'statsmodels.compat', 'statsmodels.iolib.openfile', 'statsmodels.iolib.foreign', 'statsmodels.iolib.table', 'statsmodels.iolib.smpickle', 'statsmodels.iolib', 'statsmodels.datasets.utils', 'statsmodels.datasets.anes96.data', 'statsmodels.datasets.anes96', 'statsmodels.datasets.cancer.data', 'statsmodels.datasets.cancer', 'statsmodels.datasets.committee.data', 'statsmodels.datasets.committee', 'statsmodels.datasets.ccard.data', 'statsmodels.datasets.ccard', 'statsmodels.datasets.copper.data', 'statsmodels.datasets.copper', 'statsmodels.datasets.cpunish.data', 'statsmodels.datasets.cpunish', 'statsmodels.datasets.elnino.data', 'statsmodels.datasets.elnino', 'statsmodels.datasets.engel.data', 'statsmodels.datasets.engel', 'statsmodels.datasets.grunfeld.data', 'statsmodels.datasets.grunfeld', 'statsmodels.datasets.interest_inflation.data', 'statsmodels.datasets.interest_inflation', 'statsmodels.datasets.longley.data', 'statsmodels.datasets.longley', 'statsmodels.datasets.macrodata.data', 'statsmodels.datasets.macrodata', 'statsmodels.datasets.modechoice.data', 'statsmodels.datasets.modechoice', 'statsmodels.datasets.nile.data', 'statsmodels.datasets.nile', 'statsmodels.datasets.randhie.data', 'statsmodels.datasets.randhie', 'statsmodels.datasets.scotland.data', 'statsmodels.datasets.scotland', 'statsmodels.datasets.spector.data', 'statsmodels.datasets.spector', 'statsmodels.datasets.stackloss.data', 'statsmodels.datasets.stackloss', 'statsmodels.datasets.star98.data', 'statsmodels.datasets.star98', 'statsmodels.datasets.strikes.data', 'statsmodels.datasets.strikes', 'statsmodels.datasets.sunspots.data', 'statsmodels.datasets.sunspots', 'statsmodels.datasets.fair.data', 'statsmodels.datasets.fair', 'statsmodels.datasets.heart.data', 'statsmodels.datasets.heart', 'statsmodels.datasets.statecrime.data', 'statsmodels.datasets.statecrime', 'statsmodels.datasets.co2.data', 'statsmodels.datasets.co2', 'statsmodels.datasets.fertility.data', 'statsmodels.datasets.fertility', 'statsmodels.datasets.china_smoking.data', 'statsmodels.datasets.china_smoking', 'statsmodels.datasets', 'scipy.spatial.ckdtree', 'scipy.spatial.kdtree', 'scipy._lib.messagestream', 'scipy.spatial.qhull', 'scipy.spatial._voronoi', 'scipy.spatial._spherical_voronoi', 'scipy._lib.decorator', 'scipy.spatial._plotutils', 'scipy.spatial._procrustes', 'scipy.spatial._distance_wrap', 'scipy.spatial._hausdorff', 'scipy.special.sf_error', 'scipy.special._ufuncs_cxx', 'scipy.special._ufuncs', 'scipy.special.specfun', 'scipy.special.orthogonal', 'scipy.special._comb', 'scipy.special._basic', 'scipy.special._logsumexp', 'scipy.special.spfun_stats', 'scipy.special._ellip_harm_2', 'scipy.special._ellip_harm', 'scipy.special._lambertw', 'scipy.special._spherical_bessel', 'scipy.special', 'scipy.spatial.distance', 'scipy.spatial._geometric_slerp', 'scipy.constants.codata', 'scipy.constants.constants', 'scipy.constants', 'scipy.spatial.transform._rotation_groups', 'scipy.spatial.transform.rotation', 'scipy.spatial.transform._rotation_spline', 'scipy.spatial.transform', 'scipy.spatial', 'scipy.ndimage._ni_support', 'scipy.ndimage._nd_image', 'scipy._lib.doccer', 'scipy.ndimage._ni_docstrings', 'scipy.ndimage.filters', 'scipy.ndimage.fourier', 'scipy.ndimage.interpolation', '_ni_label', 'scipy.ndimage._ni_label', 'scipy.ndimage.morphology', 'scipy.ndimage.measurements', 'scipy.ndimage', 'scipy.stats._distr_params', 'scipy.optimize.minpack2', 'scipy.optimize.linesearch', 'scipy.sparse.linalg.isolve._iterative', 'scipy.sparse.linalg.interface', 'scipy.sparse.linalg.isolve.utils', 'scipy._lib._threadsafety', 'scipy.sparse.linalg.isolve.iterative', 'scipy.sparse.linalg.isolve.minres', 'scipy.sparse.linalg.isolve._gcrotmk', 'scipy.sparse.linalg.isolve.lgmres', 'scipy.sparse.linalg.isolve.lsqr', 'scipy.sparse.linalg.isolve.lsmr', 'scipy.sparse.linalg.isolve', 'scipy.sparse.linalg.dsolve._superlu', 'scipy.sparse.linalg.dsolve.linsolve', 'scipy.sparse.linalg.dsolve._add_newdocs', 'scipy.sparse.linalg.dsolve', 'scipy.sparse.linalg.eigen.arpack._arpack', 'scipy.sparse.linalg.eigen.lobpcg.lobpcg', 'scipy.sparse.linalg.eigen.lobpcg', 'scipy.sparse.linalg.eigen.arpack.arpack', 'scipy.sparse.linalg.eigen.arpack', 'scipy.sparse.linalg.eigen', 'scipy.sparse.linalg._expm_multiply', 'scipy.sparse.linalg.matfuncs', 'scipy.sparse.linalg._onenormest', 'scipy.sparse.linalg._norm', 'scipy.sparse.linalg', 'scipy.optimize._group_columns', 'scipy.optimize._numdiff', 'scipy.optimize._hessian_update_strategy', 'scipy.optimize._differentiable_functions', 'scipy.optimize.optimize', 'scipy.optimize._trustregion', 'scipy.optimize._trustregion_dogleg', 'scipy.optimize._trustregion_ncg', 'scipy.optimize._trlib._trlib', 'scipy.optimize._trlib', 'scipy.optimize._trustregion_krylov', 'scipy.optimize._trustregion_exact', 'scipy.optimize._constraints', 'scipy.optimize._trustregion_constr.projections', 'scipy.optimize._trustregion_constr.qp_subproblem', 'scipy.optimize._trustregion_constr.equality_constrained_sqp', 'scipy.optimize._trustregion_constr.canonical_constraint', 'scipy.optimize._trustregion_constr.tr_interior_point', 'scipy.optimize._trustregion_constr.report', 'scipy.optimize._trustregion_constr.minimize_trustregion_constr', 'scipy.optimize._trustregion_constr', 'scipy.optimize._lbfgsb', 'scipy.optimize.lbfgsb', 'scipy.optimize.moduleTNC', 'scipy.optimize.tnc', 'scipy.optimize._cobyla', 'scipy.optimize.cobyla', 'scipy.optimize._slsqp', 'scipy.optimize.slsqp', 'scipy.optimize._minimize', 'scipy.optimize._minpack', 'scipy.optimize._lsq.common', 'scipy.optimize._lsq.trf', 'scipy.optimize._lsq.dogbox', 'scipy.optimize._lsq.least_squares', 'scipy.optimize._lsq.givens_elimination', 'scipy.optimize._lsq.trf_linear', 'scipy.optimize._lsq.bvls', 'scipy.optimize._lsq.lsq_linear', 'scipy.optimize._lsq', 'scipy.optimize.minpack', 'scipy.optimize._spectral', 'scipy.optimize.nonlin', 'scipy.optimize._root', 'scipy.optimize._zeros', 'scipy.optimize.zeros', 'scipy.optimize._root_scalar', 'scipy.optimize.__nnls', 'scipy.optimize._nnls', 'scipy.optimize._basinhopping', 'scipy.optimize._highs', 'scipy.optimize._highs.cython.src._highs_wrapper', 'scipy.optimize._highs._highs_wrapper', 'scipy.optimize._highs.cython.src._highs_constants', 'scipy.optimize._highs._highs_constants', 'scipy.optimize._linprog_highs', 'scipy.linalg._interpolative', 'scipy.linalg._interpolative_backend', 'scipy.linalg.interpolative', 'scipy.optimize._remove_redundancy', 'scipy.optimize._linprog_util', 'scipy.optimize._linprog_ip', 'scipy.optimize._linprog_simplex', 'scipy.optimize._bglu_dense', 'scipy.optimize._linprog_rs', 'scipy.optimize._linprog_doc', 'scipy.optimize._linprog', 'scipy.optimize._lsap_module', 'scipy.optimize._lsap', 'scipy.optimize._differentialevolution', 'scipy.optimize._shgo_lib', 'scipy.optimize._shgo_lib.sobol_seq', 'scipy.optimize._shgo_lib.triangulation', 'scipy.optimize._shgo', 'scipy.optimize._dual_annealing', 'scipy.optimize._qap', 'scipy.optimize', 'scipy.integrate._quadrature', 'scipy.integrate._odepack', 'scipy.integrate.odepack', 'scipy.integrate._quadpack', 'scipy.integrate.quadpack', 'scipy.integrate.vode', 'scipy.integrate._dop', 'scipy.integrate.lsoda', 'scipy.integrate._ode', 'scipy.integrate._bvp', 'scipy.integrate._ivp.common', 'scipy.integrate._ivp.base', 'scipy.integrate._ivp.bdf', 'scipy.integrate._ivp.radau', 'scipy.integrate._ivp.dop853_coefficients', 'scipy.integrate._ivp.rk', 'scipy.integrate._ivp.lsoda', 'scipy.integrate._ivp.ivp', 'scipy.integrate._ivp', 'scipy.integrate._quad_vec', 'scipy.integrate', 'scipy.misc.doccer', 'scipy.misc.common', 'scipy.misc', 'scipy.stats._constants', 'scipy.stats._distn_infrastructure', 'scipy.interpolate._fitpack', 'scipy.interpolate.dfitpack', 'scipy.interpolate._fitpack_impl', 'scipy.interpolate._bspl', 'scipy.interpolate._bsplines', 'scipy.interpolate.fitpack', 'scipy.interpolate.polyint', 'scipy.interpolate._ppoly', 'scipy.interpolate.fitpack2', 'scipy.interpolate.interpnd', 'scipy.interpolate.interpolate', 'scipy.interpolate.rbf', 'scipy.interpolate._cubic', 'scipy.interpolate.ndgriddata', 'scipy.interpolate._pade', 'scipy.interpolate', 'scipy.special.cython_special', 'scipy.stats._stats', 'scipy.stats._rvs_sampling', 'scipy.stats._tukeylambda_stats', 'scipy.stats._ksstats', 'scipy.stats._continuous_distns', 'scipy.stats._discrete_distns', 'scipy.stats.distributions', 'scipy._lib._bunch', 'scipy.stats._stats_mstats_common', 'scipy.stats.mstats_basic', 'scipy.stats._wilcoxon_data', 'scipy.stats._hypotests', 'scipy.stats.stats', 'scipy.stats.statlib', 'scipy.stats.contingency', 'scipy.stats.morestats', 'scipy.stats._binned_statistic', 'scipy.stats.mvn', 'scipy.stats.kde', 'scipy.stats.mstats_extras', 'scipy.stats.mstats', 'scipy.stats._multivariate', 'scipy.stats', 'statsmodels.tools.sm_exceptions', 'statsmodels.tools.decorators', 'statsmodels.base', 'statsmodels.base.data', 'statsmodels.stats', 'statsmodels.iolib.tableformatting', 'statsmodels.iolib.summary2', 'statsmodels.stats._knockoff', 'statsmodels.stats.multitest', 'statsmodels.stats.contrast', 'statsmodels.base.wrapper', 'statsmodels.tools.numdiff', 'patsy.version', 'patsy.origin', 'patsy.compat', 'patsy.util', 'patsy.infix_parser', 'patsy.tokens', 'patsy.parse_formula', 'patsy.constraint', 'patsy.contrasts', 'patsy.categorical', 'patsy.state', 'patsy.splines', 'patsy.mgcv_cubic_splines', 'patsy.builtins', 'patsy.eval', 'patsy.desc', 'patsy.design_info', 'patsy.redundancy', 'patsy.missing', 'patsy.build', 'patsy.highlevel', 'patsy.user_util', 'patsy', 'statsmodels.formula.formulatools', 'statsmodels.formula', 'statsmodels.base.optimizer', 'statsmodels.base.model', 'statsmodels.emplike', 'statsmodels.graphics', 'statsmodels.graphics.utils', 'statsmodels.emplike.descriptive', 'statsmodels.emplike.elregress', 'statsmodels.regression._prediction', 'statsmodels.regression.linear_model', 'statsmodels.regression', 'statsmodels.tsa', 'statsmodels.tsa.statespace', 'statsmodels.tools.eval_measures', 'statsmodels.tsa.base', 'statsmodels.tsa.base.prediction', 'statsmodels.tsa.base.tsa_model', 'statsmodels.iolib.summary', 'statsmodels.tsa.statespace.news', 'statsmodels.tsa.statespace._tools', 'statsmodels.tsa.statespace._representation', 'statsmodels.tsa.statespace._initialization', 'statsmodels.tsa.statespace._filters', 'statsmodels.tsa.statespace._filters._conventional', 'statsmodels.tsa.statespace._filters._univariate', 'statsmodels.tsa.statespace._filters._univariate_diffuse', 'statsmodels.tsa.statespace._filters._inversions', 'statsmodels.tsa.statespace._kalman_filter', 'statsmodels.tsa.statespace._smoothers', 'statsmodels.tsa.statespace._smoothers._conventional', 'statsmodels.tsa.statespace._smoothers._univariate', 'statsmodels.tsa.statespace._smoothers._univariate_diffuse', 'statsmodels.tsa.statespace._smoothers._classical', 'statsmodels.tsa.statespace._smoothers._alternative', 'statsmodels.tsa.statespace._kalman_smoother', 'statsmodels.tsa.statespace._simulation_smoother', 'statsmodels.tsa.statespace._cfa_simulation_smoother', 'statsmodels.tsa.statespace.tools', 'statsmodels.tsa.statespace.initialization', 'statsmodels.tsa.statespace.representation', 'statsmodels.tsa.statespace.kalman_filter', 'statsmodels.tsa.statespace.kalman_smoother', 'statsmodels.tsa.statespace.cfa_simulation_smoother', 'statsmodels.tsa.statespace.simulation_smoother', 'statsmodels.tsa.statespace.mlemodel', 'statsmodels.regression.recursive_ls', 'statsmodels.regression.quantile_regression', 'statsmodels.base._penalties', 'statsmodels.regression.mixed_linear_model', 'statsmodels.genmod', 'statsmodels.genmod.families.links', 'statsmodels.genmod.families.varfuncs', 'statsmodels.genmod.families.family', 'statsmodels.genmod.families', 'statsmodels.regression._tools', 'statsmodels.graphics._regressionplots_doc', 'statsmodels.genmod._prediction', 'statsmodels.genmod.generalized_linear_model', 'statsmodels.stats.correlation_tools', 'statsmodels.genmod.cov_struct', 'statsmodels.discrete', 'statsmodels.discrete.discrete_margins', 'statsmodels.genmod.generalized_estimating_equations', 'statsmodels.genmod.bayes_mixed_glm', 'statsmodels.genmod.api', 'statsmodels.robust.norms', 'statsmodels.robust._qn', 'statsmodels.robust.scale', 'statsmodels.robust', 'statsmodels.robust.robust_linear_model', 'statsmodels.base.l1_solvers_common', 'statsmodels.base.l1_slsqp', 'statsmodels.distributions.empirical_distribution', 'statsmodels.distributions.edgeworth', 'statsmodels.compat.scipy', 'statsmodels.distributions.discrete', 'statsmodels.distributions', 'statsmodels.discrete.discrete_model', 'statsmodels.discrete.count_model', 'statsmodels.tools.docstring', 'scipy.signal.sigtools', 'scipy._lib._uarray._uarray', 'scipy._lib._uarray._backend', 'scipy._lib._uarray', 'scipy._lib.uarray', 'scipy.fft._basic', 'scipy.fft._realtransforms', 'scipy.fft._pocketfft.pypocketfft', 'scipy.fft._pocketfft.helper', 'scipy.fft._pocketfft.basic', 'scipy.fft._pocketfft.realtransforms', 'scipy.fft._pocketfft', 'scipy.fft._helper', 'scipy.fft._backend', 'scipy.fft', 'scipy.signal.windows.windows', 'scipy.signal.windows', 'scipy.signal.waveforms', 'scipy.signal._max_len_seq_inner', 'scipy.signal._max_len_seq', 'scipy.signal._upfirdn_apply', 'scipy.signal._upfirdn', 'scipy.signal.spline', 'scipy.signal.bsplines', 'scipy.signal.filter_design', 'scipy.signal.fir_filter_design', 'scipy.signal.lti_conversion', 'scipy.signal.ltisys', 'scipy.signal._arraytools', 'scipy.signal._sosfilt', 'scipy.signal.signaltools', 'scipy.signal._savitzky_golay', 'scipy.signal._spectral', 'scipy.signal.spectral', 'scipy.signal.wavelets', 'scipy.signal._peak_finding_utils', 'scipy.signal._peak_finding', 'scipy.signal', 'statsmodels.tsa.arima_process', 'statsmodels.compat.numpy', 'statsmodels.tsa.tsatools', 'statsmodels.tsa.deterministic', 'statsmodels.tsa.kalmanf.kalman_loglike', 'statsmodels.tsa.kalmanf.kalmanfilter', 'statsmodels.tsa.kalmanf', 'statsmodels.tsa.vector_ar', 'statsmodels.tsa.vector_ar.util', 'statsmodels.tsa.ar_model', 'statsmodels.tsa.arima', 'statsmodels.tsa.arima.tools', 'statsmodels.tsa.arima.specification', 'statsmodels.tsa.arima.params', 'statsmodels.tsa.statespace.sarimax', 'statsmodels.tsa.arima.estimators', 'statsmodels.tsa.arima.estimators.yule_walker', 'statsmodels.tsa.arima.estimators.burg', 'statsmodels.tsa.arima.estimators.hannan_rissanen', 'statsmodels.tsa.innovations', 'statsmodels.tsa.innovations._arma_innovations', 'statsmodels.tsa.innovations.arma_innovations', 'statsmodels.tsa._bds', 'statsmodels.tsa._innovations', 'statsmodels.tsa.adfvalues', 'statsmodels.tsa.arima_model', 'statsmodels.tsa.stattools', 'statsmodels.tsa.arima.estimators.innovations', 'statsmodels.tsa.arima.estimators.statespace', 'statsmodels.tsa.arima.estimators.gls', 'statsmodels.tsa.arima.model', 'statsmodels.tsa.arima.api', 'statsmodels.tools.linalg', 'statsmodels.tsa.vector_ar.output', 'statsmodels.tsa.vector_ar.plotting', 'statsmodels.tsa.vector_ar.hypothesis_test_results', 'statsmodels.tsa.vector_ar.irf', 'statsmodels.tsa.vector_ar.var_model', 'statsmodels.tsa.coint_tables', 'statsmodels.tsa.vector_ar.vecm', 'statsmodels.tsa.vector_ar.svar_model', 'statsmodels.tsa.filters', 'statsmodels.tsa.filters.bk_filter', 'statsmodels.tsa.filters.hp_filter', 'statsmodels.tsa.filters.cf_filter', 'scipy.fftpack.helper', 'scipy.fftpack.basic', 'scipy.fftpack.convolve', 'scipy.fftpack.pseudo_diffs', 'scipy.fftpack.realtransforms', 'scipy.fftpack', 'statsmodels.tsa.filters.filtertools', 'statsmodels.tsa.filters.api', 'statsmodels.tsa.interp.denton', 'statsmodels.tsa.interp', 'statsmodels.tsa.base.datetools', 'statsmodels.tsa._stl', 'statsmodels.tsa.seasonal', 'statsmodels.graphics.tsaplots', 'statsmodels.tsa.x13', 'statsmodels.tsa.exponential_smoothing', 'statsmodels.tsa.exponential_smoothing.initialization', 'statsmodels.tsa.statespace.exponential_smoothing', 'statsmodels.tsa.statespace.api', 'statsmodels.tsa.statespace.structural', 'statsmodels.tsa.statespace.varmax', 'statsmodels.multivariate', 'statsmodels.multivariate.pca', 'statsmodels.tsa.statespace.dynamic_factor', 'statsmodels.tsa.statespace._quarterly_ar1', 'statsmodels.tsa.statespace.dynamic_factor_mq', 'statsmodels.tsa.regime_switching', 'statsmodels.tsa.regime_switching._hamilton_filter', 'statsmodels.tsa.regime_switching._kim_smoother', 'statsmodels.tsa.regime_switching.markov_switching', 'statsmodels.tsa.regime_switching.markov_regression', 'statsmodels.tsa.regime_switching.markov_autoregression', 'statsmodels.base.covtype', 'statsmodels.tsa.exponential_smoothing.base', 'statsmodels.tsa.exponential_smoothing._ets_smooth', 'statsmodels.tsa.exponential_smoothing.ets', 'statsmodels.tsa.holtwinters._exponential_smoothers', 'statsmodels.tsa.holtwinters._smoothers', 'statsmodels.tsa.holtwinters.results', 'statsmodels.tsa.holtwinters.model', 'statsmodels.tsa.holtwinters', 'statsmodels.tsa.innovations.api', 'statsmodels.tsa.forecasting', 'statsmodels.tsa.forecasting.stl', 'statsmodels.tsa.api', 'statsmodels.duration', 'statsmodels.duration.survfunc', 'statsmodels.duration.hazard_regression', 'statsmodels.imputation', 'statsmodels.imputation.mice', 'statsmodels.imputation.bayes_mi', 'statsmodels.nonparametric', 'statsmodels.sandbox', 'statsmodels.sandbox.nonparametric', 'statsmodels.sandbox.nonparametric.kernels', 'statsmodels.nonparametric.bandwidths', 'statsmodels.nonparametric.kdetools', 'statsmodels.nonparametric.linbin', 'statsmodels.nonparametric.kde', 'statsmodels.nonparametric._smoothers_lowess', 'statsmodels.nonparametric.smoothers_lowess', 'statsmodels.nonparametric.kernels', 'joblib.hashing', 'multiprocessing.process', 'multiprocessing.reduction', 'multiprocessing.context', '__mp_main__', 'multiprocessing', 'multiprocessing.util', 'joblib.disk', 'joblib.logger', 'joblib.func_inspect', 'joblib.backports', 'joblib.compressor', 'joblib.numpy_pickle_utils', 'joblib.numpy_pickle_compat', 'joblib.numpy_pickle', 'joblib._store_backends', 'joblib.memory', '_multiprocessing', 'joblib._multiprocessing_helpers', 'joblib._deprecated_my_exceptions', 'joblib.my_exceptions', 'joblib.externals', 'joblib.externals.loky._base', 'multiprocessing.connection', 'joblib.externals.loky.backend.compat_posix', 'joblib.externals.loky.backend.compat', 'joblib.externals.loky.backend.process', 'joblib.externals.loky.backend.context', 'multiprocessing.synchronize', 'joblib.externals.loky.backend', 'joblib.externals.loky.backend._posix_reduction', 'joblib.externals.cloudpickle.compat', 'joblib.externals.cloudpickle.cloudpickle', 'joblib.externals.cloudpickle.cloudpickle_fast', 'joblib.externals.cloudpickle', 'joblib.externals.loky.backend.reduction', 'multiprocessing.queues', 'joblib.externals.loky.backend.queues', 'joblib.externals.loky.backend.utils', 'concurrent.futures.process', 'joblib.externals.loky.process_executor', 'joblib.externals.loky.reusable_executor', 'joblib.externals.loky.cloudpickle_wrapper', 'joblib.externals.loky', 'joblib.externals.loky.backend.spawn', 'joblib.externals.loky.backend.resource_tracker', 'joblib._memmapping_reducer', 'multiprocessing.pool', 'joblib.pool', 'joblib.executor', 'joblib._parallel_backends', 'joblib.parallel', 'joblib', 'statsmodels.nonparametric._kernel_base', 'statsmodels.nonparametric.kernel_density', 'statsmodels.nonparametric.kernel_regression', 'statsmodels.nonparametric.api', 'statsmodels.__init__', 'statsmodels.gam', 'statsmodels.base._penalized', 'statsmodels.gam.gam_penalties', 'statsmodels.gam.gam_cross_validation', 'statsmodels.gam.smooth_basis', 'statsmodels.gam.gam_cross_validation.gam_cross_validation', 'statsmodels.gam.gam_cross_validation.cross_validators', 'statsmodels.gam.generalized_additive_model', 'statsmodels.gam.api', 'statsmodels.graphics.gofplots', 'statsmodels.graphics.functional', 'statsmodels.graphics.correlation', 'statsmodels.graphics.boxplots', 'statsmodels.sandbox.regression', 'statsmodels.sandbox.regression.predstd', 'statsmodels.graphics.regressionplots', 'statsmodels.graphics.plottools', 'statsmodels.graphics.factorplots', 'statsmodels.graphics.agreement', 'statsmodels.graphics.api', 'statsmodels.stats._lilliefors_critical_values', 'statsmodels.stats.tabledist', 'statsmodels.stats._lilliefors', 'statsmodels.stats._adnorm', 'statsmodels.stats.diagnostic', 'statsmodels.sandbox.stats', 'statsmodels.sandbox.stats.multicomp', 'statsmodels.stats.multicomp', 'statsmodels.stats.gof', 'statsmodels.stats.stattools', 'statsmodels.tools.grouputils', 'statsmodels.stats.moment_helpers', 'statsmodels.stats.sandwich_covariance', 'statsmodels.stats.weightstats', 'statsmodels.tools.testing', 'statsmodels.stats.base', 'statsmodels.stats.proportion', 'statsmodels.tools.rootfinding', 'statsmodels.stats.power', 'statsmodels.stats.descriptivestats', 'statsmodels.stats.anova', 'statsmodels.stats.oaxaca', 'statsmodels.sandbox.stats.runs', 'statsmodels.stats.contingency_tables', 'statsmodels.stats.mediation', 'statsmodels.stats.api', 'statsmodels.emplike.originregress', 'statsmodels.emplike.elanova', 'statsmodels.emplike.aft_el', 'statsmodels.emplike.api', 'statsmodels.duration.api', 'statsmodels.multivariate.multivariate_ols', 'statsmodels.multivariate.manova', 'statsmodels.multivariate.factor_rotation._analytic_rotation', 'statsmodels.multivariate.factor_rotation._gpa_rotation', 'statsmodels.multivariate.factor_rotation._wrappers', 'statsmodels.multivariate.factor_rotation', 'statsmodels.multivariate.factor', 'statsmodels.multivariate.cancorr', 'statsmodels.multivariate.api', 'statsmodels.formula.api', 'statsmodels.tools.print_version', 'webbrowser', 'statsmodels.tools.web', 'statsmodels.api', 'sklearn._config', 'sklearn._distributor_init', 'sklearn.__check_build._check_build', 'sklearn.__check_build', 'sklearn.utils.murmurhash', 'sklearn.utils.deprecation', 'pkg_resources.extern', 'pkg_resources._vendor', 'pkg_resources._vendor.appdirs', 'pkg_resources.extern.appdirs', 'pkg_resources._vendor.packaging.__about__', 'pkg_resources._vendor.packaging', 'pkg_resources.extern.packaging', 'pkg_resources.extern.packaging._structures', 'pkg_resources.extern.packaging._typing', 'pkg_resources.extern.packaging.version', 'pkg_resources.extern.packaging._compat', 'pkg_resources.extern.packaging.utils', 'pkg_resources.extern.packaging.specifiers', 'pkg_resources._vendor.pyparsing', 'pkg_resources.extern.pyparsing', 'pkg_resources.extern.packaging.markers', 'pkg_resources.extern.packaging.requirements', 'pkg_resources', 'sklearn.utils.fixes', 'sklearn.exceptions', 'sklearn.utils.validation', 'sklearn.utils.class_weight', 'sklearn.utils._joblib', 'sklearn.utils._estimator_html_repr', 'sklearn.utils', 'sklearn.utils._tags', 'sklearn.base', 'sklearn.utils._openmp_helpers', 'sklearn.utils._show_versions', 'sklearn', 'sklearn.utils._logistic_sigmoid', 'sklearn.utils.sparsefuncs_fast', 'sklearn.utils.extmath', 'sklearn.utils.sparsefuncs', 'sklearn.utils._random', 'sklearn.utils._seq_dataset', 'sklearn.preprocessing._function_transformer', 'sklearn.preprocessing._csr_polynomial_expansion', 'sklearn.utils._encode', 'sklearn.preprocessing._encoders', 'sklearn.preprocessing._data', 'sklearn.utils.multiclass', 'sklearn.preprocessing._label', 'sklearn.preprocessing._discretization', 'sklearn.preprocessing', 'sklearn.linear_model._base', 'sklearn.linear_model._bayes', 'sklearn.utils._cython_blas', 'sklearn.utils.arrayfuncs', 'sklearn.model_selection._split', 'sklearn.utils.metaestimators', 'sklearn.metrics._base', 'sklearn.metrics._ranking', 'sklearn.metrics._classification', 'sklearn.metrics.cluster._expected_mutual_info_fast', 'sklearn.metrics.cluster._supervised', 'sklearn.utils._mask', 'sklearn.metrics._pairwise_fast', 'sklearn.metrics.pairwise', 'sklearn.metrics.cluster._unsupervised', 'sklearn.metrics.cluster._bicluster', 'sklearn.metrics.cluster', 'sklearn._loss', 'sklearn._loss.glm_distribution', 'sklearn.utils.stats', 'sklearn.metrics._regression', 'sklearn.metrics._scorer', 'sklearn.metrics._plot', 'sklearn.metrics._plot.base', 'sklearn.metrics._plot.det_curve', 'sklearn.metrics._plot.roc_curve', 'sklearn.metrics._plot.precision_recall_curve', 'sklearn.metrics._plot.confusion_matrix', 'sklearn.metrics', 'sklearn.model_selection._validation', 'sklearn.utils.random', 'sklearn.model_selection._search', 'sklearn.model_selection', 'sklearn.linear_model._least_angle', 'sklearn.linear_model._cd_fast', 'sklearn.linear_model._coordinate_descent', 'sklearn.utils.optimize', 'sklearn.linear_model._glm.link', 'sklearn.linear_model._glm.glm', 'sklearn.linear_model._glm', 'sklearn.linear_model._huber', 'sklearn.utils._weight_vector', 'sklearn.linear_model._sgd_fast', 'sklearn.linear_model._stochastic_gradient', 'sklearn.linear_model._sag_fast', 'sklearn.linear_model._sag', 'sklearn.linear_model._ridge', 'sklearn.svm._libsvm', 'sklearn.svm._liblinear', 'sklearn.svm._libsvm_sparse', 'sklearn.svm._base', 'sklearn.svm._classes', 'sklearn.svm._bounds', 'sklearn.svm', 'sklearn.linear_model._logistic', 'sklearn.linear_model._omp', 'sklearn.linear_model._passive_aggressive', 'sklearn.linear_model._perceptron', 'sklearn.linear_model._ransac', 'sklearn.linear_model._theil_sen', 'sklearn.linear_model', 'configparser', 'importlib.metadata', 'sqlalchemy.util.compat', 'sqlalchemy.cimmutabledict', 'sqlalchemy.util._collections', 'sqlalchemy.util._preloaded', 'greenlet._greenlet', 'greenlet', 'sqlalchemy.exc', 'sqlalchemy.util._concurrency_py3k', 'sqlalchemy.util.concurrency', 'sqlalchemy.util.langhelpers', 'sqlalchemy.util.deprecations', 'sqlalchemy.util', 'sqlalchemy.sql.roles', 'sqlalchemy.sql.operators', 'sqlalchemy.sql.visitors', 'sqlalchemy.inspection', 'sqlalchemy.sql.traversals', 'sqlalchemy.sql.base', 'sqlalchemy.sql.coercions', 'sqlalchemy.sql.type_api', 'sqlalchemy.sql.annotation', 'sqlalchemy.sql.elements', 'sqlalchemy.event.legacy', 'sqlalchemy.event.registry', 'sqlalchemy.event.attr', 'sqlalchemy.event.base', 'sqlalchemy.event.api', 'sqlalchemy.event', 'sqlalchemy.cprocessors', 'sqlalchemy.processors', 'sqlalchemy.sql.sqltypes', 'sqlalchemy.types', 'sqlalchemy.util.topological', 'sqlalchemy.sql.ddl', 'sqlalchemy.sql.selectable', 'sqlalchemy.sql.schema', 'sqlalchemy.sql.util', 'sqlalchemy.sql.dml', 'sqlalchemy.sql.crud', 'sqlalchemy.sql.functions', 'sqlalchemy.sql.compiler', 'sqlalchemy.sql.lambdas', 'sqlalchemy.sql.expression', 'sqlalchemy.sql.events', 'sqlalchemy.sql.naming', 'sqlalchemy.sql.default_comparator', 'sqlalchemy.sql', 'sqlalchemy.engine.interfaces', 'sqlalchemy.engine.util', 'sqlalchemy.log', 'sqlalchemy.engine.base', 'sqlalchemy.engine.events', 'sqlalchemy.dialects', 'sqlalchemy.engine.url', 'sqlalchemy.engine.mock', 'sqlalchemy.pool.base', 'sqlalchemy.pool.events', 'sqlalchemy.util.queue', 'sqlalchemy.pool.impl', 'sqlalchemy.pool.dbapi_proxy', 'sqlalchemy.pool', 'sqlalchemy.engine.create', 'sqlalchemy.cresultproxy', 'sqlalchemy.engine.row', 'sqlalchemy.engine.result', 'sqlalchemy.engine.cursor', 'sqlalchemy.engine.reflection', 'sqlalchemy.engine', 'sqlalchemy.schema', 'sqlalchemy.events', 'sqlalchemy.engine.characteristics', 'sqlalchemy.engine.default', 'sqlalchemy', 'pandasql.sqldf', 'pandasql'])"
      ]
     },
     "execution_count": 4,
     "metadata": {},
     "output_type": "execute_result"
    }
   ],
   "source": []
  },
  {
   "cell_type": "code",
   "execution_count": 3,
   "id": "30d31a96",
   "metadata": {},
   "outputs": [],
   "source": [
    "# Set notebook environment\n",
    "pysqldf = lambda q: sqldf(q, globals())\n",
    "%precision %.2f\n",
    "pd.options.display.float_format = '{:,.2f}'.format\n",
    "plt.rcParams[\"figure.figsize\"] = 10,8"
   ]
  },
  {
   "cell_type": "code",
   "execution_count": 4,
   "id": "10e3d959",
   "metadata": {},
   "outputs": [
    {
     "data": {
      "text/html": [
       "<div>\n",
       "<style scoped>\n",
       "    .dataframe tbody tr th:only-of-type {\n",
       "        vertical-align: middle;\n",
       "    }\n",
       "\n",
       "    .dataframe tbody tr th {\n",
       "        vertical-align: top;\n",
       "    }\n",
       "\n",
       "    .dataframe thead th {\n",
       "        text-align: right;\n",
       "    }\n",
       "</style>\n",
       "<table border=\"1\" class=\"dataframe\">\n",
       "  <thead>\n",
       "    <tr style=\"text-align: right;\">\n",
       "      <th></th>\n",
       "      <th>customer_id</th>\n",
       "      <th>purchase_amount</th>\n",
       "      <th>date_of_purchase</th>\n",
       "    </tr>\n",
       "  </thead>\n",
       "  <tbody>\n",
       "    <tr>\n",
       "      <th>4510</th>\n",
       "      <td>8060</td>\n",
       "      <td>30.00</td>\n",
       "      <td>2014-12-24</td>\n",
       "    </tr>\n",
       "    <tr>\n",
       "      <th>17761</th>\n",
       "      <td>109180</td>\n",
       "      <td>50.00</td>\n",
       "      <td>2009-11-25</td>\n",
       "    </tr>\n",
       "    <tr>\n",
       "      <th>39110</th>\n",
       "      <td>9830</td>\n",
       "      <td>30.00</td>\n",
       "      <td>2007-06-12</td>\n",
       "    </tr>\n",
       "    <tr>\n",
       "      <th>37183</th>\n",
       "      <td>56400</td>\n",
       "      <td>60.00</td>\n",
       "      <td>2009-09-30</td>\n",
       "    </tr>\n",
       "    <tr>\n",
       "      <th>33705</th>\n",
       "      <td>41290</td>\n",
       "      <td>60.00</td>\n",
       "      <td>2007-08-21</td>\n",
       "    </tr>\n",
       "  </tbody>\n",
       "</table>\n",
       "</div>"
      ],
      "text/plain": [
       "       customer_id  purchase_amount date_of_purchase\n",
       "4510          8060            30.00       2014-12-24\n",
       "17761       109180            50.00       2009-11-25\n",
       "39110         9830            30.00       2007-06-12\n",
       "37183        56400            60.00       2009-09-30\n",
       "33705        41290            60.00       2007-08-21"
      ]
     },
     "execution_count": 4,
     "metadata": {},
     "output_type": "execute_result"
    }
   ],
   "source": [
    "# Load text file into a local variable\n",
    "columns = ['customer_id', 'purchase_amount', 'date_of_purchase']\n",
    "df = pd.read_csv('purchases.txt', header=None, sep='\\t',\n",
    "            names=columns)\n",
    "df.sample(n=5, random_state=57)"
   ]
  },
  {
   "cell_type": "code",
   "execution_count": 5,
   "id": "f6e33568",
   "metadata": {},
   "outputs": [
    {
     "data": {
      "text/html": [
       "<div>\n",
       "<style scoped>\n",
       "    .dataframe tbody tr th:only-of-type {\n",
       "        vertical-align: middle;\n",
       "    }\n",
       "\n",
       "    .dataframe tbody tr th {\n",
       "        vertical-align: top;\n",
       "    }\n",
       "\n",
       "    .dataframe thead th {\n",
       "        text-align: right;\n",
       "    }\n",
       "</style>\n",
       "<table border=\"1\" class=\"dataframe\">\n",
       "  <thead>\n",
       "    <tr style=\"text-align: right;\">\n",
       "      <th></th>\n",
       "      <th>customer_id</th>\n",
       "      <th>purchase_amount</th>\n",
       "      <th>date_of_purchase</th>\n",
       "      <th>year_of_purchase</th>\n",
       "    </tr>\n",
       "  </thead>\n",
       "  <tbody>\n",
       "    <tr>\n",
       "      <th>0</th>\n",
       "      <td>760</td>\n",
       "      <td>25.00</td>\n",
       "      <td>2009-11-06</td>\n",
       "      <td>2009</td>\n",
       "    </tr>\n",
       "    <tr>\n",
       "      <th>1</th>\n",
       "      <td>860</td>\n",
       "      <td>50.00</td>\n",
       "      <td>2012-09-28</td>\n",
       "      <td>2012</td>\n",
       "    </tr>\n",
       "    <tr>\n",
       "      <th>2</th>\n",
       "      <td>1200</td>\n",
       "      <td>100.00</td>\n",
       "      <td>2005-10-25</td>\n",
       "      <td>2005</td>\n",
       "    </tr>\n",
       "    <tr>\n",
       "      <th>3</th>\n",
       "      <td>1420</td>\n",
       "      <td>50.00</td>\n",
       "      <td>2009-07-09</td>\n",
       "      <td>2009</td>\n",
       "    </tr>\n",
       "    <tr>\n",
       "      <th>4</th>\n",
       "      <td>1940</td>\n",
       "      <td>70.00</td>\n",
       "      <td>2013-01-25</td>\n",
       "      <td>2013</td>\n",
       "    </tr>\n",
       "  </tbody>\n",
       "</table>\n",
       "</div>"
      ],
      "text/plain": [
       "   customer_id  purchase_amount date_of_purchase  year_of_purchase\n",
       "0          760            25.00       2009-11-06              2009\n",
       "1          860            50.00       2012-09-28              2012\n",
       "2         1200           100.00       2005-10-25              2005\n",
       "3         1420            50.00       2009-07-09              2009\n",
       "4         1940            70.00       2013-01-25              2013"
      ]
     },
     "execution_count": 5,
     "metadata": {},
     "output_type": "execute_result"
    }
   ],
   "source": [
    "# interpret the last column as datetime\n",
    "df['date_of_purchase'] = pd.to_datetime(df['date_of_purchase'], \n",
    "                                        format='%Y-%m-%d')\n",
    "# Extract year of purchase and save it as a column\n",
    "df['year_of_purchase'] = df['date_of_purchase'].dt.year\n",
    "df.head()"
   ]
  },
  {
   "cell_type": "code",
   "execution_count": 6,
   "id": "41b8ef4e",
   "metadata": {},
   "outputs": [],
   "source": [
    "# Add a day_since column showing the difference between last purchase and a basedate\n",
    "basedate = pd.Timestamp('2016-01-01')\n",
    "df['days_since'] = (basedate - df['date_of_purchase']).dt.days"
   ]
  },
  {
   "cell_type": "code",
   "execution_count": 7,
   "id": "b2375709",
   "metadata": {},
   "outputs": [
    {
     "name": "stdout",
     "output_type": "stream",
     "text": [
      "<class 'pandas.core.frame.DataFrame'>\n",
      "RangeIndex: 51243 entries, 0 to 51242\n",
      "Data columns (total 5 columns):\n",
      " #   Column            Non-Null Count  Dtype         \n",
      "---  ------            --------------  -----         \n",
      " 0   customer_id       51243 non-null  int64         \n",
      " 1   purchase_amount   51243 non-null  float64       \n",
      " 2   date_of_purchase  51243 non-null  datetime64[ns]\n",
      " 3   year_of_purchase  51243 non-null  int64         \n",
      " 4   days_since        51243 non-null  int64         \n",
      "dtypes: datetime64[ns](1), float64(1), int64(3)\n",
      "memory usage: 2.0 MB\n"
     ]
    }
   ],
   "source": [
    "df.info()"
   ]
  },
  {
   "cell_type": "markdown",
   "id": "d78abf7c",
   "metadata": {},
   "source": [
    "## 2014 - Data"
   ]
  },
  {
   "cell_type": "code",
   "execution_count": 8,
   "id": "c9cea851",
   "metadata": {},
   "outputs": [],
   "source": [
    "# Compute RFM variables as of a year ago using SQL\n",
    "q = \"\"\"\n",
    "        SELECT customer_id,\n",
    "        MIN(days_since) - 365 AS 'recency',\n",
    "        MAX(days_since) - 365 AS 'first_purchase',\n",
    "        COUNT(*) AS 'frequency',\n",
    "        AVG(purchase_amount) AS 'amount'\n",
    "        FROM df\n",
    "        WHERE days_since > 365\n",
    "        GROUP BY 1\"\"\"\n",
    "\n",
    "customers_2014 = sqldf(q)"
   ]
  },
  {
   "cell_type": "code",
   "execution_count": 9,
   "id": "0c8155cb",
   "metadata": {},
   "outputs": [
    {
     "name": "stdout",
     "output_type": "stream",
     "text": [
      "<class 'pandas.core.frame.DataFrame'>\n",
      "RangeIndex: 16905 entries, 0 to 16904\n",
      "Data columns (total 5 columns):\n",
      " #   Column          Non-Null Count  Dtype  \n",
      "---  ------          --------------  -----  \n",
      " 0   customer_id     16905 non-null  int64  \n",
      " 1   recency         16905 non-null  int64  \n",
      " 2   first_purchase  16905 non-null  int64  \n",
      " 3   frequency       16905 non-null  int64  \n",
      " 4   amount          16905 non-null  float64\n",
      "dtypes: float64(1), int64(4)\n",
      "memory usage: 660.5 KB\n"
     ]
    }
   ],
   "source": [
    "customers_2014.info()"
   ]
  },
  {
   "cell_type": "code",
   "execution_count": 10,
   "id": "82e75239",
   "metadata": {},
   "outputs": [],
   "source": [
    "customers_2014.loc[customers_2014['recency'] > 365*3, 'segment'] = 'inactive'\n",
    "customers_2014['segment'] =  customers_2014['segment'].fillna('NA')\n",
    "customers_2014.loc[(customers_2014['recency']<= 365*3) & \n",
    "                   (customers_2014['recency'] > 356*2), 'segment'] = \"cold\"\n",
    "customers_2014.loc[(customers_2014['recency']<= 365*2) & \n",
    "                   (customers_2014['recency'] > 365*1), 'segment'] = \"warm\"\n",
    "customers_2014.loc[customers_2014['recency']<= 365, 'segment'] = \"active\"\n",
    "customers_2014.loc[(customers_2014['segment'] == \"warm\") &\n",
    "                  (customers_2014['first_purchase'] <= 365*2), 'segment'] = \"new warm\"\n",
    "customers_2014.loc[(customers_2014['segment'] == \"warm\") &\n",
    "                  (customers_2014['amount'] < 100), 'segment'] = \"warm low value\"\n",
    "\n",
    "customers_2014.loc[(customers_2014['segment'] == \"warm\") &\n",
    "                  (customers_2014['amount'] >= 100), 'segment'] = \"warm high value\"\n",
    "customers_2014.loc[(customers_2014['segment'] == \"active\") &\n",
    "                  (customers_2014['first_purchase'] <= 365), 'segment'] = \"new active\"\n",
    "\n",
    "customers_2014.loc[(customers_2014['segment'] == \"active\") &\n",
    "                  (customers_2014['amount'] < 100), 'segment'] = \"active low value\"\n",
    "\n",
    "customers_2014.loc[(customers_2014['segment'] == \"active\") &\n",
    "                  (customers_2014['amount'] >= 100), 'segment'] = \"active high value\""
   ]
  },
  {
   "cell_type": "code",
   "execution_count": 11,
   "id": "ebb12884",
   "metadata": {},
   "outputs": [
    {
     "data": {
      "text/plain": [
       "inactive             7512\n",
       "active low value     3011\n",
       "cold                 2153\n",
       "new active           1437\n",
       "new warm             1250\n",
       "warm low value        956\n",
       "active high value     475\n",
       "warm high value       111\n",
       "Name: segment, dtype: int64"
      ]
     },
     "execution_count": 11,
     "metadata": {},
     "output_type": "execute_result"
    }
   ],
   "source": [
    "customers_2014['segment'].value_counts()"
   ]
  },
  {
   "cell_type": "code",
   "execution_count": 12,
   "id": "3b9a1dae",
   "metadata": {},
   "outputs": [
    {
     "data": {
      "text/html": [
       "<div>\n",
       "<style scoped>\n",
       "    .dataframe tbody tr th:only-of-type {\n",
       "        vertical-align: middle;\n",
       "    }\n",
       "\n",
       "    .dataframe tbody tr th {\n",
       "        vertical-align: top;\n",
       "    }\n",
       "\n",
       "    .dataframe thead th {\n",
       "        text-align: right;\n",
       "    }\n",
       "</style>\n",
       "<table border=\"1\" class=\"dataframe\">\n",
       "  <thead>\n",
       "    <tr style=\"text-align: right;\">\n",
       "      <th></th>\n",
       "      <th>recency</th>\n",
       "      <th>first_purchase</th>\n",
       "      <th>frequency</th>\n",
       "      <th>amount</th>\n",
       "    </tr>\n",
       "  </thead>\n",
       "  <tbody>\n",
       "    <tr>\n",
       "      <th>mean</th>\n",
       "      <td>1,122.59</td>\n",
       "      <td>1,788.41</td>\n",
       "      <td>2.66</td>\n",
       "      <td>55.53</td>\n",
       "    </tr>\n",
       "    <tr>\n",
       "      <th>std</th>\n",
       "      <td>964.81</td>\n",
       "      <td>1,024.34</td>\n",
       "      <td>2.72</td>\n",
       "      <td>144.49</td>\n",
       "    </tr>\n",
       "    <tr>\n",
       "      <th>75%</th>\n",
       "      <td>1,868.00</td>\n",
       "      <td>2,695.00</td>\n",
       "      <td>3.00</td>\n",
       "      <td>50.00</td>\n",
       "    </tr>\n",
       "    <tr>\n",
       "      <th>max</th>\n",
       "      <td>3,649.00</td>\n",
       "      <td>3,651.00</td>\n",
       "      <td>40.00</td>\n",
       "      <td>4,500.00</td>\n",
       "    </tr>\n",
       "  </tbody>\n",
       "</table>\n",
       "</div>"
      ],
      "text/plain": [
       "      recency  first_purchase  frequency   amount\n",
       "mean 1,122.59        1,788.41       2.66    55.53\n",
       "std    964.81        1,024.34       2.72   144.49\n",
       "75%  1,868.00        2,695.00       3.00    50.00\n",
       "max  3,649.00        3,651.00      40.00 4,500.00"
      ]
     },
     "execution_count": 12,
     "metadata": {},
     "output_type": "execute_result"
    }
   ],
   "source": [
    "customers_2014.iloc[:, 1:].describe().loc[['mean', 'std', '75%', 'max']]"
   ]
  },
  {
   "cell_type": "code",
   "execution_count": 13,
   "id": "8e86c38d",
   "metadata": {},
   "outputs": [
    {
     "data": {
      "text/html": [
       "<div>\n",
       "<style scoped>\n",
       "    .dataframe tbody tr th:only-of-type {\n",
       "        vertical-align: middle;\n",
       "    }\n",
       "\n",
       "    .dataframe tbody tr th {\n",
       "        vertical-align: top;\n",
       "    }\n",
       "\n",
       "    .dataframe thead th {\n",
       "        text-align: right;\n",
       "    }\n",
       "</style>\n",
       "<table border=\"1\" class=\"dataframe\">\n",
       "  <thead>\n",
       "    <tr style=\"text-align: right;\">\n",
       "      <th></th>\n",
       "      <th>customer_id</th>\n",
       "      <th>recency</th>\n",
       "      <th>first_purchase</th>\n",
       "      <th>frequency</th>\n",
       "      <th>amount</th>\n",
       "      <th>segment</th>\n",
       "    </tr>\n",
       "  </thead>\n",
       "  <tbody>\n",
       "    <tr>\n",
       "      <th>0</th>\n",
       "      <td>10</td>\n",
       "      <td>3464</td>\n",
       "      <td>3464</td>\n",
       "      <td>1</td>\n",
       "      <td>30.00</td>\n",
       "      <td>inactive</td>\n",
       "    </tr>\n",
       "    <tr>\n",
       "      <th>1</th>\n",
       "      <td>80</td>\n",
       "      <td>302</td>\n",
       "      <td>3386</td>\n",
       "      <td>6</td>\n",
       "      <td>70.00</td>\n",
       "      <td>active low value</td>\n",
       "    </tr>\n",
       "    <tr>\n",
       "      <th>2</th>\n",
       "      <td>90</td>\n",
       "      <td>393</td>\n",
       "      <td>3418</td>\n",
       "      <td>10</td>\n",
       "      <td>115.80</td>\n",
       "      <td>warm high value</td>\n",
       "    </tr>\n",
       "    <tr>\n",
       "      <th>3</th>\n",
       "      <td>120</td>\n",
       "      <td>1036</td>\n",
       "      <td>1036</td>\n",
       "      <td>1</td>\n",
       "      <td>20.00</td>\n",
       "      <td>cold</td>\n",
       "    </tr>\n",
       "    <tr>\n",
       "      <th>4</th>\n",
       "      <td>130</td>\n",
       "      <td>2605</td>\n",
       "      <td>3345</td>\n",
       "      <td>2</td>\n",
       "      <td>50.00</td>\n",
       "      <td>inactive</td>\n",
       "    </tr>\n",
       "  </tbody>\n",
       "</table>\n",
       "</div>"
      ],
      "text/plain": [
       "   customer_id  recency  first_purchase  frequency  amount           segment\n",
       "0           10     3464            3464          1   30.00          inactive\n",
       "1           80      302            3386          6   70.00  active low value\n",
       "2           90      393            3418         10  115.80   warm high value\n",
       "3          120     1036            1036          1   20.00              cold\n",
       "4          130     2605            3345          2   50.00          inactive"
      ]
     },
     "execution_count": 13,
     "metadata": {},
     "output_type": "execute_result"
    }
   ],
   "source": [
    "customers_2014.head()"
   ]
  },
  {
   "cell_type": "code",
   "execution_count": 14,
   "id": "c1c342ba",
   "metadata": {},
   "outputs": [],
   "source": [
    "# Transform segment column datatype from object to category\n",
    "customers_2014['segment'] = customers_2014['segment'].astype('category')"
   ]
  },
  {
   "cell_type": "code",
   "execution_count": 15,
   "id": "7e2e79d9",
   "metadata": {
    "tags": []
   },
   "outputs": [
    {
     "data": {
      "text/html": [
       "<div>\n",
       "<style scoped>\n",
       "    .dataframe tbody tr th:only-of-type {\n",
       "        vertical-align: middle;\n",
       "    }\n",
       "\n",
       "    .dataframe tbody tr th {\n",
       "        vertical-align: top;\n",
       "    }\n",
       "\n",
       "    .dataframe thead th {\n",
       "        text-align: right;\n",
       "    }\n",
       "</style>\n",
       "<table border=\"1\" class=\"dataframe\">\n",
       "  <thead>\n",
       "    <tr style=\"text-align: right;\">\n",
       "      <th></th>\n",
       "      <th>customer_id</th>\n",
       "      <th>recency</th>\n",
       "      <th>first_purchase</th>\n",
       "      <th>frequency</th>\n",
       "      <th>amount</th>\n",
       "      <th>segment</th>\n",
       "    </tr>\n",
       "  </thead>\n",
       "  <tbody>\n",
       "    <tr>\n",
       "      <th>0</th>\n",
       "      <td>10</td>\n",
       "      <td>3464</td>\n",
       "      <td>3464</td>\n",
       "      <td>1</td>\n",
       "      <td>30.00</td>\n",
       "      <td>inactive</td>\n",
       "    </tr>\n",
       "    <tr>\n",
       "      <th>6872</th>\n",
       "      <td>108170</td>\n",
       "      <td>2261</td>\n",
       "      <td>2261</td>\n",
       "      <td>1</td>\n",
       "      <td>20.00</td>\n",
       "      <td>inactive</td>\n",
       "    </tr>\n",
       "    <tr>\n",
       "      <th>6873</th>\n",
       "      <td>108180</td>\n",
       "      <td>1693</td>\n",
       "      <td>2261</td>\n",
       "      <td>2</td>\n",
       "      <td>20.00</td>\n",
       "      <td>inactive</td>\n",
       "    </tr>\n",
       "    <tr>\n",
       "      <th>6874</th>\n",
       "      <td>108190</td>\n",
       "      <td>2261</td>\n",
       "      <td>2261</td>\n",
       "      <td>1</td>\n",
       "      <td>30.00</td>\n",
       "      <td>inactive</td>\n",
       "    </tr>\n",
       "    <tr>\n",
       "      <th>6875</th>\n",
       "      <td>108200</td>\n",
       "      <td>2107</td>\n",
       "      <td>2261</td>\n",
       "      <td>3</td>\n",
       "      <td>36.67</td>\n",
       "      <td>inactive</td>\n",
       "    </tr>\n",
       "    <tr>\n",
       "      <th>...</th>\n",
       "      <td>...</td>\n",
       "      <td>...</td>\n",
       "      <td>...</td>\n",
       "      <td>...</td>\n",
       "      <td>...</td>\n",
       "      <td>...</td>\n",
       "    </tr>\n",
       "    <tr>\n",
       "      <th>15939</th>\n",
       "      <td>221470</td>\n",
       "      <td>236</td>\n",
       "      <td>236</td>\n",
       "      <td>1</td>\n",
       "      <td>15.00</td>\n",
       "      <td>new active</td>\n",
       "    </tr>\n",
       "    <tr>\n",
       "      <th>15938</th>\n",
       "      <td>221460</td>\n",
       "      <td>236</td>\n",
       "      <td>236</td>\n",
       "      <td>1</td>\n",
       "      <td>30.00</td>\n",
       "      <td>new active</td>\n",
       "    </tr>\n",
       "    <tr>\n",
       "      <th>15937</th>\n",
       "      <td>221450</td>\n",
       "      <td>236</td>\n",
       "      <td>236</td>\n",
       "      <td>1</td>\n",
       "      <td>45.00</td>\n",
       "      <td>new active</td>\n",
       "    </tr>\n",
       "    <tr>\n",
       "      <th>15935</th>\n",
       "      <td>221430</td>\n",
       "      <td>236</td>\n",
       "      <td>236</td>\n",
       "      <td>1</td>\n",
       "      <td>45.00</td>\n",
       "      <td>new active</td>\n",
       "    </tr>\n",
       "    <tr>\n",
       "      <th>16904</th>\n",
       "      <td>245840</td>\n",
       "      <td>48</td>\n",
       "      <td>48</td>\n",
       "      <td>1</td>\n",
       "      <td>50.00</td>\n",
       "      <td>new active</td>\n",
       "    </tr>\n",
       "  </tbody>\n",
       "</table>\n",
       "<p>16905 rows × 6 columns</p>\n",
       "</div>"
      ],
      "text/plain": [
       "       customer_id  recency  first_purchase  frequency  amount     segment\n",
       "0               10     3464            3464          1   30.00    inactive\n",
       "6872        108170     2261            2261          1   20.00    inactive\n",
       "6873        108180     1693            2261          2   20.00    inactive\n",
       "6874        108190     2261            2261          1   30.00    inactive\n",
       "6875        108200     2107            2261          3   36.67    inactive\n",
       "...            ...      ...             ...        ...     ...         ...\n",
       "15939       221470      236             236          1   15.00  new active\n",
       "15938       221460      236             236          1   30.00  new active\n",
       "15937       221450      236             236          1   45.00  new active\n",
       "15935       221430      236             236          1   45.00  new active\n",
       "16904       245840       48              48          1   50.00  new active\n",
       "\n",
       "[16905 rows x 6 columns]"
      ]
     },
     "execution_count": 15,
     "metadata": {},
     "output_type": "execute_result"
    }
   ],
   "source": [
    "# Re-order segments in a better readable way\n",
    "sorter = ['inactive', 'cold', 'warm high value','warm low value', \n",
    "           'new warm', 'active high value', 'active low value',\n",
    "           'new active']\n",
    "customers_2014.segment.cat.set_categories(sorter, inplace=True)\n",
    "customers_2014.sort_values([\"segment\"])"
   ]
  },
  {
   "cell_type": "code",
   "execution_count": 16,
   "id": "aac29a82",
   "metadata": {
    "tags": []
   },
   "outputs": [],
   "source": [
    "c2014 = pd.DataFrame(customers_2014['segment'].value_counts())"
   ]
  },
  {
   "cell_type": "code",
   "execution_count": 17,
   "id": "90887466",
   "metadata": {},
   "outputs": [
    {
     "data": {
      "text/plain": [
       "(0.0, 100.0, 0.0, 100.0)"
      ]
     },
     "execution_count": 17,
     "metadata": {},
     "output_type": "execute_result"
    },
    {
     "data": {
      "image/png": "[encoded data removed]",
      "text/plain": [
       "<Figure size 720x576 with 1 Axes>"
      ]
     },
     "metadata": {
      "needs_background": "light"
     },
     "output_type": "display_data"
    }
   ],
   "source": [
    "norm = mpl.colors.Normalize(vmin=min(c2014['segment']), \n",
    "                                   vmax=max(c2014['segment']))\n",
    "colors = [mpl.cm.Blues(norm(value)) for value in c2014['segment']]\n",
    "squarify.plot(sizes=c2014['segment'],label=c2014.index, color = colors, alpha=.6)\n",
    "plt.axis('off')"
   ]
  },
  {
   "cell_type": "markdown",
   "id": "8fd4e1b1",
   "metadata": {},
   "source": [
    "## 2015 - Data"
   ]
  },
  {
   "cell_type": "code",
   "execution_count": 18,
   "id": "923ec778",
   "metadata": {},
   "outputs": [],
   "source": [
    "# Compute revenues generated by customers in 2015 using SQL\n",
    "q = \"\"\"\n",
    "        SELECT customer_id, \n",
    "        SUM(purchase_amount) AS 'revenue_2015'\n",
    "        FROM df\n",
    "        WHERE year_of_purchase = 2015\n",
    "        GROUP BY 1\n",
    "    \"\"\"\n",
    "revenue_2015 = sqldf(q)"
   ]
  },
  {
   "cell_type": "code",
   "execution_count": 19,
   "id": "565adc50",
   "metadata": {},
   "outputs": [],
   "source": [
    "q = \"\"\"\n",
    "        SELECT customer_id,\n",
    "        MIN(days_since) AS 'recency',\n",
    "        MAX(days_since) AS 'first_purchase',\n",
    "        COUNT(*) AS 'frequency',\n",
    "        AVG(purchase_amount) AS 'amount'\n",
    "        FROM df GROUP BY 1\"\"\"\n",
    "customers_2015 = sqldf(q)"
   ]
  },
  {
   "cell_type": "code",
   "execution_count": 20,
   "id": "e8ed67bf",
   "metadata": {},
   "outputs": [
    {
     "data": {
      "text/plain": [
       "5398"
      ]
     },
     "execution_count": 20,
     "metadata": {},
     "output_type": "execute_result"
    }
   ],
   "source": [
    "revenue_2015.shape[0]"
   ]
  },
  {
   "cell_type": "code",
   "execution_count": 21,
   "id": "44b0eb94",
   "metadata": {},
   "outputs": [
    {
     "data": {
      "text/plain": [
       "18417"
      ]
     },
     "execution_count": 21,
     "metadata": {},
     "output_type": "execute_result"
    }
   ],
   "source": [
    "customers_2015.shape[0]"
   ]
  },
  {
   "cell_type": "code",
   "execution_count": 22,
   "id": "10e604f1",
   "metadata": {},
   "outputs": [],
   "source": [
    "customers_2015.loc[customers_2015['recency'] > 365*3, 'segment'] = 'inactive'\n",
    "customers_2015['segment'] =  customers_2015['segment'].fillna('NA')\n",
    "customers_2015.loc[(customers_2015['recency']<= 365*3) & \n",
    "                   (customers_2015['recency'] > 356*2), 'segment'] = \"cold\"\n",
    "customers_2015.loc[(customers_2015['recency']<= 365*2) & \n",
    "                   (customers_2015['recency'] > 365*1), 'segment'] = \"warm\"\n",
    "customers_2015.loc[customers_2015['recency']<= 365, 'segment'] = \"active\"\n",
    "customers_2015.loc[(customers_2015['segment'] == \"warm\") &\n",
    "                  (customers_2015['first_purchase'] <= 365*2), 'segment'] = \"new warm\"\n",
    "customers_2015.loc[(customers_2015['segment'] == \"warm\") &\n",
    "                  (customers_2015['amount'] < 100), 'segment'] = \"warm low value\"\n",
    "customers_2015.loc[(customers_2015['segment'] == \"warm\") &\n",
    "                  (customers_2015['amount'] >= 100), 'segment'] = \"warm high value\"\n",
    "customers_2015.loc[(customers_2015['segment'] == \"active\") &\n",
    "                  (customers_2015['first_purchase'] <= 365), 'segment'] = \"new active\"\n",
    "customers_2015.loc[(customers_2015['segment'] == \"active\") &\n",
    "                  (customers_2015['amount'] < 100), 'segment'] = \"active low value\"\n",
    "customers_2015.loc[(customers_2015['segment'] == \"active\") &\n",
    "                  (customers_2015['amount'] >= 100), 'segment'] = \"active high value\""
   ]
  },
  {
   "cell_type": "code",
   "execution_count": 23,
   "id": "18d77675",
   "metadata": {},
   "outputs": [
    {
     "data": {
      "text/html": [
       "<div>\n",
       "<style scoped>\n",
       "    .dataframe tbody tr th:only-of-type {\n",
       "        vertical-align: middle;\n",
       "    }\n",
       "\n",
       "    .dataframe tbody tr th {\n",
       "        vertical-align: top;\n",
       "    }\n",
       "\n",
       "    .dataframe thead th {\n",
       "        text-align: right;\n",
       "    }\n",
       "</style>\n",
       "<table border=\"1\" class=\"dataframe\">\n",
       "  <thead>\n",
       "    <tr style=\"text-align: right;\">\n",
       "      <th></th>\n",
       "      <th>customer_id</th>\n",
       "      <th>recency</th>\n",
       "      <th>first_purchase</th>\n",
       "      <th>frequency</th>\n",
       "      <th>amount</th>\n",
       "      <th>segment</th>\n",
       "    </tr>\n",
       "  </thead>\n",
       "  <tbody>\n",
       "    <tr>\n",
       "      <th>0</th>\n",
       "      <td>10</td>\n",
       "      <td>3829</td>\n",
       "      <td>3829</td>\n",
       "      <td>1</td>\n",
       "      <td>30.00</td>\n",
       "      <td>inactive</td>\n",
       "    </tr>\n",
       "    <tr>\n",
       "      <th>7894</th>\n",
       "      <td>119690</td>\n",
       "      <td>1500</td>\n",
       "      <td>2443</td>\n",
       "      <td>4</td>\n",
       "      <td>30.00</td>\n",
       "      <td>inactive</td>\n",
       "    </tr>\n",
       "    <tr>\n",
       "      <th>7895</th>\n",
       "      <td>119710</td>\n",
       "      <td>2249</td>\n",
       "      <td>2443</td>\n",
       "      <td>3</td>\n",
       "      <td>26.67</td>\n",
       "      <td>inactive</td>\n",
       "    </tr>\n",
       "    <tr>\n",
       "      <th>7896</th>\n",
       "      <td>119720</td>\n",
       "      <td>2156</td>\n",
       "      <td>2443</td>\n",
       "      <td>2</td>\n",
       "      <td>40.00</td>\n",
       "      <td>inactive</td>\n",
       "    </tr>\n",
       "    <tr>\n",
       "      <th>7897</th>\n",
       "      <td>119730</td>\n",
       "      <td>2443</td>\n",
       "      <td>2443</td>\n",
       "      <td>1</td>\n",
       "      <td>50.00</td>\n",
       "      <td>inactive</td>\n",
       "    </tr>\n",
       "    <tr>\n",
       "      <th>...</th>\n",
       "      <td>...</td>\n",
       "      <td>...</td>\n",
       "      <td>...</td>\n",
       "      <td>...</td>\n",
       "      <td>...</td>\n",
       "      <td>...</td>\n",
       "    </tr>\n",
       "    <tr>\n",
       "      <th>17404</th>\n",
       "      <td>252380</td>\n",
       "      <td>73</td>\n",
       "      <td>73</td>\n",
       "      <td>1</td>\n",
       "      <td>10.00</td>\n",
       "      <td>new active</td>\n",
       "    </tr>\n",
       "    <tr>\n",
       "      <th>17403</th>\n",
       "      <td>252370</td>\n",
       "      <td>73</td>\n",
       "      <td>73</td>\n",
       "      <td>1</td>\n",
       "      <td>45.00</td>\n",
       "      <td>new active</td>\n",
       "    </tr>\n",
       "    <tr>\n",
       "      <th>17402</th>\n",
       "      <td>252360</td>\n",
       "      <td>73</td>\n",
       "      <td>73</td>\n",
       "      <td>1</td>\n",
       "      <td>20.00</td>\n",
       "      <td>new active</td>\n",
       "    </tr>\n",
       "    <tr>\n",
       "      <th>17411</th>\n",
       "      <td>252450</td>\n",
       "      <td>72</td>\n",
       "      <td>72</td>\n",
       "      <td>1</td>\n",
       "      <td>45.00</td>\n",
       "      <td>new active</td>\n",
       "    </tr>\n",
       "    <tr>\n",
       "      <th>18416</th>\n",
       "      <td>264200</td>\n",
       "      <td>1</td>\n",
       "      <td>1</td>\n",
       "      <td>1</td>\n",
       "      <td>500.00</td>\n",
       "      <td>new active</td>\n",
       "    </tr>\n",
       "  </tbody>\n",
       "</table>\n",
       "<p>18417 rows × 6 columns</p>\n",
       "</div>"
      ],
      "text/plain": [
       "       customer_id  recency  first_purchase  frequency  amount     segment\n",
       "0               10     3829            3829          1   30.00    inactive\n",
       "7894        119690     1500            2443          4   30.00    inactive\n",
       "7895        119710     2249            2443          3   26.67    inactive\n",
       "7896        119720     2156            2443          2   40.00    inactive\n",
       "7897        119730     2443            2443          1   50.00    inactive\n",
       "...            ...      ...             ...        ...     ...         ...\n",
       "17404       252380       73              73          1   10.00  new active\n",
       "17403       252370       73              73          1   45.00  new active\n",
       "17402       252360       73              73          1   20.00  new active\n",
       "17411       252450       72              72          1   45.00  new active\n",
       "18416       264200        1               1          1  500.00  new active\n",
       "\n",
       "[18417 rows x 6 columns]"
      ]
     },
     "execution_count": 23,
     "metadata": {},
     "output_type": "execute_result"
    }
   ],
   "source": [
    "# Transform segment column datatype from object to category\n",
    "customers_2015['segment'] = customers_2015['segment'].astype('category')\n",
    "# Re-order segments in a better readable way\n",
    "sorter = ['inactive', 'cold', 'warm high value','warm low value', \n",
    "           'new warm', 'active high value', 'active low value',\n",
    "           'new active']\n",
    "customers_2015.segment.cat.set_categories(sorter, inplace=True)\n",
    "customers_2015.sort_values([\"segment\"], inplace=True)"
   ]
  },
  {
   "cell_type": "code",
   "execution_count": 24,
   "id": "1dd9b27c",
   "metadata": {},
   "outputs": [
    {
     "data": {
      "text/html": [
       "<div>\n",
       "<style scoped>\n",
       "    .dataframe tbody tr th:only-of-type {\n",
       "        vertical-align: middle;\n",
       "    }\n",
       "\n",
       "    .dataframe tbody tr th {\n",
       "        vertical-align: top;\n",
       "    }\n",
       "\n",
       "    .dataframe thead th {\n",
       "        text-align: right;\n",
       "    }\n",
       "</style>\n",
       "<table border=\"1\" class=\"dataframe\">\n",
       "  <thead>\n",
       "    <tr style=\"text-align: right;\">\n",
       "      <th></th>\n",
       "      <th>customer_id</th>\n",
       "      <th>recency</th>\n",
       "      <th>first_purchase</th>\n",
       "      <th>frequency</th>\n",
       "      <th>amount</th>\n",
       "      <th>revenue_2015</th>\n",
       "    </tr>\n",
       "  </thead>\n",
       "  <tbody>\n",
       "    <tr>\n",
       "      <th>count</th>\n",
       "      <td>18,417.00</td>\n",
       "      <td>18,417.00</td>\n",
       "      <td>18,417.00</td>\n",
       "      <td>18,417.00</td>\n",
       "      <td>18,417.00</td>\n",
       "      <td>5,398.00</td>\n",
       "    </tr>\n",
       "    <tr>\n",
       "      <th>mean</th>\n",
       "      <td>137,573.51</td>\n",
       "      <td>1,253.04</td>\n",
       "      <td>1,984.01</td>\n",
       "      <td>2.78</td>\n",
       "      <td>57.79</td>\n",
       "      <td>88.62</td>\n",
       "    </tr>\n",
       "    <tr>\n",
       "      <th>std</th>\n",
       "      <td>69,504.60</td>\n",
       "      <td>1,081.44</td>\n",
       "      <td>1,133.41</td>\n",
       "      <td>2.94</td>\n",
       "      <td>154.36</td>\n",
       "      <td>224.36</td>\n",
       "    </tr>\n",
       "    <tr>\n",
       "      <th>min</th>\n",
       "      <td>10.00</td>\n",
       "      <td>1.00</td>\n",
       "      <td>1.00</td>\n",
       "      <td>1.00</td>\n",
       "      <td>5.00</td>\n",
       "      <td>5.00</td>\n",
       "    </tr>\n",
       "    <tr>\n",
       "      <th>25%</th>\n",
       "      <td>81,990.00</td>\n",
       "      <td>244.00</td>\n",
       "      <td>988.00</td>\n",
       "      <td>1.00</td>\n",
       "      <td>21.67</td>\n",
       "      <td>30.00</td>\n",
       "    </tr>\n",
       "    <tr>\n",
       "      <th>50%</th>\n",
       "      <td>136,430.00</td>\n",
       "      <td>1,070.00</td>\n",
       "      <td>2,087.00</td>\n",
       "      <td>2.00</td>\n",
       "      <td>30.00</td>\n",
       "      <td>50.00</td>\n",
       "    </tr>\n",
       "    <tr>\n",
       "      <th>75%</th>\n",
       "      <td>195,100.00</td>\n",
       "      <td>2,130.00</td>\n",
       "      <td>2,992.00</td>\n",
       "      <td>3.00</td>\n",
       "      <td>50.00</td>\n",
       "      <td>85.00</td>\n",
       "    </tr>\n",
       "    <tr>\n",
       "      <th>max</th>\n",
       "      <td>264,200.00</td>\n",
       "      <td>4,014.00</td>\n",
       "      <td>4,016.00</td>\n",
       "      <td>45.00</td>\n",
       "      <td>4,500.00</td>\n",
       "      <td>4,500.00</td>\n",
       "    </tr>\n",
       "  </tbody>\n",
       "</table>\n",
       "</div>"
      ],
      "text/plain": [
       "       customer_id   recency  first_purchase  frequency    amount  \\\n",
       "count    18,417.00 18,417.00       18,417.00  18,417.00 18,417.00   \n",
       "mean    137,573.51  1,253.04        1,984.01       2.78     57.79   \n",
       "std      69,504.60  1,081.44        1,133.41       2.94    154.36   \n",
       "min          10.00      1.00            1.00       1.00      5.00   \n",
       "25%      81,990.00    244.00          988.00       1.00     21.67   \n",
       "50%     136,430.00  1,070.00        2,087.00       2.00     30.00   \n",
       "75%     195,100.00  2,130.00        2,992.00       3.00     50.00   \n",
       "max     264,200.00  4,014.00        4,016.00      45.00  4,500.00   \n",
       "\n",
       "       revenue_2015  \n",
       "count      5,398.00  \n",
       "mean          88.62  \n",
       "std          224.36  \n",
       "min            5.00  \n",
       "25%           30.00  \n",
       "50%           50.00  \n",
       "75%           85.00  \n",
       "max        4,500.00  "
      ]
     },
     "execution_count": 24,
     "metadata": {},
     "output_type": "execute_result"
    }
   ],
   "source": [
    "# Merge 2015 customers and 2015 revenue, while making sure that customers\n",
    "# without purchase in 2015 also appear in the new df\n",
    "actual = customers_2015.merge(revenue_2015,  how='left', on='customer_id')\n",
    "actual.describe()"
   ]
  },
  {
   "cell_type": "code",
   "execution_count": 25,
   "id": "42409e46",
   "metadata": {},
   "outputs": [
    {
     "data": {
      "text/html": [
       "<div>\n",
       "<style scoped>\n",
       "    .dataframe tbody tr th:only-of-type {\n",
       "        vertical-align: middle;\n",
       "    }\n",
       "\n",
       "    .dataframe tbody tr th {\n",
       "        vertical-align: top;\n",
       "    }\n",
       "\n",
       "    .dataframe thead th {\n",
       "        text-align: right;\n",
       "    }\n",
       "</style>\n",
       "<table border=\"1\" class=\"dataframe\">\n",
       "  <thead>\n",
       "    <tr style=\"text-align: right;\">\n",
       "      <th></th>\n",
       "      <th>customer_id</th>\n",
       "      <th>recency</th>\n",
       "      <th>first_purchase</th>\n",
       "      <th>frequency</th>\n",
       "      <th>amount</th>\n",
       "      <th>segment</th>\n",
       "      <th>revenue_2015</th>\n",
       "    </tr>\n",
       "  </thead>\n",
       "  <tbody>\n",
       "    <tr>\n",
       "      <th>0</th>\n",
       "      <td>10</td>\n",
       "      <td>3829</td>\n",
       "      <td>3829</td>\n",
       "      <td>1</td>\n",
       "      <td>30.00</td>\n",
       "      <td>inactive</td>\n",
       "      <td>NaN</td>\n",
       "    </tr>\n",
       "    <tr>\n",
       "      <th>1</th>\n",
       "      <td>80</td>\n",
       "      <td>343</td>\n",
       "      <td>3751</td>\n",
       "      <td>7</td>\n",
       "      <td>71.43</td>\n",
       "      <td>active low value</td>\n",
       "      <td>80.00</td>\n",
       "    </tr>\n",
       "    <tr>\n",
       "      <th>2</th>\n",
       "      <td>90</td>\n",
       "      <td>758</td>\n",
       "      <td>3783</td>\n",
       "      <td>10</td>\n",
       "      <td>115.80</td>\n",
       "      <td>cold</td>\n",
       "      <td>NaN</td>\n",
       "    </tr>\n",
       "    <tr>\n",
       "      <th>3</th>\n",
       "      <td>120</td>\n",
       "      <td>1401</td>\n",
       "      <td>1401</td>\n",
       "      <td>1</td>\n",
       "      <td>20.00</td>\n",
       "      <td>inactive</td>\n",
       "      <td>NaN</td>\n",
       "    </tr>\n",
       "    <tr>\n",
       "      <th>4</th>\n",
       "      <td>130</td>\n",
       "      <td>2970</td>\n",
       "      <td>3710</td>\n",
       "      <td>2</td>\n",
       "      <td>50.00</td>\n",
       "      <td>inactive</td>\n",
       "      <td>NaN</td>\n",
       "    </tr>\n",
       "  </tbody>\n",
       "</table>\n",
       "</div>"
      ],
      "text/plain": [
       "   customer_id  recency  first_purchase  frequency  amount           segment  \\\n",
       "0           10     3829            3829          1   30.00          inactive   \n",
       "1           80      343            3751          7   71.43  active low value   \n",
       "2           90      758            3783         10  115.80              cold   \n",
       "3          120     1401            1401          1   20.00          inactive   \n",
       "4          130     2970            3710          2   50.00          inactive   \n",
       "\n",
       "   revenue_2015  \n",
       "0           NaN  \n",
       "1         80.00  \n",
       "2           NaN  \n",
       "3           NaN  \n",
       "4           NaN  "
      ]
     },
     "execution_count": 25,
     "metadata": {},
     "output_type": "execute_result"
    }
   ],
   "source": [
    "actual.head()"
   ]
  },
  {
   "cell_type": "code",
   "execution_count": 26,
   "id": "8d9e96dd",
   "metadata": {},
   "outputs": [
    {
     "data": {
      "text/html": [
       "<div>\n",
       "<style scoped>\n",
       "    .dataframe tbody tr th:only-of-type {\n",
       "        vertical-align: middle;\n",
       "    }\n",
       "\n",
       "    .dataframe tbody tr th {\n",
       "        vertical-align: top;\n",
       "    }\n",
       "\n",
       "    .dataframe thead th {\n",
       "        text-align: right;\n",
       "    }\n",
       "</style>\n",
       "<table border=\"1\" class=\"dataframe\">\n",
       "  <thead>\n",
       "    <tr style=\"text-align: right;\">\n",
       "      <th></th>\n",
       "      <th>customer_id</th>\n",
       "      <th>recency</th>\n",
       "      <th>first_purchase</th>\n",
       "      <th>frequency</th>\n",
       "      <th>amount</th>\n",
       "      <th>segment</th>\n",
       "      <th>revenue_2015</th>\n",
       "    </tr>\n",
       "  </thead>\n",
       "  <tbody>\n",
       "    <tr>\n",
       "      <th>0</th>\n",
       "      <td>10</td>\n",
       "      <td>3829</td>\n",
       "      <td>3829</td>\n",
       "      <td>1</td>\n",
       "      <td>30.00</td>\n",
       "      <td>inactive</td>\n",
       "      <td>0.00</td>\n",
       "    </tr>\n",
       "    <tr>\n",
       "      <th>1</th>\n",
       "      <td>80</td>\n",
       "      <td>343</td>\n",
       "      <td>3751</td>\n",
       "      <td>7</td>\n",
       "      <td>71.43</td>\n",
       "      <td>active low value</td>\n",
       "      <td>80.00</td>\n",
       "    </tr>\n",
       "    <tr>\n",
       "      <th>2</th>\n",
       "      <td>90</td>\n",
       "      <td>758</td>\n",
       "      <td>3783</td>\n",
       "      <td>10</td>\n",
       "      <td>115.80</td>\n",
       "      <td>cold</td>\n",
       "      <td>0.00</td>\n",
       "    </tr>\n",
       "    <tr>\n",
       "      <th>3</th>\n",
       "      <td>120</td>\n",
       "      <td>1401</td>\n",
       "      <td>1401</td>\n",
       "      <td>1</td>\n",
       "      <td>20.00</td>\n",
       "      <td>inactive</td>\n",
       "      <td>0.00</td>\n",
       "    </tr>\n",
       "    <tr>\n",
       "      <th>4</th>\n",
       "      <td>130</td>\n",
       "      <td>2970</td>\n",
       "      <td>3710</td>\n",
       "      <td>2</td>\n",
       "      <td>50.00</td>\n",
       "      <td>inactive</td>\n",
       "      <td>0.00</td>\n",
       "    </tr>\n",
       "  </tbody>\n",
       "</table>\n",
       "</div>"
      ],
      "text/plain": [
       "   customer_id  recency  first_purchase  frequency  amount           segment  \\\n",
       "0           10     3829            3829          1   30.00          inactive   \n",
       "1           80      343            3751          7   71.43  active low value   \n",
       "2           90      758            3783         10  115.80              cold   \n",
       "3          120     1401            1401          1   20.00          inactive   \n",
       "4          130     2970            3710          2   50.00          inactive   \n",
       "\n",
       "   revenue_2015  \n",
       "0          0.00  \n",
       "1         80.00  \n",
       "2          0.00  \n",
       "3          0.00  \n",
       "4          0.00  "
      ]
     },
     "execution_count": 26,
     "metadata": {},
     "output_type": "execute_result"
    }
   ],
   "source": [
    "# Replace NaNs in the revenus_2015 column with 0s\n",
    "actual['revenue_2015'].fillna(0, inplace=True)\n",
    "actual.head()"
   ]
  },
  {
   "cell_type": "code",
   "execution_count": 27,
   "id": "f7b44c6d",
   "metadata": {},
   "outputs": [
    {
     "data": {
      "text/html": [
       "<div>\n",
       "<style scoped>\n",
       "    .dataframe tbody tr th:only-of-type {\n",
       "        vertical-align: middle;\n",
       "    }\n",
       "\n",
       "    .dataframe tbody tr th {\n",
       "        vertical-align: top;\n",
       "    }\n",
       "\n",
       "    .dataframe thead th {\n",
       "        text-align: right;\n",
       "    }\n",
       "</style>\n",
       "<table border=\"1\" class=\"dataframe\">\n",
       "  <thead>\n",
       "    <tr style=\"text-align: right;\">\n",
       "      <th></th>\n",
       "      <th>revenue_2015</th>\n",
       "    </tr>\n",
       "    <tr>\n",
       "      <th>segment</th>\n",
       "      <th></th>\n",
       "    </tr>\n",
       "  </thead>\n",
       "  <tbody>\n",
       "    <tr>\n",
       "      <th>inactive</th>\n",
       "      <td>0.00</td>\n",
       "    </tr>\n",
       "    <tr>\n",
       "      <th>cold</th>\n",
       "      <td>0.00</td>\n",
       "    </tr>\n",
       "    <tr>\n",
       "      <th>warm high value</th>\n",
       "      <td>0.00</td>\n",
       "    </tr>\n",
       "    <tr>\n",
       "      <th>warm low value</th>\n",
       "      <td>0.00</td>\n",
       "    </tr>\n",
       "    <tr>\n",
       "      <th>new warm</th>\n",
       "      <td>0.00</td>\n",
       "    </tr>\n",
       "    <tr>\n",
       "      <th>active high value</th>\n",
       "      <td>323.57</td>\n",
       "    </tr>\n",
       "    <tr>\n",
       "      <th>active low value</th>\n",
       "      <td>52.31</td>\n",
       "    </tr>\n",
       "    <tr>\n",
       "      <th>new active</th>\n",
       "      <td>79.17</td>\n",
       "    </tr>\n",
       "  </tbody>\n",
       "</table>\n",
       "</div>"
      ],
      "text/plain": [
       "                   revenue_2015\n",
       "segment                        \n",
       "inactive                   0.00\n",
       "cold                       0.00\n",
       "warm high value            0.00\n",
       "warm low value             0.00\n",
       "new warm                   0.00\n",
       "active high value        323.57\n",
       "active low value          52.31\n",
       "new active                79.17"
      ]
     },
     "execution_count": 27,
     "metadata": {},
     "output_type": "execute_result"
    }
   ],
   "source": [
    "actual[['revenue_2015', 'segment']].groupby('segment').mean()"
   ]
  },
  {
   "cell_type": "markdown",
   "id": "532846ab",
   "metadata": {},
   "source": [
    "By definition inactive, warm and cold didn't generate any revenue in the same year we are investigating. That's why the 0.00 in these rows."
   ]
  },
  {
   "cell_type": "markdown",
   "id": "c2ae8c26",
   "metadata": {},
   "source": [
    "## Computing Predictors and Target Variables\n",
    "\n"
   ]
  },
  {
   "cell_type": "code",
   "execution_count": 28,
   "id": "51225de6",
   "metadata": {},
   "outputs": [
    {
     "data": {
      "text/html": [
       "<div>\n",
       "<style scoped>\n",
       "    .dataframe tbody tr th:only-of-type {\n",
       "        vertical-align: middle;\n",
       "    }\n",
       "\n",
       "    .dataframe tbody tr th {\n",
       "        vertical-align: top;\n",
       "    }\n",
       "\n",
       "    .dataframe thead th {\n",
       "        text-align: right;\n",
       "    }\n",
       "</style>\n",
       "<table border=\"1\" class=\"dataframe\">\n",
       "  <thead>\n",
       "    <tr style=\"text-align: right;\">\n",
       "      <th></th>\n",
       "      <th>customer_id</th>\n",
       "      <th>recency</th>\n",
       "      <th>first_purchase</th>\n",
       "      <th>frequency</th>\n",
       "      <th>amount</th>\n",
       "      <th>segment</th>\n",
       "      <th>revenue_2015</th>\n",
       "    </tr>\n",
       "  </thead>\n",
       "  <tbody>\n",
       "    <tr>\n",
       "      <th>0</th>\n",
       "      <td>10</td>\n",
       "      <td>3464</td>\n",
       "      <td>3464</td>\n",
       "      <td>1</td>\n",
       "      <td>30.00</td>\n",
       "      <td>inactive</td>\n",
       "      <td>NaN</td>\n",
       "    </tr>\n",
       "    <tr>\n",
       "      <th>1</th>\n",
       "      <td>80</td>\n",
       "      <td>302</td>\n",
       "      <td>3386</td>\n",
       "      <td>6</td>\n",
       "      <td>70.00</td>\n",
       "      <td>active low value</td>\n",
       "      <td>80.00</td>\n",
       "    </tr>\n",
       "    <tr>\n",
       "      <th>2</th>\n",
       "      <td>90</td>\n",
       "      <td>393</td>\n",
       "      <td>3418</td>\n",
       "      <td>10</td>\n",
       "      <td>115.80</td>\n",
       "      <td>warm high value</td>\n",
       "      <td>NaN</td>\n",
       "    </tr>\n",
       "    <tr>\n",
       "      <th>3</th>\n",
       "      <td>120</td>\n",
       "      <td>1036</td>\n",
       "      <td>1036</td>\n",
       "      <td>1</td>\n",
       "      <td>20.00</td>\n",
       "      <td>cold</td>\n",
       "      <td>NaN</td>\n",
       "    </tr>\n",
       "    <tr>\n",
       "      <th>4</th>\n",
       "      <td>130</td>\n",
       "      <td>2605</td>\n",
       "      <td>3345</td>\n",
       "      <td>2</td>\n",
       "      <td>50.00</td>\n",
       "      <td>inactive</td>\n",
       "      <td>NaN</td>\n",
       "    </tr>\n",
       "  </tbody>\n",
       "</table>\n",
       "</div>"
      ],
      "text/plain": [
       "   customer_id  recency  first_purchase  frequency  amount           segment  \\\n",
       "0           10     3464            3464          1   30.00          inactive   \n",
       "1           80      302            3386          6   70.00  active low value   \n",
       "2           90      393            3418         10  115.80   warm high value   \n",
       "3          120     1036            1036          1   20.00              cold   \n",
       "4          130     2605            3345          2   50.00          inactive   \n",
       "\n",
       "   revenue_2015  \n",
       "0           NaN  \n",
       "1         80.00  \n",
       "2           NaN  \n",
       "3           NaN  \n",
       "4           NaN  "
      ]
     },
     "execution_count": 28,
     "metadata": {},
     "output_type": "execute_result"
    }
   ],
   "source": [
    "# Merge 2014 customers and 2015 revenue\n",
    "forward = customers_2014.merge(revenue_2015,  how='left', on='customer_id')\n",
    "forward.head()"
   ]
  },
  {
   "cell_type": "code",
   "execution_count": 29,
   "id": "a31fda9b",
   "metadata": {},
   "outputs": [],
   "source": [
    "# Replace NaNs in the revenus_2015 column with 0s\n",
    "forward['revenue_2015'].fillna(0, inplace=True)"
   ]
  },
  {
   "cell_type": "code",
   "execution_count": 30,
   "id": "cda6ced3",
   "metadata": {},
   "outputs": [],
   "source": [
    " r = forward[['revenue_2015', 'segment']].groupby('segment').mean()"
   ]
  },
  {
   "cell_type": "code",
   "execution_count": 31,
   "id": "6b83becf",
   "metadata": {},
   "outputs": [],
   "source": [
    "r.sort_values(by=['revenue_2015'], ascending=False, inplace=True)"
   ]
  },
  {
   "cell_type": "code",
   "execution_count": 32,
   "id": "31bd57c8",
   "metadata": {},
   "outputs": [
    {
     "data": {
      "text/plain": [
       "<AxesSubplot:xlabel='segment'>"
      ]
     },
     "execution_count": 32,
     "metadata": {},
     "output_type": "execute_result"
    },
    {
     "data": {
      "image/png": "[encoded data removed]",
      "text/plain": [
       "<Figure size 720x576 with 1 Axes>"
      ]
     },
     "metadata": {
      "needs_background": "light"
     },
     "output_type": "display_data"
    }
   ],
   "source": [
    "r.plot.bar()"
   ]
  },
  {
   "cell_type": "markdown",
   "id": "89602ac2",
   "metadata": {},
   "source": [
    "As we can see, customers classified as \"active high value\" in 2014 are the most revenue generating in 2015 and in the second place comes customers from the \"warm high value\""
   ]
  },
  {
   "cell_type": "markdown",
   "id": "f096303d",
   "metadata": {},
   "source": [
    "## Quiz"
   ]
  },
  {
   "cell_type": "code",
   "execution_count": 33,
   "id": "08c6b816",
   "metadata": {},
   "outputs": [
    {
     "data": {
      "text/plain": [
       "inactive             9158\n",
       "active low value     3313\n",
       "cold                 1903\n",
       "new active           1512\n",
       "new warm              938\n",
       "warm low value        901\n",
       "active high value     573\n",
       "warm high value       119\n",
       "Name: segment, dtype: int64"
      ]
     },
     "execution_count": 33,
     "metadata": {},
     "output_type": "execute_result"
    }
   ],
   "source": [
    "actual['segment'].value_counts()"
   ]
  },
  {
   "cell_type": "code",
   "execution_count": 34,
   "id": "e2da0ff5",
   "metadata": {},
   "outputs": [
    {
     "data": {
      "text/plain": [
       "3313"
      ]
     },
     "execution_count": 34,
     "metadata": {},
     "output_type": "execute_result"
    }
   ],
   "source": [
    "# How many \"new active low\" (active low value) customers were there in 2015? \n",
    "\n",
    "(actual['segment'] == 'active low value').sum()"
   ]
  },
  {
   "cell_type": "code",
   "execution_count": 35,
   "id": "c788b1e3",
   "metadata": {},
   "outputs": [
    {
     "name": "stdout",
     "output_type": "stream",
     "text": [
      "20.63\n"
     ]
    }
   ],
   "source": [
    "# The number of \"new active high\" customers has increased between 2014 and 2015.\n",
    "# What is the rate of that increase? \n",
    "\n",
    "ne = (customers_2015['segment'] == 'active high value').sum() \n",
    "ol = (customers_2014['segment'] == 'active high value').sum()\n",
    "\n",
    "print(\"%.2f\" % ((ne - ol)/ol * 100))"
   ]
  },
  {
   "cell_type": "code",
   "execution_count": 36,
   "id": "8afb9528",
   "metadata": {},
   "outputs": [
    {
     "name": "stdout",
     "output_type": "stream",
     "text": [
      "20.63\n"
     ]
    }
   ],
   "source": [
    "print(\"{:.2f}\".format((ne - ol)/ol * 100))"
   ]
  },
  {
   "cell_type": "code",
   "execution_count": 37,
   "id": "2509c966",
   "metadata": {},
   "outputs": [
    {
     "name": "stdout",
     "output_type": "stream",
     "text": [
      "20.63157894736842\n"
     ]
    }
   ],
   "source": [
    "print(f\"{(ne - ol)/ol * 100}\")"
   ]
  },
  {
   "cell_type": "markdown",
   "id": "557ae6d2",
   "metadata": {},
   "source": [
    "# Building a Predictive Model"
   ]
  },
  {
   "cell_type": "code",
   "execution_count": 38,
   "id": "c503d03a",
   "metadata": {},
   "outputs": [],
   "source": [
    "q = \"\"\"\n",
    "        SELECT customer_id, \n",
    "        MIN(days_since) - 365 AS 'recency', \n",
    "        MAX(days_since) - 365 AS 'first_purchase', \n",
    "        COUNT(*) AS 'frequency', \n",
    "        AVG(purchase_amount) AS 'avg_amount', \n",
    "        MAX(purchase_amount) AS 'max_amount' \n",
    "        FROM df WHERE days_since > 365 GROUP BY 1\n",
    "\"\"\"\n",
    "customers_2014 = sqldf(q, globals())"
   ]
  },
  {
   "cell_type": "code",
   "execution_count": 39,
   "id": "cba2d715",
   "metadata": {},
   "outputs": [],
   "source": [
    "q = \"\"\"\n",
    "        SELECT customer_id, \n",
    "        SUM(purchase_amount) AS 'revenue_2015' \n",
    "        FROM df WHERE year_of_purchase = 2015 \n",
    "        GROUP BY 1\n",
    "\"\"\"\n",
    "revenue_2015 = sqldf(q, globals())"
   ]
  },
  {
   "cell_type": "code",
   "execution_count": 40,
   "id": "6de8fe90",
   "metadata": {},
   "outputs": [],
   "source": [
    "# Merge 2014 customers with 2015 revenue\n",
    "in_sample = customers_2014.merge(revenue_2015,  how='left', on='customer_id')\n",
    "in_sample['revenue_2015'].fillna(0, inplace=True)\n",
    "in_sample.loc[in_sample['revenue_2015'] > 0, 'active_2015'] = 1"
   ]
  },
  {
   "cell_type": "code",
   "execution_count": 41,
   "id": "90b312d7",
   "metadata": {},
   "outputs": [
    {
     "name": "stdout",
     "output_type": "stream",
     "text": [
      "<class 'pandas.core.frame.DataFrame'>\n",
      "Int64Index: 16905 entries, 0 to 16904\n",
      "Data columns (total 8 columns):\n",
      " #   Column          Non-Null Count  Dtype  \n",
      "---  ------          --------------  -----  \n",
      " 0   customer_id     16905 non-null  int64  \n",
      " 1   recency         16905 non-null  int64  \n",
      " 2   first_purchase  16905 non-null  int64  \n",
      " 3   frequency       16905 non-null  int64  \n",
      " 4   avg_amount      16905 non-null  float64\n",
      " 5   max_amount      16905 non-null  float64\n",
      " 6   revenue_2015    16905 non-null  float64\n",
      " 7   active_2015     16905 non-null  int64  \n",
      "dtypes: float64(3), int64(5)\n",
      "memory usage: 1.2 MB\n"
     ]
    }
   ],
   "source": [
    "in_sample['active_2015'].fillna(0, inplace=True)\n",
    "in_sample['active_2015'] = in_sample['active_2015'].astype('int')\n",
    "in_sample.info()"
   ]
  },
  {
   "cell_type": "markdown",
   "id": "776738a4",
   "metadata": {},
   "source": [
    "------"
   ]
  },
  {
   "cell_type": "markdown",
   "id": "03234b13",
   "metadata": {},
   "source": [
    "## The Likelihood a Customer will be Active in 2015"
   ]
  },
  {
   "cell_type": "markdown",
   "id": "da74d598",
   "metadata": {},
   "source": [
    "Now, we are going to calibrate the first model, which is the probability model. The likelihood that a customer we'd be active in 2015 or not. \n",
    "\n",
    "* the output of the model which I call prob dot model is the output of the Multinom function with formula that states that active 2015 is a function of recency first purchase as frequency, average amount and maximum amount.\n",
    "* And the data is the data we created the calibration data called In sample.\n",
    "\n",
    "These will fit, calibrate the entire model on the data set. And then we can going to extract the coefficients and the standard deviations of these coefficients, and output not only the coefficients, the standard deviations, but the ratio of those as well."
   ]
  },
  {
   "cell_type": "code",
   "execution_count": 42,
   "id": "0d0a5bce",
   "metadata": {},
   "outputs": [
    {
     "name": "stdout",
     "output_type": "stream",
     "text": [
      "Optimization terminated successfully.\n",
      "         Current function value: 0.365836\n",
      "         Iterations 8\n"
     ]
    }
   ],
   "source": [
    "# We use the Logit function since the output could be either 0 or 1\n",
    "prob_model = sm.Logit.from_formula('active_2015 ~ recency + first_purchase + frequency + avg_amount + max_amount', \n",
    "                                   in_sample)\n",
    "prob_model_fit = prob_model.fit()\n",
    "coef = prob_model_fit.params\n",
    "std = prob_model_fit.bse"
   ]
  },
  {
   "cell_type": "code",
   "execution_count": 43,
   "id": "899b8322",
   "metadata": {},
   "outputs": [
    {
     "name": "stdout",
     "output_type": "stream",
     "text": [
      "Intercept        -0.53\n",
      "recency          -0.00\n",
      "first_purchase   -0.00\n",
      "frequency         0.22\n",
      "avg_amount        0.00\n",
      "max_amount       -0.00\n",
      "dtype: float64\n"
     ]
    }
   ],
   "source": [
    "print(coef)"
   ]
  },
  {
   "cell_type": "code",
   "execution_count": 44,
   "id": "ad203526",
   "metadata": {},
   "outputs": [
    {
     "name": "stdout",
     "output_type": "stream",
     "text": [
      "Intercept        0.04\n",
      "recency          0.00\n",
      "first_purchase   0.00\n",
      "frequency        0.01\n",
      "avg_amount       0.00\n",
      "max_amount       0.00\n",
      "dtype: float64\n"
     ]
    }
   ],
   "source": [
    "print(std)"
   ]
  },
  {
   "cell_type": "code",
   "execution_count": 45,
   "id": "bfd4b466",
   "metadata": {},
   "outputs": [
    {
     "name": "stdout",
     "output_type": "stream",
     "text": [
      "Intercept        -12.09\n",
      "recency          -32.75\n",
      "first_purchase    -0.30\n",
      "frequency         14.84\n",
      "avg_amount         1.14\n",
      "max_amount        -0.57\n",
      "dtype: float64\n"
     ]
    }
   ],
   "source": [
    "print(coef / std)"
   ]
  },
  {
   "cell_type": "markdown",
   "id": "c53c5a71",
   "metadata": {},
   "source": [
    "The model converged! 👍\n",
    "\n",
    "The recency parameter, for instance, it's negative. Which makes perfect sense. The larger the recency, meaning the more days have lapsed between the last purchase and today, the less likely you're going to make any other purchase in the future.\n",
    "\n",
    "So, if your last purchase was three four ten years ago, it's extremely unlikely that you'll make any purchase very soon. Meaning that the sign of the primary is negative, the higher the recency, the lower the probability.\n",
    "\n",
    "if you look at frequency, that primary is positive. Meaning that the more purchases you've made in the past, the more likely you'll make additional purchases in the future, which makes perfect sense. Now, these two parameter values are the most interesting, simply because if you look at standard deviations and at the ratio between coefficients and standard deviation, which usually indicate to what extent each parameter value is significant, or not. If it's above two, or below minus two, usually it's a good sign, and as you can see here, recently is huge, minus 32"
   ]
  },
  {
   "cell_type": "markdown",
   "id": "9de50685",
   "metadata": {},
   "source": [
    "## Monetary Prediction Model\n",
    "\n"
   ]
  },
  {
   "cell_type": "code",
   "execution_count": 46,
   "id": "d3ce7bd4",
   "metadata": {},
   "outputs": [],
   "source": [
    "# For the monetary model, we select only those who made a purchase\n",
    "# Only the index are enough\n",
    "z = in_sample[in_sample['active_2015'] == 1].index.tolist()"
   ]
  },
  {
   "cell_type": "code",
   "execution_count": 47,
   "id": "ac309d93",
   "metadata": {},
   "outputs": [
    {
     "data": {
      "text/plain": [
       "[1, 17, 29, 30, 31]"
      ]
     },
     "execution_count": 47,
     "metadata": {},
     "output_type": "execute_result"
    }
   ],
   "source": [
    "z[:5]"
   ]
  },
  {
   "cell_type": "code",
   "execution_count": 48,
   "id": "277d102e",
   "metadata": {},
   "outputs": [
    {
     "data": {
      "text/html": [
       "<div>\n",
       "<style scoped>\n",
       "    .dataframe tbody tr th:only-of-type {\n",
       "        vertical-align: middle;\n",
       "    }\n",
       "\n",
       "    .dataframe tbody tr th {\n",
       "        vertical-align: top;\n",
       "    }\n",
       "\n",
       "    .dataframe thead th {\n",
       "        text-align: right;\n",
       "    }\n",
       "</style>\n",
       "<table border=\"1\" class=\"dataframe\">\n",
       "  <thead>\n",
       "    <tr style=\"text-align: right;\">\n",
       "      <th></th>\n",
       "      <th>customer_id</th>\n",
       "      <th>recency</th>\n",
       "      <th>first_purchase</th>\n",
       "      <th>frequency</th>\n",
       "      <th>avg_amount</th>\n",
       "      <th>max_amount</th>\n",
       "      <th>revenue_2015</th>\n",
       "      <th>active_2015</th>\n",
       "    </tr>\n",
       "  </thead>\n",
       "  <tbody>\n",
       "    <tr>\n",
       "      <th>count</th>\n",
       "      <td>3,886.00</td>\n",
       "      <td>3,886.00</td>\n",
       "      <td>3,886.00</td>\n",
       "      <td>3,886.00</td>\n",
       "      <td>3,886.00</td>\n",
       "      <td>3,886.00</td>\n",
       "      <td>3,886.00</td>\n",
       "      <td>3,886.00</td>\n",
       "    </tr>\n",
       "    <tr>\n",
       "      <th>mean</th>\n",
       "      <td>134,906.97</td>\n",
       "      <td>306.35</td>\n",
       "      <td>1,636.16</td>\n",
       "      <td>4.74</td>\n",
       "      <td>67.78</td>\n",
       "      <td>88.33</td>\n",
       "      <td>92.30</td>\n",
       "      <td>1.00</td>\n",
       "    </tr>\n",
       "    <tr>\n",
       "      <th>std</th>\n",
       "      <td>68,404.30</td>\n",
       "      <td>519.46</td>\n",
       "      <td>1,101.25</td>\n",
       "      <td>3.79</td>\n",
       "      <td>160.06</td>\n",
       "      <td>222.15</td>\n",
       "      <td>217.45</td>\n",
       "      <td>0.00</td>\n",
       "    </tr>\n",
       "    <tr>\n",
       "      <th>min</th>\n",
       "      <td>80.00</td>\n",
       "      <td>1.00</td>\n",
       "      <td>1.00</td>\n",
       "      <td>1.00</td>\n",
       "      <td>5.00</td>\n",
       "      <td>5.00</td>\n",
       "      <td>5.00</td>\n",
       "      <td>1.00</td>\n",
       "    </tr>\n",
       "    <tr>\n",
       "      <th>25%</th>\n",
       "      <td>78,590.00</td>\n",
       "      <td>23.00</td>\n",
       "      <td>649.75</td>\n",
       "      <td>2.00</td>\n",
       "      <td>30.00</td>\n",
       "      <td>30.00</td>\n",
       "      <td>30.00</td>\n",
       "      <td>1.00</td>\n",
       "    </tr>\n",
       "    <tr>\n",
       "      <th>50%</th>\n",
       "      <td>143,550.00</td>\n",
       "      <td>97.00</td>\n",
       "      <td>1,604.00</td>\n",
       "      <td>4.00</td>\n",
       "      <td>40.00</td>\n",
       "      <td>50.00</td>\n",
       "      <td>50.00</td>\n",
       "      <td>1.00</td>\n",
       "    </tr>\n",
       "    <tr>\n",
       "      <th>75%</th>\n",
       "      <td>194,362.50</td>\n",
       "      <td>328.00</td>\n",
       "      <td>2,666.00</td>\n",
       "      <td>7.00</td>\n",
       "      <td>60.00</td>\n",
       "      <td>80.00</td>\n",
       "      <td>100.00</td>\n",
       "      <td>1.00</td>\n",
       "    </tr>\n",
       "    <tr>\n",
       "      <th>max</th>\n",
       "      <td>236,660.00</td>\n",
       "      <td>3,544.00</td>\n",
       "      <td>3,647.00</td>\n",
       "      <td>40.00</td>\n",
       "      <td>4,500.00</td>\n",
       "      <td>4,500.00</td>\n",
       "      <td>4,500.00</td>\n",
       "      <td>1.00</td>\n",
       "    </tr>\n",
       "  </tbody>\n",
       "</table>\n",
       "</div>"
      ],
      "text/plain": [
       "       customer_id  recency  first_purchase  frequency  avg_amount  \\\n",
       "count     3,886.00 3,886.00        3,886.00   3,886.00    3,886.00   \n",
       "mean    134,906.97   306.35        1,636.16       4.74       67.78   \n",
       "std      68,404.30   519.46        1,101.25       3.79      160.06   \n",
       "min          80.00     1.00            1.00       1.00        5.00   \n",
       "25%      78,590.00    23.00          649.75       2.00       30.00   \n",
       "50%     143,550.00    97.00        1,604.00       4.00       40.00   \n",
       "75%     194,362.50   328.00        2,666.00       7.00       60.00   \n",
       "max     236,660.00 3,544.00        3,647.00      40.00    4,500.00   \n",
       "\n",
       "       max_amount  revenue_2015  active_2015  \n",
       "count    3,886.00      3,886.00     3,886.00  \n",
       "mean        88.33         92.30         1.00  \n",
       "std        222.15        217.45         0.00  \n",
       "min          5.00          5.00         1.00  \n",
       "25%         30.00         30.00         1.00  \n",
       "50%         50.00         50.00         1.00  \n",
       "75%         80.00        100.00         1.00  \n",
       "max      4,500.00      4,500.00         1.00  "
      ]
     },
     "execution_count": 48,
     "metadata": {},
     "output_type": "execute_result"
    }
   ],
   "source": [
    "in_sample.loc[z].describe()"
   ]
  },
  {
   "cell_type": "markdown",
   "id": "87c39021",
   "metadata": {},
   "source": [
    "We only have active customers in there. In terms of revenue, customers have spent anything between \\\\$5 and \\\\$4500 with that retailer of the year 2015. Now, what you are going to do is calibrate the monetary model. Meaning we begin to predict how much they spend in 2015 based on only two things here, the average amount they spend usually, and the maximum amount they spend. So we have two different predictors."
   ]
  },
  {
   "cell_type": "markdown",
   "id": "2e94064f",
   "metadata": {},
   "source": [
    "SM, which stands for Linear Model, will fit a linear model to match as closely as we can revenue 2015 based on the predictor's average amount and maximum amount. And the data here is not the entire sample, but only those customers who can be found in the index, Z here. So only those customers who actually spend something."
   ]
  },
  {
   "cell_type": "code",
   "execution_count": 49,
   "id": "a2da547b",
   "metadata": {},
   "outputs": [
    {
     "data": {
      "text/html": [
       "<table class=\"simpletable\">\n",
       "<caption>OLS Regression Results</caption>\n",
       "<tr>\n",
       "  <th>Dep. Variable:</th>      <td>revenue_2015</td>   <th>  R-squared:         </th> <td>   0.605</td> \n",
       "</tr>\n",
       "<tr>\n",
       "  <th>Model:</th>                   <td>OLS</td>       <th>  Adj. R-squared:    </th> <td>   0.605</td> \n",
       "</tr>\n",
       "<tr>\n",
       "  <th>Method:</th>             <td>Least Squares</td>  <th>  F-statistic:       </th> <td>   2979.</td> \n",
       "</tr>\n",
       "<tr>\n",
       "  <th>Date:</th>             <td>Thu, 22 Apr 2021</td> <th>  Prob (F-statistic):</th>  <td>  0.00</td>  \n",
       "</tr>\n",
       "<tr>\n",
       "  <th>Time:</th>                 <td>15:00:27</td>     <th>  Log-Likelihood:    </th> <td> -24621.</td> \n",
       "</tr>\n",
       "<tr>\n",
       "  <th>No. Observations:</th>      <td>  3886</td>      <th>  AIC:               </th> <td>4.925e+04</td>\n",
       "</tr>\n",
       "<tr>\n",
       "  <th>Df Residuals:</th>          <td>  3883</td>      <th>  BIC:               </th> <td>4.927e+04</td>\n",
       "</tr>\n",
       "<tr>\n",
       "  <th>Df Model:</th>              <td>     2</td>      <th>                     </th>     <td> </td>    \n",
       "</tr>\n",
       "<tr>\n",
       "  <th>Covariance Type:</th>      <td>nonrobust</td>    <th>                     </th>     <td> </td>    \n",
       "</tr>\n",
       "</table>\n",
       "<table class=\"simpletable\">\n",
       "<tr>\n",
       "       <td></td>         <th>coef</th>     <th>std err</th>      <th>t</th>      <th>P>|t|</th>  <th>[0.025</th>    <th>0.975]</th>  \n",
       "</tr>\n",
       "<tr>\n",
       "  <th>Intercept</th>  <td>   20.7471</td> <td>    2.381</td> <td>    8.713</td> <td> 0.000</td> <td>   16.079</td> <td>   25.415</td>\n",
       "</tr>\n",
       "<tr>\n",
       "  <th>avg_amount</th> <td>    0.6749</td> <td>    0.033</td> <td>   20.575</td> <td> 0.000</td> <td>    0.611</td> <td>    0.739</td>\n",
       "</tr>\n",
       "<tr>\n",
       "  <th>max_amount</th> <td>    0.2923</td> <td>    0.024</td> <td>   12.367</td> <td> 0.000</td> <td>    0.246</td> <td>    0.339</td>\n",
       "</tr>\n",
       "</table>\n",
       "<table class=\"simpletable\">\n",
       "<tr>\n",
       "  <th>Omnibus:</th>       <td>5580.836</td> <th>  Durbin-Watson:     </th>  <td>   2.007</td>  \n",
       "</tr>\n",
       "<tr>\n",
       "  <th>Prob(Omnibus):</th>  <td> 0.000</td>  <th>  Jarque-Bera (JB):  </th> <td>8162692.709</td>\n",
       "</tr>\n",
       "<tr>\n",
       "  <th>Skew:</th>           <td> 7.843</td>  <th>  Prob(JB):          </th>  <td>    0.00</td>  \n",
       "</tr>\n",
       "<tr>\n",
       "  <th>Kurtosis:</th>       <td>226.980</td> <th>  Cond. No.          </th>  <td>    315.</td>  \n",
       "</tr>\n",
       "</table><br/><br/>Notes:<br/>[1] Standard Errors assume that the covariance matrix of the errors is correctly specified."
      ],
      "text/plain": [
       "<class 'statsmodels.iolib.summary.Summary'>\n",
       "\"\"\"\n",
       "                            OLS Regression Results                            \n",
       "==============================================================================\n",
       "Dep. Variable:           revenue_2015   R-squared:                       0.605\n",
       "Model:                            OLS   Adj. R-squared:                  0.605\n",
       "Method:                 Least Squares   F-statistic:                     2979.\n",
       "Date:                Thu, 22 Apr 2021   Prob (F-statistic):               0.00\n",
       "Time:                        15:00:27   Log-Likelihood:                -24621.\n",
       "No. Observations:                3886   AIC:                         4.925e+04\n",
       "Df Residuals:                    3883   BIC:                         4.927e+04\n",
       "Df Model:                           2                                         \n",
       "Covariance Type:            nonrobust                                         \n",
       "==============================================================================\n",
       "                 coef    std err          t      P>|t|      [0.025      0.975]\n",
       "------------------------------------------------------------------------------\n",
       "Intercept     20.7471      2.381      8.713      0.000      16.079      25.415\n",
       "avg_amount     0.6749      0.033     20.575      0.000       0.611       0.739\n",
       "max_amount     0.2923      0.024     12.367      0.000       0.246       0.339\n",
       "==============================================================================\n",
       "Omnibus:                     5580.836   Durbin-Watson:                   2.007\n",
       "Prob(Omnibus):                  0.000   Jarque-Bera (JB):          8162692.709\n",
       "Skew:                           7.843   Prob(JB):                         0.00\n",
       "Kurtosis:                     226.980   Cond. No.                         315.\n",
       "==============================================================================\n",
       "\n",
       "Notes:\n",
       "[1] Standard Errors assume that the covariance matrix of the errors is correctly specified.\n",
       "\"\"\""
      ]
     },
     "execution_count": 49,
     "metadata": {},
     "output_type": "execute_result"
    }
   ],
   "source": [
    "# Calibrate the monetary model (version 1)\n",
    "amount_model  = sm.OLS.from_formula('revenue_2015 ~ avg_amount + max_amount', in_sample.loc[z])\n",
    "amount_model_fit = amount_model.fit()\n",
    "amount_model_fit.summary()"
   ]
  },
  {
   "cell_type": "markdown",
   "id": "af3c8c82",
   "metadata": {},
   "source": [
    "Our square value is point 60, which is basically a signal of the fit of the model. But, we have a slight issue here.\n",
    "\n",
    "If we plot on one hand how much has been spent by customers and on the other we take the amount model we've just created through linear regression, and look at the fitted values, we get an ugly chart. And the reason is that most customers have spent small amounts and a few outliers have spent huge amounts, up to \\$4.000."
   ]
  },
  {
   "cell_type": "code",
   "execution_count": 50,
   "id": "67ac6f85",
   "metadata": {},
   "outputs": [
    {
     "data": {
      "text/plain": [
       "<matplotlib.collections.PathCollection at 0x7fb8d7f75b80>"
      ]
     },
     "execution_count": 50,
     "metadata": {},
     "output_type": "execute_result"
    },
    {
     "data": {
      "image/png": "[encoded data removed]",
      "text/plain": [
       "<Figure size 720x576 with 1 Axes>"
      ]
     },
     "metadata": {
      "needs_background": "light"
     },
     "output_type": "display_data"
    }
   ],
   "source": [
    "plt.scatter(in_sample.loc[z].revenue_2015, amount_model_fit.fittedvalues)"
   ]
  },
  {
   "cell_type": "markdown",
   "id": "5d6a616d",
   "metadata": {
    "tags": []
   },
   "source": [
    "So for optimization purposes, instead of creating a model with the amount we're going to create an amount with logaritmic distribution.\n",
    "\n",
    "So instead of predicting revenue 2015 bsed on average amount and maximum amount. We're going to predict the log of revenue 2015 based on the log on average"
   ]
  },
  {
   "cell_type": "code",
   "execution_count": 51,
   "id": "450376d1",
   "metadata": {},
   "outputs": [
    {
     "data": {
      "text/html": [
       "<table class=\"simpletable\">\n",
       "<caption>OLS Regression Results</caption>\n",
       "<tr>\n",
       "  <th>Dep. Variable:</th>    <td>np.log(revenue_2015)</td> <th>  R-squared:         </th> <td>   0.693</td>\n",
       "</tr>\n",
       "<tr>\n",
       "  <th>Model:</th>                     <td>OLS</td>         <th>  Adj. R-squared:    </th> <td>   0.693</td>\n",
       "</tr>\n",
       "<tr>\n",
       "  <th>Method:</th>               <td>Least Squares</td>    <th>  F-statistic:       </th> <td>   4377.</td>\n",
       "</tr>\n",
       "<tr>\n",
       "  <th>Date:</th>               <td>Thu, 22 Apr 2021</td>   <th>  Prob (F-statistic):</th>  <td>  0.00</td> \n",
       "</tr>\n",
       "<tr>\n",
       "  <th>Time:</th>                   <td>15:00:28</td>       <th>  Log-Likelihood:    </th> <td> -2644.6</td>\n",
       "</tr>\n",
       "<tr>\n",
       "  <th>No. Observations:</th>        <td>  3886</td>        <th>  AIC:               </th> <td>   5295.</td>\n",
       "</tr>\n",
       "<tr>\n",
       "  <th>Df Residuals:</th>            <td>  3883</td>        <th>  BIC:               </th> <td>   5314.</td>\n",
       "</tr>\n",
       "<tr>\n",
       "  <th>Df Model:</th>                <td>     2</td>        <th>                     </th>     <td> </td>   \n",
       "</tr>\n",
       "<tr>\n",
       "  <th>Covariance Type:</th>        <td>nonrobust</td>      <th>                     </th>     <td> </td>   \n",
       "</tr>\n",
       "</table>\n",
       "<table class=\"simpletable\">\n",
       "<tr>\n",
       "           <td></td>             <th>coef</th>     <th>std err</th>      <th>t</th>      <th>P>|t|</th>  <th>[0.025</th>    <th>0.975]</th>  \n",
       "</tr>\n",
       "<tr>\n",
       "  <th>Intercept</th>          <td>    0.3700</td> <td>    0.040</td> <td>    9.242</td> <td> 0.000</td> <td>    0.292</td> <td>    0.448</td>\n",
       "</tr>\n",
       "<tr>\n",
       "  <th>np.log(avg_amount)</th> <td>    0.5488</td> <td>    0.042</td> <td>   13.171</td> <td> 0.000</td> <td>    0.467</td> <td>    0.631</td>\n",
       "</tr>\n",
       "<tr>\n",
       "  <th>np.log(max_amount)</th> <td>    0.3881</td> <td>    0.038</td> <td>   10.224</td> <td> 0.000</td> <td>    0.314</td> <td>    0.463</td>\n",
       "</tr>\n",
       "</table>\n",
       "<table class=\"simpletable\">\n",
       "<tr>\n",
       "  <th>Omnibus:</th>       <td>501.505</td> <th>  Durbin-Watson:     </th> <td>   1.961</td>\n",
       "</tr>\n",
       "<tr>\n",
       "  <th>Prob(Omnibus):</th> <td> 0.000</td>  <th>  Jarque-Bera (JB):  </th> <td>3328.833</td>\n",
       "</tr>\n",
       "<tr>\n",
       "  <th>Skew:</th>          <td> 0.421</td>  <th>  Prob(JB):          </th> <td>    0.00</td>\n",
       "</tr>\n",
       "<tr>\n",
       "  <th>Kurtosis:</th>      <td> 7.455</td>  <th>  Cond. No.          </th> <td>    42.2</td>\n",
       "</tr>\n",
       "</table><br/><br/>Notes:<br/>[1] Standard Errors assume that the covariance matrix of the errors is correctly specified."
      ],
      "text/plain": [
       "<class 'statsmodels.iolib.summary.Summary'>\n",
       "\"\"\"\n",
       "                             OLS Regression Results                             \n",
       "================================================================================\n",
       "Dep. Variable:     np.log(revenue_2015)   R-squared:                       0.693\n",
       "Model:                              OLS   Adj. R-squared:                  0.693\n",
       "Method:                   Least Squares   F-statistic:                     4377.\n",
       "Date:                  Thu, 22 Apr 2021   Prob (F-statistic):               0.00\n",
       "Time:                          15:00:28   Log-Likelihood:                -2644.6\n",
       "No. Observations:                  3886   AIC:                             5295.\n",
       "Df Residuals:                      3883   BIC:                             5314.\n",
       "Df Model:                             2                                         \n",
       "Covariance Type:              nonrobust                                         \n",
       "======================================================================================\n",
       "                         coef    std err          t      P>|t|      [0.025      0.975]\n",
       "--------------------------------------------------------------------------------------\n",
       "Intercept              0.3700      0.040      9.242      0.000       0.292       0.448\n",
       "np.log(avg_amount)     0.5488      0.042     13.171      0.000       0.467       0.631\n",
       "np.log(max_amount)     0.3881      0.038     10.224      0.000       0.314       0.463\n",
       "==============================================================================\n",
       "Omnibus:                      501.505   Durbin-Watson:                   1.961\n",
       "Prob(Omnibus):                  0.000   Jarque-Bera (JB):             3328.833\n",
       "Skew:                           0.421   Prob(JB):                         0.00\n",
       "Kurtosis:                       7.455   Cond. No.                         42.2\n",
       "==============================================================================\n",
       "\n",
       "Notes:\n",
       "[1] Standard Errors assume that the covariance matrix of the errors is correctly specified.\n",
       "\"\"\""
      ]
     },
     "execution_count": 51,
     "metadata": {},
     "output_type": "execute_result"
    }
   ],
   "source": [
    "# Re-calibrate the monetary model, using a log-transform (version 2)\n",
    "amount_model = sm.OLS.from_formula('np.log(revenue_2015) ~ np.log(avg_amount) + np.log(max_amount)', in_sample.loc[z])\n",
    "amount_model_fit = amount_model.fit()\n",
    "amount_model_fit.summary()"
   ]
  },
  {
   "cell_type": "markdown",
   "id": "a410a9ff",
   "metadata": {},
   "source": [
    "The R-squared has improved, meaning we fit the data much better.\n",
    "\n",
    "Now the plot makes much more sense too. Since we put more weight to the smaller values and less weight to the very large values. \n",
    "\n",
    "It looks like we could generate a line through the cloud of points predicting the revenue of 2015."
   ]
  },
  {
   "cell_type": "code",
   "execution_count": 52,
   "id": "4a8bb5ef",
   "metadata": {},
   "outputs": [
    {
     "data": {
      "text/plain": [
       "<matplotlib.collections.PathCollection at 0x7fb8d6e0ce50>"
      ]
     },
     "execution_count": 52,
     "metadata": {},
     "output_type": "execute_result"
    },
    {
     "data": {
      "image/png": "[encoded data removed]",
      "text/plain": [
       "<Figure size 720x576 with 1 Axes>"
      ]
     },
     "metadata": {
      "needs_background": "light"
     },
     "output_type": "display_data"
    }
   ],
   "source": [
    "# Plot the results of the monetary model\n",
    "plt.scatter(np.log(in_sample.loc[z].revenue_2015), amount_model_fit.fittedvalues)"
   ]
  },
  {
   "cell_type": "markdown",
   "id": "bdcdeab9",
   "metadata": {},
   "source": [
    "To summarize we have just calibrated two models the first one over here, to predict the likelihood that someone will be active. And the second one over here to predict how much they will spend if they will be active in 2015. \n",
    "\n",
    "Now the end game of this exercise is actually to apply the models to predict the future. So what we are going to do is to look at today's behavior, today's data, and extract exactly the same information about today's customers as we used in terms of predictors about a year ago. So we're going to extract recency, first purchase, average amount, maximum amount, and everything else for the 2015 customers about whom of course we have no idea who will be active next year, and how much they'll spend in 2016. But we can try to predict that, with our model, so once you create that and that what is usually called the out of sample data set."
   ]
  },
  {
   "cell_type": "markdown",
   "id": "d4c72d87",
   "metadata": {},
   "source": [
    "## Apply The Model To Today's Data"
   ]
  },
  {
   "cell_type": "code",
   "execution_count": 53,
   "id": "4c6e9017",
   "metadata": {},
   "outputs": [],
   "source": [
    "# Compute RFM as of Today\n",
    "q = \"\"\"\n",
    "        SELECT customer_id, \n",
    "        MIN(days_since) AS 'recency', \n",
    "        MAX(days_since) AS 'first_purchase', \n",
    "        COUNT(*) AS 'frequency', \n",
    "        AVG(purchase_amount) AS 'avg_amount', \n",
    "        MAX(purchase_amount) AS 'max_amount' FROM df GROUP BY 1\n",
    "\"\"\"\n",
    "customers_2015 = sqldf(q, globals())"
   ]
  },
  {
   "cell_type": "code",
   "execution_count": 54,
   "id": "e0bc06d7",
   "metadata": {},
   "outputs": [],
   "source": [
    "# Predict the target variables based on today's data\n",
    "# 1st: we predict the probability that a customer is going to be in 2016 active\n",
    "customers_2015['prob_predicted'] = prob_model_fit.predict(customers_2015)\n",
    "\n",
    "# 2nd we predict the revenue\n",
    "# Since our model predicts the log(amount) we need to take the exponential of\n",
    "# the predicted revenue generated per customer\n",
    "customers_2015['revenue_predicted'] = np.exp(amount_model_fit.predict(customers_2015))\n",
    "\n",
    "# 3rd: we give a score to each customer which is the conjunction of probability\n",
    "# predicted multiplied by the amount.\n",
    "customers_2015['score_predicted'] = customers_2015['prob_predicted'] * customers_2015['revenue_predicted']"
   ]
  },
  {
   "cell_type": "code",
   "execution_count": 55,
   "id": "fb9e20e6",
   "metadata": {},
   "outputs": [
    {
     "data": {
      "text/plain": [
       "count   18,417.00\n",
       "mean         0.22\n",
       "std          0.25\n",
       "min          0.00\n",
       "25%          0.01\n",
       "50%          0.11\n",
       "75%          0.40\n",
       "max          1.00\n",
       "Name: prob_predicted, dtype: float64"
      ]
     },
     "execution_count": 55,
     "metadata": {},
     "output_type": "execute_result"
    }
   ],
   "source": [
    "customers_2015.prob_predicted.describe()"
   ]
  },
  {
   "cell_type": "code",
   "execution_count": 56,
   "id": "a8d0cbae",
   "metadata": {},
   "outputs": [
    {
     "data": {
      "text/plain": [
       "count   18,417.00\n",
       "mean        65.63\n",
       "std        147.89\n",
       "min          6.54\n",
       "25%         29.00\n",
       "50%         35.05\n",
       "75%         57.30\n",
       "max      3,832.95\n",
       "Name: revenue_predicted, dtype: float64"
      ]
     },
     "execution_count": 56,
     "metadata": {},
     "output_type": "execute_result"
    }
   ],
   "source": [
    "customers_2015.revenue_predicted.describe()"
   ]
  },
  {
   "cell_type": "code",
   "execution_count": 57,
   "id": "685c1b9d",
   "metadata": {},
   "outputs": [
    {
     "data": {
      "text/plain": [
       "count   18,417.00\n",
       "mean        18.83\n",
       "std         70.21\n",
       "min          0.00\n",
       "25%          0.46\n",
       "50%          4.56\n",
       "75%         17.96\n",
       "max      2,854.16\n",
       "Name: score_predicted, dtype: float64"
      ]
     },
     "execution_count": 57,
     "metadata": {},
     "output_type": "execute_result"
    }
   ],
   "source": [
    "customers_2015.score_predicted.describe()"
   ]
  },
  {
   "cell_type": "markdown",
   "id": "c844bacc",
   "metadata": {},
   "source": [
    "So the overall score Is actually a function of both and probability and revenue together. And the score has a mean of 18,8. What does it mean? From a managerial point of view, that value is extremely important. It means that, on the average, every customer in this database, will spend 18 point eight dollar next year."
   ]
  },
  {
   "cell_type": "code",
   "execution_count": 58,
   "id": "766ed6aa",
   "metadata": {},
   "outputs": [
    {
     "data": {
      "text/plain": [
       "<AxesSubplot:>"
      ]
     },
     "execution_count": 58,
     "metadata": {},
     "output_type": "execute_result"
    },
    {
     "data": {
      "image/png": "[encoded data removed]",
      "text/plain": [
       "<Figure size 720x576 with 1 Axes>"
      ]
     },
     "metadata": {
      "needs_background": "light"
     },
     "output_type": "display_data"
    }
   ],
   "source": [
    "customers_2015.score_predicted.hist(bins=30)"
   ]
  },
  {
   "cell_type": "markdown",
   "id": "4e898643",
   "metadata": {},
   "source": [
    "We'll take the customers here. Look at their predict score and only retain those with the score. Above \\\\$50, and if you look at that, it will create a vector of people with a score above \\\\$50, which contains a total of 1323 customers. So in the list of 18,000 customers here about 1,300 have a predicted score of \\\\$50 or more and you can see which ones they are."
   ]
  },
  {
   "cell_type": "code",
   "execution_count": 59,
   "id": "a68e10a1",
   "metadata": {},
   "outputs": [
    {
     "name": "stdout",
     "output_type": "stream",
     "text": [
      "1324\n"
     ]
    }
   ],
   "source": [
    "# How many customers have an expected revenue of more than $50\n",
    "z = customers_2015[customers_2015.score_predicted > 50].index.tolist()\n",
    "print(len(z))"
   ]
  },
  {
   "cell_type": "code",
   "execution_count": 60,
   "id": "a7c2e8f9",
   "metadata": {},
   "outputs": [
    {
     "data": {
      "text/plain": [
       "2            90\n",
       "17          480\n",
       "38         1020\n",
       "41         1050\n",
       "42         1150\n",
       "          ...  \n",
       "18372    263080\n",
       "18391    263340\n",
       "18392    263350\n",
       "18402    263470\n",
       "18416    264200\n",
       "Name: customer_id, Length: 1324, dtype: int64"
      ]
     },
     "execution_count": 60,
     "metadata": {},
     "output_type": "execute_result"
    }
   ],
   "source": [
    "# Customers with the highest score:\n",
    "customers_2015['customer_id'].loc[z]"
   ]
  }
 ],
 "metadata": {
  "kernelspec": {
   "display_name": "Python 3",
   "language": "python",
   "name": "python3"
  },
  "language_info": {
   "codemirror_mode": {
    "name": "ipython",
    "version": 3
   },
   "file_extension": ".py",
   "mimetype": "text/x-python",
   "name": "python",
   "nbconvert_exporter": "python",
   "pygments_lexer": "ipython3",
   "version": "3.9.4"
  }
 },
 "nbformat": 4,
 "nbformat_minor": 5
}
