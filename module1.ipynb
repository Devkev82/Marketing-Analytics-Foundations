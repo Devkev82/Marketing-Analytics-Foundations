{
 "cells": [
  {
   "cell_type": "markdown",
   "id": "5b08ec10",
   "metadata": {},
   "source": [
    "# Computing Recency, Frequency, Monetary Value"
   ]
  },
  {
   "cell_type": "code",
   "execution_count": 1,
   "id": "ec16824c",
   "metadata": {},
   "outputs": [],
   "source": [
    "import pandas as pd\n",
    "import numpy as np\n",
    "import matplotlib.pyplot as plt\n",
    "from pandasql import sqldf\n",
    "from sklearn.preprocessing import scale\n",
    "from scipy.spatial.distance import pdist\n",
    "from scipy.cluster.hierarchy import dendrogram , linkage, cut_tree"
   ]
  },
  {
   "cell_type": "code",
   "execution_count": 2,
   "id": "cde67132",
   "metadata": {},
   "outputs": [],
   "source": [
    "pysqldf = lambda q: sqldf(q, globals())\n",
    "%precision %.2f\n",
    "pd.options.display.float_format = '{:,.2f}'.format\n",
    "%matplotlib widget"
   ]
  },
  {
   "cell_type": "code",
   "execution_count": 3,
   "id": "b7a1e71b",
   "metadata": {},
   "outputs": [
    {
     "data": {
      "text/html": [
       "<div>\n",
       "<style scoped>\n",
       "    .dataframe tbody tr th:only-of-type {\n",
       "        vertical-align: middle;\n",
       "    }\n",
       "\n",
       "    .dataframe tbody tr th {\n",
       "        vertical-align: top;\n",
       "    }\n",
       "\n",
       "    .dataframe thead th {\n",
       "        text-align: right;\n",
       "    }\n",
       "</style>\n",
       "<table border=\"1\" class=\"dataframe\">\n",
       "  <thead>\n",
       "    <tr style=\"text-align: right;\">\n",
       "      <th></th>\n",
       "      <th>customer_id</th>\n",
       "      <th>purchase_amount</th>\n",
       "      <th>date_of_purchase</th>\n",
       "    </tr>\n",
       "  </thead>\n",
       "  <tbody>\n",
       "    <tr>\n",
       "      <th>4510</th>\n",
       "      <td>8060</td>\n",
       "      <td>30.00</td>\n",
       "      <td>2014-12-24</td>\n",
       "    </tr>\n",
       "    <tr>\n",
       "      <th>17761</th>\n",
       "      <td>109180</td>\n",
       "      <td>50.00</td>\n",
       "      <td>2009-11-25</td>\n",
       "    </tr>\n",
       "    <tr>\n",
       "      <th>39110</th>\n",
       "      <td>9830</td>\n",
       "      <td>30.00</td>\n",
       "      <td>2007-06-12</td>\n",
       "    </tr>\n",
       "    <tr>\n",
       "      <th>37183</th>\n",
       "      <td>56400</td>\n",
       "      <td>60.00</td>\n",
       "      <td>2009-09-30</td>\n",
       "    </tr>\n",
       "    <tr>\n",
       "      <th>33705</th>\n",
       "      <td>41290</td>\n",
       "      <td>60.00</td>\n",
       "      <td>2007-08-21</td>\n",
       "    </tr>\n",
       "  </tbody>\n",
       "</table>\n",
       "</div>"
      ],
      "text/plain": [
       "       customer_id  purchase_amount date_of_purchase\n",
       "4510          8060            30.00       2014-12-24\n",
       "17761       109180            50.00       2009-11-25\n",
       "39110         9830            30.00       2007-06-12\n",
       "37183        56400            60.00       2009-09-30\n",
       "33705        41290            60.00       2007-08-21"
      ]
     },
     "execution_count": 3,
     "metadata": {},
     "output_type": "execute_result"
    }
   ],
   "source": [
    "columns = ['customer_id', 'purchase_amount', 'date_of_purchase']\n",
    "df = pd.read_csv('purchases.txt', header=None, sep='\\t',\n",
    "            names=columns)\n",
    "df.sample(n=5, random_state=57)"
   ]
  },
  {
   "cell_type": "code",
   "execution_count": 4,
   "id": "0b7e8f7a",
   "metadata": {},
   "outputs": [
    {
     "data": {
      "text/html": [
       "<div>\n",
       "<style scoped>\n",
       "    .dataframe tbody tr th:only-of-type {\n",
       "        vertical-align: middle;\n",
       "    }\n",
       "\n",
       "    .dataframe tbody tr th {\n",
       "        vertical-align: top;\n",
       "    }\n",
       "\n",
       "    .dataframe thead th {\n",
       "        text-align: right;\n",
       "    }\n",
       "</style>\n",
       "<table border=\"1\" class=\"dataframe\">\n",
       "  <thead>\n",
       "    <tr style=\"text-align: right;\">\n",
       "      <th></th>\n",
       "      <th>customer_id</th>\n",
       "      <th>purchase_amount</th>\n",
       "      <th>date_of_purchase</th>\n",
       "      <th>year_of_purchase</th>\n",
       "    </tr>\n",
       "  </thead>\n",
       "  <tbody>\n",
       "    <tr>\n",
       "      <th>0</th>\n",
       "      <td>760</td>\n",
       "      <td>25.00</td>\n",
       "      <td>2009-11-06</td>\n",
       "      <td>2009</td>\n",
       "    </tr>\n",
       "    <tr>\n",
       "      <th>1</th>\n",
       "      <td>860</td>\n",
       "      <td>50.00</td>\n",
       "      <td>2012-09-28</td>\n",
       "      <td>2012</td>\n",
       "    </tr>\n",
       "    <tr>\n",
       "      <th>2</th>\n",
       "      <td>1200</td>\n",
       "      <td>100.00</td>\n",
       "      <td>2005-10-25</td>\n",
       "      <td>2005</td>\n",
       "    </tr>\n",
       "    <tr>\n",
       "      <th>3</th>\n",
       "      <td>1420</td>\n",
       "      <td>50.00</td>\n",
       "      <td>2009-07-09</td>\n",
       "      <td>2009</td>\n",
       "    </tr>\n",
       "    <tr>\n",
       "      <th>4</th>\n",
       "      <td>1940</td>\n",
       "      <td>70.00</td>\n",
       "      <td>2013-01-25</td>\n",
       "      <td>2013</td>\n",
       "    </tr>\n",
       "  </tbody>\n",
       "</table>\n",
       "</div>"
      ],
      "text/plain": [
       "   customer_id  purchase_amount date_of_purchase  year_of_purchase\n",
       "0          760            25.00       2009-11-06              2009\n",
       "1          860            50.00       2012-09-28              2012\n",
       "2         1200           100.00       2005-10-25              2005\n",
       "3         1420            50.00       2009-07-09              2009\n",
       "4         1940            70.00       2013-01-25              2013"
      ]
     },
     "execution_count": 4,
     "metadata": {},
     "output_type": "execute_result"
    }
   ],
   "source": [
    "# interpret the last column as datetime\n",
    "df['date_of_purchase'] = pd.to_datetime(df['date_of_purchase'], \n",
    "                                        format='%Y-%m-%d')\n",
    "# Extract year of purchase and save it as a column\n",
    "df['year_of_purchase'] = df['date_of_purchase'].dt.year\n",
    "df.head()"
   ]
  },
  {
   "cell_type": "code",
   "execution_count": 5,
   "id": "1f49f7f4",
   "metadata": {},
   "outputs": [],
   "source": [
    "# Add a day_since column showing the difference between last purchase and a basedate\n",
    "basedate = pd.Timestamp('2016-01-01')\n",
    "df['days_since'] = (basedate - df['date_of_purchase']).dt.days"
   ]
  },
  {
   "cell_type": "code",
   "execution_count": 6,
   "id": "0ec2c924",
   "metadata": {},
   "outputs": [
    {
     "name": "stdout",
     "output_type": "stream",
     "text": [
      "<class 'pandas.core.frame.DataFrame'>\n",
      "RangeIndex: 51243 entries, 0 to 51242\n",
      "Data columns (total 5 columns):\n",
      " #   Column            Non-Null Count  Dtype         \n",
      "---  ------            --------------  -----         \n",
      " 0   customer_id       51243 non-null  int64         \n",
      " 1   purchase_amount   51243 non-null  float64       \n",
      " 2   date_of_purchase  51243 non-null  datetime64[ns]\n",
      " 3   year_of_purchase  51243 non-null  int64         \n",
      " 4   days_since        51243 non-null  int64         \n",
      "dtypes: datetime64[ns](1), float64(1), int64(3)\n",
      "memory usage: 2.0 MB\n"
     ]
    }
   ],
   "source": [
    "df.info()"
   ]
  },
  {
   "cell_type": "code",
   "execution_count": 7,
   "id": "7edeb82a",
   "metadata": {},
   "outputs": [
    {
     "data": {
      "text/html": [
       "<div>\n",
       "<style scoped>\n",
       "    .dataframe tbody tr th:only-of-type {\n",
       "        vertical-align: middle;\n",
       "    }\n",
       "\n",
       "    .dataframe tbody tr th {\n",
       "        vertical-align: top;\n",
       "    }\n",
       "\n",
       "    .dataframe thead th {\n",
       "        text-align: right;\n",
       "    }\n",
       "</style>\n",
       "<table border=\"1\" class=\"dataframe\">\n",
       "  <thead>\n",
       "    <tr style=\"text-align: right;\">\n",
       "      <th></th>\n",
       "      <th>customer_id</th>\n",
       "      <th>purchase_amount</th>\n",
       "      <th>date_of_purchase</th>\n",
       "      <th>year_of_purchase</th>\n",
       "      <th>days_since</th>\n",
       "    </tr>\n",
       "  </thead>\n",
       "  <tbody>\n",
       "    <tr>\n",
       "      <th>0</th>\n",
       "      <td>760</td>\n",
       "      <td>25.00</td>\n",
       "      <td>2009-11-06</td>\n",
       "      <td>2009</td>\n",
       "      <td>2247</td>\n",
       "    </tr>\n",
       "    <tr>\n",
       "      <th>1</th>\n",
       "      <td>860</td>\n",
       "      <td>50.00</td>\n",
       "      <td>2012-09-28</td>\n",
       "      <td>2012</td>\n",
       "      <td>1190</td>\n",
       "    </tr>\n",
       "    <tr>\n",
       "      <th>2</th>\n",
       "      <td>1200</td>\n",
       "      <td>100.00</td>\n",
       "      <td>2005-10-25</td>\n",
       "      <td>2005</td>\n",
       "      <td>3720</td>\n",
       "    </tr>\n",
       "    <tr>\n",
       "      <th>3</th>\n",
       "      <td>1420</td>\n",
       "      <td>50.00</td>\n",
       "      <td>2009-07-09</td>\n",
       "      <td>2009</td>\n",
       "      <td>2367</td>\n",
       "    </tr>\n",
       "    <tr>\n",
       "      <th>4</th>\n",
       "      <td>1940</td>\n",
       "      <td>70.00</td>\n",
       "      <td>2013-01-25</td>\n",
       "      <td>2013</td>\n",
       "      <td>1071</td>\n",
       "    </tr>\n",
       "  </tbody>\n",
       "</table>\n",
       "</div>"
      ],
      "text/plain": [
       "   customer_id  purchase_amount date_of_purchase  year_of_purchase  days_since\n",
       "0          760            25.00       2009-11-06              2009        2247\n",
       "1          860            50.00       2012-09-28              2012        1190\n",
       "2         1200           100.00       2005-10-25              2005        3720\n",
       "3         1420            50.00       2009-07-09              2009        2367\n",
       "4         1940            70.00       2013-01-25              2013        1071"
      ]
     },
     "execution_count": 7,
     "metadata": {},
     "output_type": "execute_result"
    }
   ],
   "source": [
    "df.head()"
   ]
  },
  {
   "cell_type": "markdown",
   "id": "34f2aec8",
   "metadata": {},
   "source": [
    "Next we are going to compute the customers recency, frequency and average purchase amount. This part is a big tricky specially when it's done with pandas. \n",
    "\n",
    "The trick here is that the customer ID will only appear once for every customer. So even though we have 51,000 purchases we'll only have as many unique customer IDs as there are in the database.\n",
    "\n",
    "Now, for each customer, we need to compute the minimum number of days between all of his or her purchases and january 1st, 2016. Of course, if we take the minimum number of days, then we are going to have the day of the last purchase, which is the very definition of **recency**.\n",
    "\n",
    "Then for each customer we need to compute the frequency, which is basically how many purchases that customer has made.\n",
    "\n",
    " The asterisk here basically means anything in the data that is related to that customer we could have put any known variable here, it wouldn't change and then for the amount we going to compute the average of purchase amount for that specific customer ID and name that aggregate computation as amount. Now, the trick is that we'd like to make sure that each row only appears one for each customer. So we going to compute that from the data and group by one, meaning that everything here is going to be computed and grouped per customer ID"
   ]
  },
  {
   "cell_type": "code",
   "execution_count": 8,
   "id": "f53784bf",
   "metadata": {},
   "outputs": [],
   "source": [
    "# Compute recency, frequency, and average purchase amount\n",
    "q = \"\"\"\n",
    "        SELECT customer_id,\n",
    "        MIN(days_since) AS 'recency',\n",
    "        COUNT(*) AS 'frequency',\n",
    "        AVG(purchase_amount) AS 'amount'\n",
    "        FROM df GROUP BY 1\"\"\"\n",
    "customers = sqldf(q)"
   ]
  },
  {
   "cell_type": "code",
   "execution_count": 9,
   "id": "2b886797",
   "metadata": {},
   "outputs": [
    {
     "data": {
      "text/html": [
       "<div>\n",
       "<style scoped>\n",
       "    .dataframe tbody tr th:only-of-type {\n",
       "        vertical-align: middle;\n",
       "    }\n",
       "\n",
       "    .dataframe tbody tr th {\n",
       "        vertical-align: top;\n",
       "    }\n",
       "\n",
       "    .dataframe thead th {\n",
       "        text-align: right;\n",
       "    }\n",
       "</style>\n",
       "<table border=\"1\" class=\"dataframe\">\n",
       "  <thead>\n",
       "    <tr style=\"text-align: right;\">\n",
       "      <th></th>\n",
       "      <th>customer_id</th>\n",
       "      <th>recency</th>\n",
       "      <th>frequency</th>\n",
       "      <th>amount</th>\n",
       "    </tr>\n",
       "  </thead>\n",
       "  <tbody>\n",
       "    <tr>\n",
       "      <th>0</th>\n",
       "      <td>10</td>\n",
       "      <td>3829</td>\n",
       "      <td>1</td>\n",
       "      <td>30.00</td>\n",
       "    </tr>\n",
       "    <tr>\n",
       "      <th>1</th>\n",
       "      <td>80</td>\n",
       "      <td>343</td>\n",
       "      <td>7</td>\n",
       "      <td>71.43</td>\n",
       "    </tr>\n",
       "    <tr>\n",
       "      <th>2</th>\n",
       "      <td>90</td>\n",
       "      <td>758</td>\n",
       "      <td>10</td>\n",
       "      <td>115.80</td>\n",
       "    </tr>\n",
       "    <tr>\n",
       "      <th>3</th>\n",
       "      <td>120</td>\n",
       "      <td>1401</td>\n",
       "      <td>1</td>\n",
       "      <td>20.00</td>\n",
       "    </tr>\n",
       "    <tr>\n",
       "      <th>4</th>\n",
       "      <td>130</td>\n",
       "      <td>2970</td>\n",
       "      <td>2</td>\n",
       "      <td>50.00</td>\n",
       "    </tr>\n",
       "    <tr>\n",
       "      <th>...</th>\n",
       "      <td>...</td>\n",
       "      <td>...</td>\n",
       "      <td>...</td>\n",
       "      <td>...</td>\n",
       "    </tr>\n",
       "    <tr>\n",
       "      <th>18412</th>\n",
       "      <td>263820</td>\n",
       "      <td>1</td>\n",
       "      <td>1</td>\n",
       "      <td>10.00</td>\n",
       "    </tr>\n",
       "    <tr>\n",
       "      <th>18413</th>\n",
       "      <td>263870</td>\n",
       "      <td>135</td>\n",
       "      <td>1</td>\n",
       "      <td>50.00</td>\n",
       "    </tr>\n",
       "    <tr>\n",
       "      <th>18414</th>\n",
       "      <td>263880</td>\n",
       "      <td>34</td>\n",
       "      <td>1</td>\n",
       "      <td>20.00</td>\n",
       "    </tr>\n",
       "    <tr>\n",
       "      <th>18415</th>\n",
       "      <td>263890</td>\n",
       "      <td>5</td>\n",
       "      <td>1</td>\n",
       "      <td>54.00</td>\n",
       "    </tr>\n",
       "    <tr>\n",
       "      <th>18416</th>\n",
       "      <td>264200</td>\n",
       "      <td>1</td>\n",
       "      <td>1</td>\n",
       "      <td>500.00</td>\n",
       "    </tr>\n",
       "  </tbody>\n",
       "</table>\n",
       "<p>18417 rows × 4 columns</p>\n",
       "</div>"
      ],
      "text/plain": [
       "       customer_id  recency  frequency  amount\n",
       "0               10     3829          1   30.00\n",
       "1               80      343          7   71.43\n",
       "2               90      758         10  115.80\n",
       "3              120     1401          1   20.00\n",
       "4              130     2970          2   50.00\n",
       "...            ...      ...        ...     ...\n",
       "18412       263820        1          1   10.00\n",
       "18413       263870      135          1   50.00\n",
       "18414       263880       34          1   20.00\n",
       "18415       263890        5          1   54.00\n",
       "18416       264200        1          1  500.00\n",
       "\n",
       "[18417 rows x 4 columns]"
      ]
     },
     "execution_count": 9,
     "metadata": {},
     "output_type": "execute_result"
    }
   ],
   "source": [
    "customers"
   ]
  },
  {
   "cell_type": "code",
   "execution_count": 10,
   "id": "ac4ad309",
   "metadata": {},
   "outputs": [
    {
     "data": {
      "text/html": [
       "<div>\n",
       "<style scoped>\n",
       "    .dataframe tbody tr th:only-of-type {\n",
       "        vertical-align: middle;\n",
       "    }\n",
       "\n",
       "    .dataframe tbody tr th {\n",
       "        vertical-align: top;\n",
       "    }\n",
       "\n",
       "    .dataframe thead th {\n",
       "        text-align: right;\n",
       "    }\n",
       "</style>\n",
       "<table border=\"1\" class=\"dataframe\">\n",
       "  <thead>\n",
       "    <tr style=\"text-align: right;\">\n",
       "      <th></th>\n",
       "      <th>customer_id</th>\n",
       "      <th>recency</th>\n",
       "      <th>frequency</th>\n",
       "      <th>amount</th>\n",
       "    </tr>\n",
       "  </thead>\n",
       "  <tbody>\n",
       "    <tr>\n",
       "      <th>count</th>\n",
       "      <td>18,417.00</td>\n",
       "      <td>18,417.00</td>\n",
       "      <td>18,417.00</td>\n",
       "      <td>18,417.00</td>\n",
       "    </tr>\n",
       "    <tr>\n",
       "      <th>mean</th>\n",
       "      <td>137,573.51</td>\n",
       "      <td>1,253.04</td>\n",
       "      <td>2.78</td>\n",
       "      <td>57.79</td>\n",
       "    </tr>\n",
       "    <tr>\n",
       "      <th>std</th>\n",
       "      <td>69,504.60</td>\n",
       "      <td>1,081.44</td>\n",
       "      <td>2.94</td>\n",
       "      <td>154.36</td>\n",
       "    </tr>\n",
       "    <tr>\n",
       "      <th>min</th>\n",
       "      <td>10.00</td>\n",
       "      <td>1.00</td>\n",
       "      <td>1.00</td>\n",
       "      <td>5.00</td>\n",
       "    </tr>\n",
       "    <tr>\n",
       "      <th>25%</th>\n",
       "      <td>81,990.00</td>\n",
       "      <td>244.00</td>\n",
       "      <td>1.00</td>\n",
       "      <td>21.67</td>\n",
       "    </tr>\n",
       "    <tr>\n",
       "      <th>50%</th>\n",
       "      <td>136,430.00</td>\n",
       "      <td>1,070.00</td>\n",
       "      <td>2.00</td>\n",
       "      <td>30.00</td>\n",
       "    </tr>\n",
       "    <tr>\n",
       "      <th>75%</th>\n",
       "      <td>195,100.00</td>\n",
       "      <td>2,130.00</td>\n",
       "      <td>3.00</td>\n",
       "      <td>50.00</td>\n",
       "    </tr>\n",
       "    <tr>\n",
       "      <th>max</th>\n",
       "      <td>264,200.00</td>\n",
       "      <td>4,014.00</td>\n",
       "      <td>45.00</td>\n",
       "      <td>4,500.00</td>\n",
       "    </tr>\n",
       "  </tbody>\n",
       "</table>\n",
       "</div>"
      ],
      "text/plain": [
       "       customer_id   recency  frequency    amount\n",
       "count    18,417.00 18,417.00  18,417.00 18,417.00\n",
       "mean    137,573.51  1,253.04       2.78     57.79\n",
       "std      69,504.60  1,081.44       2.94    154.36\n",
       "min          10.00      1.00       1.00      5.00\n",
       "25%      81,990.00    244.00       1.00     21.67\n",
       "50%     136,430.00  1,070.00       2.00     30.00\n",
       "75%     195,100.00  2,130.00       3.00     50.00\n",
       "max     264,200.00  4,014.00      45.00  4,500.00"
      ]
     },
     "execution_count": 10,
     "metadata": {},
     "output_type": "execute_result"
    }
   ],
   "source": [
    "customers.describe()"
   ]
  },
  {
   "cell_type": "code",
   "execution_count": 11,
   "id": "b3d792b9",
   "metadata": {
    "tags": []
   },
   "outputs": [
    {
     "data": {
      "text/html": [
       "<div>\n",
       "<style scoped>\n",
       "    .dataframe tbody tr th:only-of-type {\n",
       "        vertical-align: middle;\n",
       "    }\n",
       "\n",
       "    .dataframe tbody tr th {\n",
       "        vertical-align: top;\n",
       "    }\n",
       "\n",
       "    .dataframe thead th {\n",
       "        text-align: right;\n",
       "    }\n",
       "</style>\n",
       "<table border=\"1\" class=\"dataframe\">\n",
       "  <thead>\n",
       "    <tr style=\"text-align: right;\">\n",
       "      <th></th>\n",
       "      <th>customer_id</th>\n",
       "      <th>purchase_amount</th>\n",
       "      <th>year_of_purchase</th>\n",
       "      <th>days_since</th>\n",
       "    </tr>\n",
       "  </thead>\n",
       "  <tbody>\n",
       "    <tr>\n",
       "      <th>count</th>\n",
       "      <td>51,243.00</td>\n",
       "      <td>51,243.00</td>\n",
       "      <td>51,243.00</td>\n",
       "      <td>51,243.00</td>\n",
       "    </tr>\n",
       "    <tr>\n",
       "      <th>mean</th>\n",
       "      <td>108,934.55</td>\n",
       "      <td>62.34</td>\n",
       "      <td>2,010.87</td>\n",
       "      <td>1,631.94</td>\n",
       "    </tr>\n",
       "    <tr>\n",
       "      <th>std</th>\n",
       "      <td>67,650.61</td>\n",
       "      <td>156.61</td>\n",
       "      <td>2.88</td>\n",
       "      <td>1,061.08</td>\n",
       "    </tr>\n",
       "    <tr>\n",
       "      <th>min</th>\n",
       "      <td>10.00</td>\n",
       "      <td>5.00</td>\n",
       "      <td>2,005.00</td>\n",
       "      <td>1.00</td>\n",
       "    </tr>\n",
       "    <tr>\n",
       "      <th>25%</th>\n",
       "      <td>57,720.00</td>\n",
       "      <td>25.00</td>\n",
       "      <td>2,009.00</td>\n",
       "      <td>733.00</td>\n",
       "    </tr>\n",
       "    <tr>\n",
       "      <th>50%</th>\n",
       "      <td>102,440.00</td>\n",
       "      <td>30.00</td>\n",
       "      <td>2,011.00</td>\n",
       "      <td>1,500.00</td>\n",
       "    </tr>\n",
       "    <tr>\n",
       "      <th>75%</th>\n",
       "      <td>160,525.00</td>\n",
       "      <td>60.00</td>\n",
       "      <td>2,013.00</td>\n",
       "      <td>2,540.00</td>\n",
       "    </tr>\n",
       "    <tr>\n",
       "      <th>max</th>\n",
       "      <td>264,200.00</td>\n",
       "      <td>4,500.00</td>\n",
       "      <td>2,015.00</td>\n",
       "      <td>4,016.00</td>\n",
       "    </tr>\n",
       "  </tbody>\n",
       "</table>\n",
       "</div>"
      ],
      "text/plain": [
       "       customer_id  purchase_amount  year_of_purchase  days_since\n",
       "count    51,243.00        51,243.00         51,243.00   51,243.00\n",
       "mean    108,934.55            62.34          2,010.87    1,631.94\n",
       "std      67,650.61           156.61              2.88    1,061.08\n",
       "min          10.00             5.00          2,005.00        1.00\n",
       "25%      57,720.00            25.00          2,009.00      733.00\n",
       "50%     102,440.00            30.00          2,011.00    1,500.00\n",
       "75%     160,525.00            60.00          2,013.00    2,540.00\n",
       "max     264,200.00         4,500.00          2,015.00    4,016.00"
      ]
     },
     "execution_count": 11,
     "metadata": {},
     "output_type": "execute_result"
    }
   ],
   "source": [
    "df.describe()"
   ]
  },
  {
   "cell_type": "code",
   "execution_count": 12,
   "id": "ebba6de0",
   "metadata": {},
   "outputs": [
    {
     "data": {
      "application/vnd.jupyter.widget-view+json": {
       "model_id": "b5664610875448678ff829780976c74e",
       "version_major": 2,
       "version_minor": 0
      },
      "text/plain": [
       "Canvas(toolbar=Toolbar(toolitems=[('Home', 'Reset original view', 'home', 'home'), ('Back', 'Back to previous …"
      ]
     },
     "metadata": {},
     "output_type": "display_data"
    },
    {
     "data": {
      "text/plain": [
       "(0.00, 4214.65)"
      ]
     },
     "execution_count": 12,
     "metadata": {},
     "output_type": "execute_result"
    }
   ],
   "source": [
    "customers.hist(column='recency', bins=70);\n",
    "plt.xlim(0,)"
   ]
  },
  {
   "cell_type": "code",
   "execution_count": 13,
   "id": "27b4f2f8",
   "metadata": {},
   "outputs": [
    {
     "data": {
      "application/vnd.jupyter.widget-view+json": {
       "model_id": "41b20a4ad73148c088c451954a6925f9",
       "version_major": 2,
       "version_minor": 0
      },
      "text/plain": [
       "Canvas(toolbar=Toolbar(toolitems=[('Home', 'Reset original view', 'home', 'home'), ('Back', 'Back to previous …"
      ]
     },
     "metadata": {},
     "output_type": "display_data"
    },
    {
     "data": {
      "text/plain": [
       "(0.00, 30.00)"
      ]
     },
     "execution_count": 13,
     "metadata": {},
     "output_type": "execute_result"
    }
   ],
   "source": [
    "customers.hist(column='frequency', bins=40);\n",
    "plt.xlim(0,30)"
   ]
  },
  {
   "cell_type": "code",
   "execution_count": 14,
   "id": "72da1e9a",
   "metadata": {},
   "outputs": [
    {
     "data": {
      "application/vnd.jupyter.widget-view+json": {
       "model_id": "607d75729f564bf18cd5780d18443b0b",
       "version_major": 2,
       "version_minor": 0
      },
      "text/plain": [
       "Canvas(toolbar=Toolbar(toolitems=[('Home', 'Reset original view', 'home', 'home'), ('Back', 'Back to previous …"
      ]
     },
     "metadata": {},
     "output_type": "display_data"
    },
    {
     "data": {
      "text/plain": [
       "(0.00, 5008.50)"
      ]
     },
     "execution_count": 14,
     "metadata": {},
     "output_type": "execute_result"
    }
   ],
   "source": [
    "customers.hist(column='amount', bins=421);\n",
    "plt.xlim(0,400)\n",
    "plt.ylim(0,)"
   ]
  },
  {
   "cell_type": "markdown",
   "id": "08ccd641",
   "metadata": {},
   "source": [
    "# Preparing and Transforming Data\n"
   ]
  },
  {
   "cell_type": "code",
   "execution_count": 15,
   "id": "75adb81f",
   "metadata": {},
   "outputs": [],
   "source": [
    "new_data = customers.copy()"
   ]
  },
  {
   "cell_type": "code",
   "execution_count": 16,
   "id": "e94ea9c8",
   "metadata": {},
   "outputs": [
    {
     "data": {
      "text/html": [
       "<div>\n",
       "<style scoped>\n",
       "    .dataframe tbody tr th:only-of-type {\n",
       "        vertical-align: middle;\n",
       "    }\n",
       "\n",
       "    .dataframe tbody tr th {\n",
       "        vertical-align: top;\n",
       "    }\n",
       "\n",
       "    .dataframe thead th {\n",
       "        text-align: right;\n",
       "    }\n",
       "</style>\n",
       "<table border=\"1\" class=\"dataframe\">\n",
       "  <thead>\n",
       "    <tr style=\"text-align: right;\">\n",
       "      <th></th>\n",
       "      <th>customer_id</th>\n",
       "      <th>recency</th>\n",
       "      <th>frequency</th>\n",
       "      <th>amount</th>\n",
       "    </tr>\n",
       "  </thead>\n",
       "  <tbody>\n",
       "    <tr>\n",
       "      <th>0</th>\n",
       "      <td>10</td>\n",
       "      <td>3829</td>\n",
       "      <td>1</td>\n",
       "      <td>30.00</td>\n",
       "    </tr>\n",
       "    <tr>\n",
       "      <th>1</th>\n",
       "      <td>80</td>\n",
       "      <td>343</td>\n",
       "      <td>7</td>\n",
       "      <td>71.43</td>\n",
       "    </tr>\n",
       "    <tr>\n",
       "      <th>2</th>\n",
       "      <td>90</td>\n",
       "      <td>758</td>\n",
       "      <td>10</td>\n",
       "      <td>115.80</td>\n",
       "    </tr>\n",
       "    <tr>\n",
       "      <th>3</th>\n",
       "      <td>120</td>\n",
       "      <td>1401</td>\n",
       "      <td>1</td>\n",
       "      <td>20.00</td>\n",
       "    </tr>\n",
       "    <tr>\n",
       "      <th>4</th>\n",
       "      <td>130</td>\n",
       "      <td>2970</td>\n",
       "      <td>2</td>\n",
       "      <td>50.00</td>\n",
       "    </tr>\n",
       "  </tbody>\n",
       "</table>\n",
       "</div>"
      ],
      "text/plain": [
       "   customer_id  recency  frequency  amount\n",
       "0           10     3829          1   30.00\n",
       "1           80      343          7   71.43\n",
       "2           90      758         10  115.80\n",
       "3          120     1401          1   20.00\n",
       "4          130     2970          2   50.00"
      ]
     },
     "execution_count": 16,
     "metadata": {},
     "output_type": "execute_result"
    }
   ],
   "source": [
    "new_data.head()"
   ]
  },
  {
   "cell_type": "code",
   "execution_count": 17,
   "id": "e8b11270",
   "metadata": {},
   "outputs": [],
   "source": [
    "new_data.set_index('customer_id', inplace=True)"
   ]
  },
  {
   "cell_type": "code",
   "execution_count": 18,
   "id": "91affb25",
   "metadata": {},
   "outputs": [
    {
     "data": {
      "text/html": [
       "<div>\n",
       "<style scoped>\n",
       "    .dataframe tbody tr th:only-of-type {\n",
       "        vertical-align: middle;\n",
       "    }\n",
       "\n",
       "    .dataframe tbody tr th {\n",
       "        vertical-align: top;\n",
       "    }\n",
       "\n",
       "    .dataframe thead th {\n",
       "        text-align: right;\n",
       "    }\n",
       "</style>\n",
       "<table border=\"1\" class=\"dataframe\">\n",
       "  <thead>\n",
       "    <tr style=\"text-align: right;\">\n",
       "      <th></th>\n",
       "      <th>recency</th>\n",
       "      <th>frequency</th>\n",
       "      <th>amount</th>\n",
       "    </tr>\n",
       "    <tr>\n",
       "      <th>customer_id</th>\n",
       "      <th></th>\n",
       "      <th></th>\n",
       "      <th></th>\n",
       "    </tr>\n",
       "  </thead>\n",
       "  <tbody>\n",
       "    <tr>\n",
       "      <th>10</th>\n",
       "      <td>3829</td>\n",
       "      <td>1</td>\n",
       "      <td>30.00</td>\n",
       "    </tr>\n",
       "    <tr>\n",
       "      <th>80</th>\n",
       "      <td>343</td>\n",
       "      <td>7</td>\n",
       "      <td>71.43</td>\n",
       "    </tr>\n",
       "    <tr>\n",
       "      <th>90</th>\n",
       "      <td>758</td>\n",
       "      <td>10</td>\n",
       "      <td>115.80</td>\n",
       "    </tr>\n",
       "    <tr>\n",
       "      <th>120</th>\n",
       "      <td>1401</td>\n",
       "      <td>1</td>\n",
       "      <td>20.00</td>\n",
       "    </tr>\n",
       "    <tr>\n",
       "      <th>130</th>\n",
       "      <td>2970</td>\n",
       "      <td>2</td>\n",
       "      <td>50.00</td>\n",
       "    </tr>\n",
       "  </tbody>\n",
       "</table>\n",
       "</div>"
      ],
      "text/plain": [
       "             recency  frequency  amount\n",
       "customer_id                            \n",
       "10              3829          1   30.00\n",
       "80               343          7   71.43\n",
       "90               758         10  115.80\n",
       "120             1401          1   20.00\n",
       "130             2970          2   50.00"
      ]
     },
     "execution_count": 18,
     "metadata": {},
     "output_type": "execute_result"
    }
   ],
   "source": [
    "new_data.head()"
   ]
  },
  {
   "cell_type": "code",
   "execution_count": 19,
   "id": "bc8ea3a1",
   "metadata": {},
   "outputs": [
    {
     "data": {
      "application/vnd.jupyter.widget-view+json": {
       "model_id": "0e467a8d5599432dba43f52341078799",
       "version_major": 2,
       "version_minor": 0
      },
      "text/plain": [
       "Canvas(toolbar=Toolbar(toolitems=[('Home', 'Reset original view', 'home', 'home'), ('Back', 'Back to previous …"
      ]
     },
     "metadata": {},
     "output_type": "display_data"
    }
   ],
   "source": [
    "# As we have seen in the previous plots, the histogram of average purchase amounts\n",
    "# is extremely skewed to the left. Which makes it unuseful for segmentation purpose\n",
    "# So let's take the log of it\n",
    "new_data['amount'] = np.log10(new_data['amount'])\n",
    "new_data.hist(column='amount');"
   ]
  },
  {
   "cell_type": "code",
   "execution_count": 20,
   "id": "1601cdb6",
   "metadata": {},
   "outputs": [
    {
     "data": {
      "text/html": [
       "<div>\n",
       "<style scoped>\n",
       "    .dataframe tbody tr th:only-of-type {\n",
       "        vertical-align: middle;\n",
       "    }\n",
       "\n",
       "    .dataframe tbody tr th {\n",
       "        vertical-align: top;\n",
       "    }\n",
       "\n",
       "    .dataframe thead th {\n",
       "        text-align: right;\n",
       "    }\n",
       "</style>\n",
       "<table border=\"1\" class=\"dataframe\">\n",
       "  <thead>\n",
       "    <tr style=\"text-align: right;\">\n",
       "      <th></th>\n",
       "      <th>recency</th>\n",
       "      <th>frequency</th>\n",
       "      <th>amount</th>\n",
       "    </tr>\n",
       "    <tr>\n",
       "      <th>customer_id</th>\n",
       "      <th></th>\n",
       "      <th></th>\n",
       "      <th></th>\n",
       "    </tr>\n",
       "  </thead>\n",
       "  <tbody>\n",
       "    <tr>\n",
       "      <th>10</th>\n",
       "      <td>2.38</td>\n",
       "      <td>-0.61</td>\n",
       "      <td>-0.24</td>\n",
       "    </tr>\n",
       "    <tr>\n",
       "      <th>80</th>\n",
       "      <td>-0.84</td>\n",
       "      <td>1.44</td>\n",
       "      <td>0.89</td>\n",
       "    </tr>\n",
       "    <tr>\n",
       "      <th>90</th>\n",
       "      <td>-0.46</td>\n",
       "      <td>2.46</td>\n",
       "      <td>1.52</td>\n",
       "    </tr>\n",
       "    <tr>\n",
       "      <th>120</th>\n",
       "      <td>0.14</td>\n",
       "      <td>-0.61</td>\n",
       "      <td>-0.76</td>\n",
       "    </tr>\n",
       "    <tr>\n",
       "      <th>130</th>\n",
       "      <td>1.59</td>\n",
       "      <td>-0.27</td>\n",
       "      <td>0.43</td>\n",
       "    </tr>\n",
       "  </tbody>\n",
       "</table>\n",
       "</div>"
      ],
      "text/plain": [
       "             recency  frequency  amount\n",
       "customer_id                            \n",
       "10              2.38      -0.61   -0.24\n",
       "80             -0.84       1.44    0.89\n",
       "90             -0.46       2.46    1.52\n",
       "120             0.14      -0.61   -0.76\n",
       "130             1.59      -0.27    0.43"
      ]
     },
     "execution_count": 20,
     "metadata": {},
     "output_type": "execute_result"
    }
   ],
   "source": [
    "# Scaling using the sklearn scaling function\n",
    "new_data = pd.DataFrame(scale(new_data), index=new_data.index, columns=new_data.columns)\n",
    "new_data.head()\n",
    "\n",
    "# Now the data is ready for being segmented and analyzed"
   ]
  },
  {
   "cell_type": "markdown",
   "id": "49983d34",
   "metadata": {},
   "source": [
    "# Running a Hierarchical Segmentation"
   ]
  },
  {
   "cell_type": "code",
   "execution_count": 21,
   "id": "1c7146d0",
   "metadata": {},
   "outputs": [
    {
     "name": "stdout",
     "output_type": "stream",
     "text": [
      "(339185889, 3)\n"
     ]
    }
   ],
   "source": [
    "# Compute distance metrics on standardized data\n",
    "# This will likely generate an error on most machines\n",
    "# R: d = dist(new_data) \n",
    "# since it generate a matrix with:\n",
    "print(f'({new_data.shape[0]**2}, {new_data.shape[1]})')"
   ]
  },
  {
   "cell_type": "code",
   "execution_count": 22,
   "id": "88a1ede2",
   "metadata": {},
   "outputs": [
    {
     "data": {
      "text/plain": [
       "array([ 0, 10, 20, 30, 40, 50, 60, 70, 80, 90])"
      ]
     },
     "execution_count": 22,
     "metadata": {},
     "output_type": "execute_result"
    }
   ],
   "source": [
    "# so Let's take a 10% sample\n",
    "sample = np.arange(0, 18417, 10)\n",
    "sample[:10]"
   ]
  },
  {
   "cell_type": "code",
   "execution_count": 23,
   "id": "0230d38f",
   "metadata": {},
   "outputs": [
    {
     "data": {
      "text/html": [
       "<div>\n",
       "<style scoped>\n",
       "    .dataframe tbody tr th:only-of-type {\n",
       "        vertical-align: middle;\n",
       "    }\n",
       "\n",
       "    .dataframe tbody tr th {\n",
       "        vertical-align: top;\n",
       "    }\n",
       "\n",
       "    .dataframe thead th {\n",
       "        text-align: right;\n",
       "    }\n",
       "</style>\n",
       "<table border=\"1\" class=\"dataframe\">\n",
       "  <thead>\n",
       "    <tr style=\"text-align: right;\">\n",
       "      <th></th>\n",
       "      <th>recency</th>\n",
       "      <th>frequency</th>\n",
       "      <th>amount</th>\n",
       "    </tr>\n",
       "    <tr>\n",
       "      <th>customer_id</th>\n",
       "      <th></th>\n",
       "      <th></th>\n",
       "      <th></th>\n",
       "    </tr>\n",
       "  </thead>\n",
       "  <tbody>\n",
       "    <tr>\n",
       "      <th>10</th>\n",
       "      <td>2.38</td>\n",
       "      <td>-0.61</td>\n",
       "      <td>-0.24</td>\n",
       "    </tr>\n",
       "    <tr>\n",
       "      <th>260</th>\n",
       "      <td>2.27</td>\n",
       "      <td>-0.61</td>\n",
       "      <td>-1.14</td>\n",
       "    </tr>\n",
       "    <tr>\n",
       "      <th>510</th>\n",
       "      <td>2.26</td>\n",
       "      <td>-0.61</td>\n",
       "      <td>-0.24</td>\n",
       "    </tr>\n",
       "    <tr>\n",
       "      <th>850</th>\n",
       "      <td>-1.14</td>\n",
       "      <td>2.46</td>\n",
       "      <td>-0.30</td>\n",
       "    </tr>\n",
       "    <tr>\n",
       "      <th>1040</th>\n",
       "      <td>-1.11</td>\n",
       "      <td>0.41</td>\n",
       "      <td>0.22</td>\n",
       "    </tr>\n",
       "  </tbody>\n",
       "</table>\n",
       "</div>"
      ],
      "text/plain": [
       "             recency  frequency  amount\n",
       "customer_id                            \n",
       "10              2.38      -0.61   -0.24\n",
       "260             2.27      -0.61   -1.14\n",
       "510             2.26      -0.61   -0.24\n",
       "850            -1.14       2.46   -0.30\n",
       "1040           -1.11       0.41    0.22"
      ]
     },
     "execution_count": 23,
     "metadata": {},
     "output_type": "execute_result"
    }
   ],
   "source": [
    "new_data_sample = new_data.iloc[sample]\n",
    "new_data_sample.head()"
   ]
  },
  {
   "cell_type": "code",
   "execution_count": 24,
   "id": "7986b988",
   "metadata": {},
   "outputs": [
    {
     "data": {
      "text/html": [
       "<div>\n",
       "<style scoped>\n",
       "    .dataframe tbody tr th:only-of-type {\n",
       "        vertical-align: middle;\n",
       "    }\n",
       "\n",
       "    .dataframe tbody tr th {\n",
       "        vertical-align: top;\n",
       "    }\n",
       "\n",
       "    .dataframe thead th {\n",
       "        text-align: right;\n",
       "    }\n",
       "</style>\n",
       "<table border=\"1\" class=\"dataframe\">\n",
       "  <thead>\n",
       "    <tr style=\"text-align: right;\">\n",
       "      <th></th>\n",
       "      <th>customer_id</th>\n",
       "      <th>recency</th>\n",
       "      <th>frequency</th>\n",
       "      <th>amount</th>\n",
       "    </tr>\n",
       "  </thead>\n",
       "  <tbody>\n",
       "    <tr>\n",
       "      <th>0</th>\n",
       "      <td>10</td>\n",
       "      <td>3829</td>\n",
       "      <td>1</td>\n",
       "      <td>30.00</td>\n",
       "    </tr>\n",
       "    <tr>\n",
       "      <th>10</th>\n",
       "      <td>260</td>\n",
       "      <td>3710</td>\n",
       "      <td>1</td>\n",
       "      <td>15.00</td>\n",
       "    </tr>\n",
       "    <tr>\n",
       "      <th>20</th>\n",
       "      <td>510</td>\n",
       "      <td>3698</td>\n",
       "      <td>1</td>\n",
       "      <td>30.00</td>\n",
       "    </tr>\n",
       "    <tr>\n",
       "      <th>30</th>\n",
       "      <td>850</td>\n",
       "      <td>24</td>\n",
       "      <td>10</td>\n",
       "      <td>28.50</td>\n",
       "    </tr>\n",
       "    <tr>\n",
       "      <th>40</th>\n",
       "      <td>1040</td>\n",
       "      <td>56</td>\n",
       "      <td>4</td>\n",
       "      <td>42.50</td>\n",
       "    </tr>\n",
       "  </tbody>\n",
       "</table>\n",
       "</div>"
      ],
      "text/plain": [
       "    customer_id  recency  frequency  amount\n",
       "0            10     3829          1   30.00\n",
       "10          260     3710          1   15.00\n",
       "20          510     3698          1   30.00\n",
       "30          850       24         10   28.50\n",
       "40         1040       56          4   42.50"
      ]
     },
     "execution_count": 24,
     "metadata": {},
     "output_type": "execute_result"
    }
   ],
   "source": [
    "customers_sample = customers.iloc[sample].copy()\n",
    "customers_sample.head()"
   ]
  },
  {
   "cell_type": "code",
   "execution_count": 25,
   "id": "d2ca803c",
   "metadata": {},
   "outputs": [
    {
     "data": {
      "text/plain": [
       "(1695561,)"
      ]
     },
     "execution_count": 25,
     "metadata": {},
     "output_type": "execute_result"
    }
   ],
   "source": [
    "# Compute the distance metrics on standardized data\n",
    "d = pdist(new_data_sample)\n",
    "d.shape"
   ]
  },
  {
   "cell_type": "code",
   "execution_count": 26,
   "id": "034e1208",
   "metadata": {},
   "outputs": [
    {
     "data": {
      "application/vnd.jupyter.widget-view+json": {
       "model_id": "51312955fccf48faabf3003a919e368b",
       "version_major": 2,
       "version_minor": 0
      },
      "text/plain": [
       "Canvas(toolbar=Toolbar(toolitems=[('Home', 'Reset original view', 'home', 'home'), ('Back', 'Back to previous …"
      ]
     },
     "metadata": {},
     "output_type": "display_data"
    }
   ],
   "source": [
    "# Perform hierarchical clustering on distance metrics\n",
    "c = linkage(d, method='ward')\n",
    "\n",
    "plt.figure(figsize=(10, 7))\n",
    "plt.title(\"Customer Dendograms\")\n",
    "\n",
    "# Plot dendrogram\n",
    "dend = dendrogram(c)"
   ]
  },
  {
   "cell_type": "code",
   "execution_count": 27,
   "id": "1cb81291",
   "metadata": {},
   "outputs": [
    {
     "data": {
      "text/plain": [
       "(1841, 4)"
      ]
     },
     "execution_count": 27,
     "metadata": {},
     "output_type": "execute_result"
    }
   ],
   "source": [
    "c.shape"
   ]
  },
  {
   "cell_type": "code",
   "execution_count": 28,
   "id": "e689183c",
   "metadata": {},
   "outputs": [],
   "source": [
    "members = cut_tree(c, n_clusters=9)"
   ]
  },
  {
   "cell_type": "code",
   "execution_count": 29,
   "id": "35887228",
   "metadata": {},
   "outputs": [
    {
     "data": {
      "text/plain": [
       "array([[0],\n",
       "       [1],\n",
       "       [0],\n",
       "       [2],\n",
       "       [3]])"
      ]
     },
     "execution_count": 29,
     "metadata": {},
     "output_type": "execute_result"
    }
   ],
   "source": [
    "members[:5]"
   ]
  },
  {
   "cell_type": "code",
   "execution_count": 30,
   "id": "eed2d01b",
   "metadata": {},
   "outputs": [
    {
     "data": {
      "text/plain": [
       "(1842, 1)"
      ]
     },
     "execution_count": 30,
     "metadata": {},
     "output_type": "execute_result"
    }
   ],
   "source": [
    "members.shape"
   ]
  },
  {
   "cell_type": "code",
   "execution_count": 37,
   "id": "2f711dcd",
   "metadata": {},
   "outputs": [],
   "source": [
    "groups, counts = np.unique(members, return_counts=True)\n",
    "segments = dict(zip(groups, counts))"
   ]
  },
  {
   "cell_type": "code",
   "execution_count": 32,
   "id": "419ab60b",
   "metadata": {},
   "outputs": [],
   "source": [
    "customers_sample['group'] = members.flatten()"
   ]
  },
  {
   "cell_type": "code",
   "execution_count": 33,
   "id": "e8ad6eee",
   "metadata": {},
   "outputs": [
    {
     "name": "stdout",
     "output_type": "stream",
     "text": [
      "<class 'pandas.core.frame.DataFrame'>\n",
      "Int64Index: 1842 entries, 0 to 18410\n",
      "Data columns (total 5 columns):\n",
      " #   Column       Non-Null Count  Dtype  \n",
      "---  ------       --------------  -----  \n",
      " 0   customer_id  1842 non-null   int64  \n",
      " 1   recency      1842 non-null   int64  \n",
      " 2   frequency    1842 non-null   int64  \n",
      " 3   amount       1842 non-null   float64\n",
      " 4   group        1842 non-null   int64  \n",
      "dtypes: float64(1), int64(4)\n",
      "memory usage: 86.3 KB\n"
     ]
    }
   ],
   "source": [
    "customers_sample.info()"
   ]
  },
  {
   "cell_type": "code",
   "execution_count": 35,
   "id": "d53f7be8",
   "metadata": {},
   "outputs": [],
   "source": [
    "clusters = customers_sample[['recency', 'frequency', 'amount', 'group']].groupby('group').mean()"
   ]
  },
  {
   "cell_type": "code",
   "execution_count": 36,
   "id": "a70b5c6e",
   "metadata": {
    "tags": []
   },
   "outputs": [
    {
     "data": {
      "text/html": [
       "<div>\n",
       "<style scoped>\n",
       "    .dataframe tbody tr th:only-of-type {\n",
       "        vertical-align: middle;\n",
       "    }\n",
       "\n",
       "    .dataframe tbody tr th {\n",
       "        vertical-align: top;\n",
       "    }\n",
       "\n",
       "    .dataframe thead th {\n",
       "        text-align: right;\n",
       "    }\n",
       "</style>\n",
       "<table border=\"1\" class=\"dataframe\">\n",
       "  <thead>\n",
       "    <tr style=\"text-align: right;\">\n",
       "      <th></th>\n",
       "      <th>recency</th>\n",
       "      <th>frequency</th>\n",
       "      <th>amount</th>\n",
       "    </tr>\n",
       "    <tr>\n",
       "      <th>group</th>\n",
       "      <th></th>\n",
       "      <th></th>\n",
       "      <th></th>\n",
       "    </tr>\n",
       "  </thead>\n",
       "  <tbody>\n",
       "    <tr>\n",
       "      <th>0</th>\n",
       "      <td>2,563.24</td>\n",
       "      <td>1.28</td>\n",
       "      <td>37.78</td>\n",
       "    </tr>\n",
       "    <tr>\n",
       "      <th>1</th>\n",
       "      <td>2,684.29</td>\n",
       "      <td>1.31</td>\n",
       "      <td>16.26</td>\n",
       "    </tr>\n",
       "    <tr>\n",
       "      <th>2</th>\n",
       "      <td>193.65</td>\n",
       "      <td>10.62</td>\n",
       "      <td>42.02</td>\n",
       "    </tr>\n",
       "    <tr>\n",
       "      <th>3</th>\n",
       "      <td>162.10</td>\n",
       "      <td>2.40</td>\n",
       "      <td>41.11</td>\n",
       "    </tr>\n",
       "    <tr>\n",
       "      <th>4</th>\n",
       "      <td>2,567.04</td>\n",
       "      <td>1.86</td>\n",
       "      <td>214.86</td>\n",
       "    </tr>\n",
       "    <tr>\n",
       "      <th>5</th>\n",
       "      <td>448.58</td>\n",
       "      <td>6.58</td>\n",
       "      <td>261.22</td>\n",
       "    </tr>\n",
       "    <tr>\n",
       "      <th>6</th>\n",
       "      <td>1,143.69</td>\n",
       "      <td>4.47</td>\n",
       "      <td>29.85</td>\n",
       "    </tr>\n",
       "    <tr>\n",
       "      <th>7</th>\n",
       "      <td>922.83</td>\n",
       "      <td>1.28</td>\n",
       "      <td>22.43</td>\n",
       "    </tr>\n",
       "    <tr>\n",
       "      <th>8</th>\n",
       "      <td>799.34</td>\n",
       "      <td>1.40</td>\n",
       "      <td>87.43</td>\n",
       "    </tr>\n",
       "  </tbody>\n",
       "</table>\n",
       "</div>"
      ],
      "text/plain": [
       "       recency  frequency  amount\n",
       "group                            \n",
       "0     2,563.24       1.28   37.78\n",
       "1     2,684.29       1.31   16.26\n",
       "2       193.65      10.62   42.02\n",
       "3       162.10       2.40   41.11\n",
       "4     2,567.04       1.86  214.86\n",
       "5       448.58       6.58  261.22\n",
       "6     1,143.69       4.47   29.85\n",
       "7       922.83       1.28   22.43\n",
       "8       799.34       1.40   87.43"
      ]
     },
     "execution_count": 36,
     "metadata": {},
     "output_type": "execute_result"
    }
   ],
   "source": [
    "clusters"
   ]
  },
  {
   "cell_type": "markdown",
   "id": "eaf2163d",
   "metadata": {},
   "source": [
    "Q1: What is the size of the largest segment?\n",
    "\n",
    "Answer Q1:"
   ]
  },
  {
   "cell_type": "code",
   "execution_count": 44,
   "id": "f2cf01dc",
   "metadata": {},
   "outputs": [
    {
     "data": {
      "text/plain": [
       "317"
      ]
     },
     "execution_count": 44,
     "metadata": {},
     "output_type": "execute_result"
    }
   ],
   "source": [
    "max(segments.values())"
   ]
  },
  {
   "cell_type": "markdown",
   "id": "93567668",
   "metadata": {},
   "source": [
    "Q2: What is the average purchase amount of the segment which contains, on average, the customers who have made their last purchase the most recently?\n",
    "\n",
    "Answer Q2:"
   ]
  },
  {
   "cell_type": "code",
   "execution_count": 41,
   "id": "b6198c91",
   "metadata": {},
   "outputs": [
    {
     "data": {
      "text/plain": [
       "41.10640522875818"
      ]
     },
     "execution_count": 41,
     "metadata": {},
     "output_type": "execute_result"
    }
   ],
   "source": [
    "clusters.iloc[clusters['recency'].idxmin()]['amount']"
   ]
  },
  {
   "cell_type": "code",
   "execution_count": 48,
   "id": "2ed9bb05",
   "metadata": {},
   "outputs": [
    {
     "ename": "KeyError",
     "evalue": "\"None of ['customer_id'] are in the columns\"",
     "output_type": "error",
     "traceback": [
      "\u001b[0;31m---------------------------------------------------------------------------\u001b[0m",
      "\u001b[0;31mKeyError\u001b[0m                                  Traceback (most recent call last)",
      "\u001b[0;32m<ipython-input-48-67364f9da957>\u001b[0m in \u001b[0;36m<module>\u001b[0;34m\u001b[0m\n\u001b[0;32m----> 1\u001b[0;31m \u001b[0mcustomers_sample\u001b[0m\u001b[0;34m.\u001b[0m\u001b[0mset_index\u001b[0m\u001b[0;34m(\u001b[0m\u001b[0;34m'customer_id'\u001b[0m\u001b[0;34m,\u001b[0m \u001b[0minplace\u001b[0m\u001b[0;34m=\u001b[0m\u001b[0;32mTrue\u001b[0m\u001b[0;34m)\u001b[0m\u001b[0;34m\u001b[0m\u001b[0;34m\u001b[0m\u001b[0m\n\u001b[0m\u001b[1;32m      2\u001b[0m \u001b[0mcustomers_sample\u001b[0m\u001b[0;34m\u001b[0m\u001b[0;34m\u001b[0m\u001b[0m\n",
      "\u001b[0;32m~/miniconda3/lib/python3.7/site-packages/pandas/core/frame.py\u001b[0m in \u001b[0;36mset_index\u001b[0;34m(self, keys, drop, append, inplace, verify_integrity)\u001b[0m\n\u001b[1;32m   4725\u001b[0m \u001b[0;34m\u001b[0m\u001b[0m\n\u001b[1;32m   4726\u001b[0m         \u001b[0;32mif\u001b[0m \u001b[0mmissing\u001b[0m\u001b[0;34m:\u001b[0m\u001b[0;34m\u001b[0m\u001b[0;34m\u001b[0m\u001b[0m\n\u001b[0;32m-> 4727\u001b[0;31m             \u001b[0;32mraise\u001b[0m \u001b[0mKeyError\u001b[0m\u001b[0;34m(\u001b[0m\u001b[0;34mf\"None of {missing} are in the columns\"\u001b[0m\u001b[0;34m)\u001b[0m\u001b[0;34m\u001b[0m\u001b[0;34m\u001b[0m\u001b[0m\n\u001b[0m\u001b[1;32m   4728\u001b[0m \u001b[0;34m\u001b[0m\u001b[0m\n\u001b[1;32m   4729\u001b[0m         \u001b[0;32mif\u001b[0m \u001b[0minplace\u001b[0m\u001b[0;34m:\u001b[0m\u001b[0;34m\u001b[0m\u001b[0;34m\u001b[0m\u001b[0m\n",
      "\u001b[0;31mKeyError\u001b[0m: \"None of ['customer_id'] are in the columns\""
     ]
    }
   ],
   "source": [
    "customers_sample.set_index('customer_id', inplace=True)"
   ]
  },
  {
   "cell_type": "code",
   "execution_count": 50,
   "id": "a9428857",
   "metadata": {},
   "outputs": [
    {
     "data": {
      "text/plain": [
       "False"
      ]
     },
     "execution_count": 50,
     "metadata": {},
     "output_type": "execute_result"
    }
   ],
   "source": [
    "customers_sample.loc[260]['group'] == customers_sample.loc[5920]['group']"
   ]
  },
  {
   "cell_type": "markdown",
   "id": "c773ca9d",
   "metadata": {},
   "source": [
    "Looking at the average profile of segment 1, would you say that members of this segment are typically...(you'll have to choose the right proposition)"
   ]
  },
  {
   "cell_type": "code",
   "execution_count": 52,
   "id": "55910804",
   "metadata": {},
   "outputs": [
    {
     "data": {
      "text/html": [
       "<div>\n",
       "<style scoped>\n",
       "    .dataframe tbody tr th:only-of-type {\n",
       "        vertical-align: middle;\n",
       "    }\n",
       "\n",
       "    .dataframe tbody tr th {\n",
       "        vertical-align: top;\n",
       "    }\n",
       "\n",
       "    .dataframe thead th {\n",
       "        text-align: right;\n",
       "    }\n",
       "</style>\n",
       "<table border=\"1\" class=\"dataframe\">\n",
       "  <thead>\n",
       "    <tr style=\"text-align: right;\">\n",
       "      <th></th>\n",
       "      <th>recency</th>\n",
       "      <th>frequency</th>\n",
       "      <th>amount</th>\n",
       "    </tr>\n",
       "    <tr>\n",
       "      <th>group</th>\n",
       "      <th></th>\n",
       "      <th></th>\n",
       "      <th></th>\n",
       "    </tr>\n",
       "  </thead>\n",
       "  <tbody>\n",
       "    <tr>\n",
       "      <th>0</th>\n",
       "      <td>2,563.24</td>\n",
       "      <td>1.28</td>\n",
       "      <td>37.78</td>\n",
       "    </tr>\n",
       "    <tr>\n",
       "      <th>1</th>\n",
       "      <td>2,684.29</td>\n",
       "      <td>1.31</td>\n",
       "      <td>16.26</td>\n",
       "    </tr>\n",
       "    <tr>\n",
       "      <th>2</th>\n",
       "      <td>193.65</td>\n",
       "      <td>10.62</td>\n",
       "      <td>42.02</td>\n",
       "    </tr>\n",
       "    <tr>\n",
       "      <th>3</th>\n",
       "      <td>162.10</td>\n",
       "      <td>2.40</td>\n",
       "      <td>41.11</td>\n",
       "    </tr>\n",
       "    <tr>\n",
       "      <th>4</th>\n",
       "      <td>2,567.04</td>\n",
       "      <td>1.86</td>\n",
       "      <td>214.86</td>\n",
       "    </tr>\n",
       "    <tr>\n",
       "      <th>5</th>\n",
       "      <td>448.58</td>\n",
       "      <td>6.58</td>\n",
       "      <td>261.22</td>\n",
       "    </tr>\n",
       "    <tr>\n",
       "      <th>6</th>\n",
       "      <td>1,143.69</td>\n",
       "      <td>4.47</td>\n",
       "      <td>29.85</td>\n",
       "    </tr>\n",
       "    <tr>\n",
       "      <th>7</th>\n",
       "      <td>922.83</td>\n",
       "      <td>1.28</td>\n",
       "      <td>22.43</td>\n",
       "    </tr>\n",
       "    <tr>\n",
       "      <th>8</th>\n",
       "      <td>799.34</td>\n",
       "      <td>1.40</td>\n",
       "      <td>87.43</td>\n",
       "    </tr>\n",
       "  </tbody>\n",
       "</table>\n",
       "</div>"
      ],
      "text/plain": [
       "       recency  frequency  amount\n",
       "group                            \n",
       "0     2,563.24       1.28   37.78\n",
       "1     2,684.29       1.31   16.26\n",
       "2       193.65      10.62   42.02\n",
       "3       162.10       2.40   41.11\n",
       "4     2,567.04       1.86  214.86\n",
       "5       448.58       6.58  261.22\n",
       "6     1,143.69       4.47   29.85\n",
       "7       922.83       1.28   22.43\n",
       "8       799.34       1.40   87.43"
      ]
     },
     "execution_count": 52,
     "metadata": {},
     "output_type": "execute_result"
    }
   ],
   "source": [
    "clusters"
   ]
  },
  {
   "cell_type": "code",
   "execution_count": null,
   "id": "61f2402d",
   "metadata": {},
   "outputs": [],
   "source": []
  }
 ],
 "metadata": {
  "kernelspec": {
   "display_name": "Python 3",
   "language": "python",
   "name": "python3"
  },
  "language_info": {
   "codemirror_mode": {
    "name": "ipython",
    "version": 3
   },
   "file_extension": ".py",
   "mimetype": "text/x-python",
   "name": "python",
   "nbconvert_exporter": "python",
   "pygments_lexer": "ipython3",
   "version": "3.9.4"
  }
 },
 "nbformat": 4,
 "nbformat_minor": 5
}
