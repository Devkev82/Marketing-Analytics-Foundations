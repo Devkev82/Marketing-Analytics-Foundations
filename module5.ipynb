{
 "cells": [
  {
   "cell_type": "code",
   "execution_count": 1,
   "id": "1cd9aa6b",
   "metadata": {},
   "outputs": [],
   "source": [
    "# import needed packages\n",
    "import pandas as pd\n",
    "import numpy as np\n",
    "import matplotlib.pyplot as plt\n",
    "import matplotlib as mpl\n",
    "import squarify\n",
    "import statsmodels.api as sm\n",
    "from sklearn.linear_model import LogisticRegression\n",
    "import patsy\n",
    "from pandasql import sqldf"
   ]
  },
  {
   "cell_type": "code",
   "execution_count": 2,
   "id": "ac6cd9e9",
   "metadata": {},
   "outputs": [],
   "source": [
    "# Set notebook environment\n",
    "pysqldf = lambda q: sqldf(q, globals())\n",
    "%precision %.3f\n",
    "pd.options.display.float_format = '{:,.2f}'.format\n",
    "plt.rcParams[\"figure.figsize\"] = 10,8"
   ]
  },
  {
   "cell_type": "code",
   "execution_count": 3,
   "id": "1bbb8829",
   "metadata": {},
   "outputs": [
    {
     "data": {
      "text/html": [
       "<div>\n",
       "<style scoped>\n",
       "    .dataframe tbody tr th:only-of-type {\n",
       "        vertical-align: middle;\n",
       "    }\n",
       "\n",
       "    .dataframe tbody tr th {\n",
       "        vertical-align: top;\n",
       "    }\n",
       "\n",
       "    .dataframe thead th {\n",
       "        text-align: right;\n",
       "    }\n",
       "</style>\n",
       "<table border=\"1\" class=\"dataframe\">\n",
       "  <thead>\n",
       "    <tr style=\"text-align: right;\">\n",
       "      <th></th>\n",
       "      <th>customer_id</th>\n",
       "      <th>purchase_amount</th>\n",
       "      <th>date_of_purchase</th>\n",
       "      <th>year_of_purchase</th>\n",
       "    </tr>\n",
       "  </thead>\n",
       "  <tbody>\n",
       "    <tr>\n",
       "      <th>4510</th>\n",
       "      <td>8060</td>\n",
       "      <td>30.00</td>\n",
       "      <td>2014-12-24</td>\n",
       "      <td>2014</td>\n",
       "    </tr>\n",
       "    <tr>\n",
       "      <th>17761</th>\n",
       "      <td>109180</td>\n",
       "      <td>50.00</td>\n",
       "      <td>2009-11-25</td>\n",
       "      <td>2009</td>\n",
       "    </tr>\n",
       "    <tr>\n",
       "      <th>39110</th>\n",
       "      <td>9830</td>\n",
       "      <td>30.00</td>\n",
       "      <td>2007-06-12</td>\n",
       "      <td>2007</td>\n",
       "    </tr>\n",
       "    <tr>\n",
       "      <th>37183</th>\n",
       "      <td>56400</td>\n",
       "      <td>60.00</td>\n",
       "      <td>2009-09-30</td>\n",
       "      <td>2009</td>\n",
       "    </tr>\n",
       "    <tr>\n",
       "      <th>33705</th>\n",
       "      <td>41290</td>\n",
       "      <td>60.00</td>\n",
       "      <td>2007-08-21</td>\n",
       "      <td>2007</td>\n",
       "    </tr>\n",
       "  </tbody>\n",
       "</table>\n",
       "</div>"
      ],
      "text/plain": [
       "       customer_id  purchase_amount date_of_purchase  year_of_purchase\n",
       "4510          8060            30.00       2014-12-24              2014\n",
       "17761       109180            50.00       2009-11-25              2009\n",
       "39110         9830            30.00       2007-06-12              2007\n",
       "37183        56400            60.00       2009-09-30              2009\n",
       "33705        41290            60.00       2007-08-21              2007"
      ]
     },
     "execution_count": 3,
     "metadata": {},
     "output_type": "execute_result"
    }
   ],
   "source": [
    "# Load text file into a local variable\n",
    "columns = ['customer_id', 'purchase_amount', 'date_of_purchase']\n",
    "df = pd.read_csv('purchases.txt', header=None, sep='\\t',\n",
    "            names=columns)\n",
    "# interpret the last column as datetime\n",
    "df['date_of_purchase'] = pd.to_datetime(df['date_of_purchase'], \n",
    "                                        format='%Y-%m-%d')\n",
    "# Extract year of purchase and save it as a column\n",
    "df['year_of_purchase'] = df['date_of_purchase'].dt.year\n",
    "df.sample(n=5, random_state=57)"
   ]
  },
  {
   "cell_type": "code",
   "execution_count": 4,
   "id": "2535e8e3",
   "metadata": {},
   "outputs": [],
   "source": [
    "# Add a day_since column showing the difference between last purchase and a basedate\n",
    "basedate = pd.Timestamp('2016-01-01')\n",
    "df['days_since'] = (basedate - df['date_of_purchase']).dt.days"
   ]
  },
  {
   "cell_type": "markdown",
   "id": "48b73d26",
   "metadata": {
    "tags": []
   },
   "source": [
    "--------"
   ]
  },
  {
   "cell_type": "markdown",
   "id": "17ffa3dc",
   "metadata": {},
   "source": [
    "# Segment customers in 2015"
   ]
  },
  {
   "cell_type": "code",
   "execution_count": 5,
   "id": "3435339e",
   "metadata": {},
   "outputs": [],
   "source": [
    "# Segment customers in 2015\n",
    "q = \"\"\"\n",
    "        SELECT customer_id,\n",
    "        MIN(days_since) AS 'recency',\n",
    "        MAX(days_since) AS 'first_purchase',\n",
    "        COUNT(*) AS 'frequency',\n",
    "        AVG(purchase_amount) AS 'amount'\n",
    "        FROM df GROUP BY 1\"\"\"\n",
    "customers_2015 = sqldf(q)"
   ]
  },
  {
   "cell_type": "code",
   "execution_count": 6,
   "id": "ca9e16b6",
   "metadata": {},
   "outputs": [],
   "source": [
    "customers_2015.loc[customers_2015['recency'] > 365*3, 'segment'] = 'inactive'\n",
    "customers_2015['segment'] =  customers_2015['segment'].fillna('NA')\n",
    "customers_2015.loc[(customers_2015['recency']<= 365*3) & \n",
    "                   (customers_2015['recency'] > 356*2), 'segment'] = \"cold\"\n",
    "customers_2015.loc[(customers_2015['recency']<= 365*2) & \n",
    "                   (customers_2015['recency'] > 365*1), 'segment'] = \"warm\"\n",
    "customers_2015.loc[customers_2015['recency']<= 365, 'segment'] = \"active\"\n",
    "customers_2015.loc[(customers_2015['segment'] == \"warm\") &\n",
    "                  (customers_2015['first_purchase'] <= 365*2), 'segment'] = \"new warm\"\n",
    "customers_2015.loc[(customers_2015['segment'] == \"warm\") &\n",
    "                  (customers_2015['amount'] < 100), 'segment'] = \"warm low value\"\n",
    "customers_2015.loc[(customers_2015['segment'] == \"warm\") &\n",
    "                  (customers_2015['amount'] >= 100), 'segment'] = \"warm high value\"\n",
    "customers_2015.loc[(customers_2015['segment'] == \"active\") &\n",
    "                  (customers_2015['first_purchase'] <= 365), 'segment'] = \"new active\"\n",
    "customers_2015.loc[(customers_2015['segment'] == \"active\") &\n",
    "                  (customers_2015['amount'] < 100), 'segment'] = \"active low value\"\n",
    "customers_2015.loc[(customers_2015['segment'] == \"active\") &\n",
    "                  (customers_2015['amount'] >= 100), 'segment'] = \"active high value\""
   ]
  },
  {
   "cell_type": "code",
   "execution_count": 7,
   "id": "e503dd84",
   "metadata": {},
   "outputs": [],
   "source": [
    "# Transform segment column datatype from object to category\n",
    "customers_2015['segment'] = customers_2015['segment'].astype('category')\n",
    "# Re-order segments in a better readable way\n",
    "sorter = ['inactive', 'cold', 'warm high value','warm low value', \n",
    "           'new warm', 'active high value', 'active low value',\n",
    "           'new active']\n",
    "customers_2015.segment.cat.set_categories(sorter, inplace=True)\n",
    "customers_2015.sort_values([\"segment\"], inplace=True)"
   ]
  },
  {
   "cell_type": "markdown",
   "id": "7ca97cb1",
   "metadata": {},
   "source": [
    "-----"
   ]
  },
  {
   "cell_type": "markdown",
   "id": "1b665a8e",
   "metadata": {},
   "source": [
    "# Segment customers in 2014"
   ]
  },
  {
   "cell_type": "code",
   "execution_count": 8,
   "id": "ed46808a",
   "metadata": {},
   "outputs": [],
   "source": [
    "# Segment customers in 2014\n",
    "q = \"\"\"\n",
    "        SELECT customer_id,\n",
    "        MIN(days_since) - 365 AS 'recency',\n",
    "        MAX(days_since) - 365 AS 'first_purchase',\n",
    "        COUNT(*) AS 'frequency',\n",
    "        AVG(purchase_amount) AS 'amount'\n",
    "        FROM df\n",
    "        WHERE days_since > 365\n",
    "        GROUP BY 1\"\"\"\n",
    "\n",
    "customers_2014 = sqldf(q)"
   ]
  },
  {
   "cell_type": "code",
   "execution_count": 9,
   "id": "0722edc4",
   "metadata": {},
   "outputs": [],
   "source": [
    "customers_2014.loc[customers_2014['recency'] > 365*3, 'segment'] = 'inactive'\n",
    "customers_2014['segment'] =  customers_2014['segment'].fillna('NA')\n",
    "customers_2014.loc[(customers_2014['recency']<= 365*3) & \n",
    "                   (customers_2014['recency'] > 356*2), 'segment'] = \"cold\"\n",
    "customers_2014.loc[(customers_2014['recency']<= 365*2) & \n",
    "                   (customers_2014['recency'] > 365*1), 'segment'] = \"warm\"\n",
    "customers_2014.loc[customers_2014['recency']<= 365, 'segment'] = \"active\"\n",
    "customers_2014.loc[(customers_2014['segment'] == \"warm\") &\n",
    "                  (customers_2014['first_purchase'] <= 365*2), 'segment'] = \"new warm\"\n",
    "customers_2014.loc[(customers_2014['segment'] == \"warm\") &\n",
    "                  (customers_2014['amount'] < 100), 'segment'] = \"warm low value\"\n",
    "\n",
    "customers_2014.loc[(customers_2014['segment'] == \"warm\") &\n",
    "                  (customers_2014['amount'] >= 100), 'segment'] = \"warm high value\"\n",
    "customers_2014.loc[(customers_2014['segment'] == \"active\") &\n",
    "                  (customers_2014['first_purchase'] <= 365), 'segment'] = \"new active\"\n",
    "\n",
    "customers_2014.loc[(customers_2014['segment'] == \"active\") &\n",
    "                  (customers_2014['amount'] < 100), 'segment'] = \"active low value\"\n",
    "\n",
    "customers_2014.loc[(customers_2014['segment'] == \"active\") &\n",
    "                  (customers_2014['amount'] >= 100), 'segment'] = \"active high value\""
   ]
  },
  {
   "cell_type": "code",
   "execution_count": 10,
   "id": "99d0383a",
   "metadata": {},
   "outputs": [],
   "source": [
    "# Transform segment column datatype from object to category\n",
    "customers_2014['segment'] = customers_2014['segment'].astype('category')\n",
    "# Re-order segments in a better readable way\n",
    "sorter = ['inactive', 'cold', 'warm high value','warm low value', \n",
    "           'new warm', 'active high value', 'active low value',\n",
    "           'new active']\n",
    "customers_2014.segment.cat.set_categories(sorter, inplace=True)\n",
    "customers_2014.sort_values([\"segment\"], inplace=True)"
   ]
  },
  {
   "cell_type": "markdown",
   "id": "fb8e416f",
   "metadata": {},
   "source": [
    "-----"
   ]
  },
  {
   "cell_type": "markdown",
   "id": "e6528ca0",
   "metadata": {},
   "source": [
    "# Compute Transition Matrix"
   ]
  },
  {
   "cell_type": "code",
   "execution_count": 11,
   "id": "1e6d4206",
   "metadata": {},
   "outputs": [],
   "source": [
    "# Compute Transition Matrix\n",
    "new_data = customers_2014.merge(customers_2015, how='left', on='customer_id')"
   ]
  },
  {
   "cell_type": "code",
   "execution_count": 12,
   "id": "7bcd9f53",
   "metadata": {},
   "outputs": [
    {
     "data": {
      "text/html": [
       "<div>\n",
       "<style scoped>\n",
       "    .dataframe tbody tr th:only-of-type {\n",
       "        vertical-align: middle;\n",
       "    }\n",
       "\n",
       "    .dataframe tbody tr th {\n",
       "        vertical-align: top;\n",
       "    }\n",
       "\n",
       "    .dataframe thead th {\n",
       "        text-align: right;\n",
       "    }\n",
       "</style>\n",
       "<table border=\"1\" class=\"dataframe\">\n",
       "  <thead>\n",
       "    <tr style=\"text-align: right;\">\n",
       "      <th></th>\n",
       "      <th>customer_id</th>\n",
       "      <th>recency_x</th>\n",
       "      <th>first_purchase_x</th>\n",
       "      <th>frequency_x</th>\n",
       "      <th>amount_x</th>\n",
       "      <th>segment_x</th>\n",
       "      <th>recency_y</th>\n",
       "      <th>first_purchase_y</th>\n",
       "      <th>frequency_y</th>\n",
       "      <th>amount_y</th>\n",
       "      <th>segment_y</th>\n",
       "    </tr>\n",
       "  </thead>\n",
       "  <tbody>\n",
       "    <tr>\n",
       "      <th>16900</th>\n",
       "      <td>221470</td>\n",
       "      <td>236</td>\n",
       "      <td>236</td>\n",
       "      <td>1</td>\n",
       "      <td>15.00</td>\n",
       "      <td>new active</td>\n",
       "      <td>601</td>\n",
       "      <td>601</td>\n",
       "      <td>1</td>\n",
       "      <td>15.00</td>\n",
       "      <td>new warm</td>\n",
       "    </tr>\n",
       "    <tr>\n",
       "      <th>16901</th>\n",
       "      <td>221460</td>\n",
       "      <td>236</td>\n",
       "      <td>236</td>\n",
       "      <td>1</td>\n",
       "      <td>30.00</td>\n",
       "      <td>new active</td>\n",
       "      <td>147</td>\n",
       "      <td>601</td>\n",
       "      <td>2</td>\n",
       "      <td>30.00</td>\n",
       "      <td>active low value</td>\n",
       "    </tr>\n",
       "    <tr>\n",
       "      <th>16902</th>\n",
       "      <td>221450</td>\n",
       "      <td>236</td>\n",
       "      <td>236</td>\n",
       "      <td>1</td>\n",
       "      <td>45.00</td>\n",
       "      <td>new active</td>\n",
       "      <td>601</td>\n",
       "      <td>601</td>\n",
       "      <td>1</td>\n",
       "      <td>45.00</td>\n",
       "      <td>new warm</td>\n",
       "    </tr>\n",
       "    <tr>\n",
       "      <th>16903</th>\n",
       "      <td>221430</td>\n",
       "      <td>236</td>\n",
       "      <td>236</td>\n",
       "      <td>1</td>\n",
       "      <td>45.00</td>\n",
       "      <td>new active</td>\n",
       "      <td>601</td>\n",
       "      <td>601</td>\n",
       "      <td>1</td>\n",
       "      <td>45.00</td>\n",
       "      <td>new warm</td>\n",
       "    </tr>\n",
       "    <tr>\n",
       "      <th>16904</th>\n",
       "      <td>245840</td>\n",
       "      <td>48</td>\n",
       "      <td>48</td>\n",
       "      <td>1</td>\n",
       "      <td>50.00</td>\n",
       "      <td>new active</td>\n",
       "      <td>413</td>\n",
       "      <td>413</td>\n",
       "      <td>1</td>\n",
       "      <td>50.00</td>\n",
       "      <td>new warm</td>\n",
       "    </tr>\n",
       "  </tbody>\n",
       "</table>\n",
       "</div>"
      ],
      "text/plain": [
       "       customer_id  recency_x  first_purchase_x  frequency_x  amount_x  \\\n",
       "16900       221470        236               236            1     15.00   \n",
       "16901       221460        236               236            1     30.00   \n",
       "16902       221450        236               236            1     45.00   \n",
       "16903       221430        236               236            1     45.00   \n",
       "16904       245840         48                48            1     50.00   \n",
       "\n",
       "        segment_x  recency_y  first_purchase_y  frequency_y  amount_y  \\\n",
       "16900  new active        601               601            1     15.00   \n",
       "16901  new active        147               601            2     30.00   \n",
       "16902  new active        601               601            1     45.00   \n",
       "16903  new active        601               601            1     45.00   \n",
       "16904  new active        413               413            1     50.00   \n",
       "\n",
       "              segment_y  \n",
       "16900          new warm  \n",
       "16901  active low value  \n",
       "16902          new warm  \n",
       "16903          new warm  \n",
       "16904          new warm  "
      ]
     },
     "execution_count": 12,
     "metadata": {},
     "output_type": "execute_result"
    }
   ],
   "source": [
    "new_data.tail()"
   ]
  },
  {
   "cell_type": "code",
   "execution_count": 13,
   "id": "2d07b301",
   "metadata": {},
   "outputs": [
    {
     "name": "stdout",
     "output_type": "stream",
     "text": [
      "segment_y          inactive  cold  warm high value  warm low value  new warm  \\\n",
      "segment_x                                                                      \n",
      "inactive               7227     0                0               0         0   \n",
      "cold                   1931     0                0               0         0   \n",
      "warm high value           0    75                0               0         0   \n",
      "warm low value            0   689                0               0         0   \n",
      "new warm                  0  1139                0               0         0   \n",
      "active high value         0     0              119               0         0   \n",
      "active low value          0     0                0             901         0   \n",
      "new active                0     0                0               0       938   \n",
      "\n",
      "segment_y          active high value  active low value  \n",
      "segment_x                                               \n",
      "inactive                          35               250  \n",
      "cold                              22               200  \n",
      "warm high value                   35                 1  \n",
      "warm low value                     1               266  \n",
      "new warm                          15                96  \n",
      "active high value                354                 2  \n",
      "active low value                  22              2088  \n",
      "new active                        89               410  \n"
     ]
    }
   ],
   "source": [
    "# We are going to cross segments 2014 and 2015 and see how many people are\n",
    "# in both an meet this criterium\n",
    "transition = pd.crosstab(new_data['segment_x'], new_data['segment_y'])\n",
    "print(transition)"
   ]
  },
  {
   "cell_type": "code",
   "execution_count": 14,
   "id": "5aaaab55",
   "metadata": {},
   "outputs": [],
   "source": [
    "transition = transition.apply(lambda x: x/x.sum(), axis=1)"
   ]
  },
  {
   "cell_type": "code",
   "execution_count": 15,
   "id": "80a3ed9b",
   "metadata": {},
   "outputs": [
    {
     "name": "stdout",
     "output_type": "stream",
     "text": [
      "segment_y          inactive  cold  warm high value  warm low value  new warm  \\\n",
      "segment_x                                                                      \n",
      "inactive               0.96  0.00             0.00            0.00      0.00   \n",
      "cold                   0.90  0.00             0.00            0.00      0.00   \n",
      "warm high value        0.00  0.68             0.00            0.00      0.00   \n",
      "warm low value         0.00  0.72             0.00            0.00      0.00   \n",
      "new warm               0.00  0.91             0.00            0.00      0.00   \n",
      "active high value      0.00  0.00             0.25            0.00      0.00   \n",
      "active low value       0.00  0.00             0.00            0.30      0.00   \n",
      "new active             0.00  0.00             0.00            0.00      0.65   \n",
      "\n",
      "segment_y          active high value  active low value  \n",
      "segment_x                                               \n",
      "inactive                        0.00              0.03  \n",
      "cold                            0.01              0.09  \n",
      "warm high value                 0.32              0.01  \n",
      "warm low value                  0.00              0.28  \n",
      "new warm                        0.01              0.08  \n",
      "active high value               0.75              0.00  \n",
      "active low value                0.01              0.69  \n",
      "new active                      0.06              0.29  \n"
     ]
    }
   ],
   "source": [
    "print(transition)"
   ]
  },
  {
   "cell_type": "code",
   "execution_count": 17,
   "id": "fa971d9e",
   "metadata": {},
   "outputs": [],
   "source": [
    "# The only thing we need to do is to use the transition matrix to estimate\n",
    "# how customers will evolve"
   ]
  },
  {
   "cell_type": "markdown",
   "id": "c7974d13",
   "metadata": {},
   "source": [
    "------------"
   ]
  },
  {
   "cell_type": "markdown",
   "id": "eef2f5bd",
   "metadata": {},
   "source": [
    "# Use Transition Matrix To Make Predictions"
   ]
  },
  {
   "cell_type": "code",
   "execution_count": 19,
   "id": "ce07d7f8",
   "metadata": {},
   "outputs": [],
   "source": [
    "# Initialize a placeholder matrix with then number of customers in each segment today\n",
    "# and after 10 periods.\n",
    "# The number of rows is the number of segments we have\n",
    "# The number of columns is the number of years we are going to predict - \n",
    "# The evolution of segment membership\n",
    "segments = np.zeros(shape=(8,11))"
   ]
  },
  {
   "cell_type": "code",
   "execution_count": 21,
   "id": "337f5a22",
   "metadata": {},
   "outputs": [
    {
     "data": {
      "text/html": [
       "<div>\n",
       "<style scoped>\n",
       "    .dataframe tbody tr th:only-of-type {\n",
       "        vertical-align: middle;\n",
       "    }\n",
       "\n",
       "    .dataframe tbody tr th {\n",
       "        vertical-align: top;\n",
       "    }\n",
       "\n",
       "    .dataframe thead th {\n",
       "        text-align: right;\n",
       "    }\n",
       "</style>\n",
       "<table border=\"1\" class=\"dataframe\">\n",
       "  <thead>\n",
       "    <tr style=\"text-align: right;\">\n",
       "      <th></th>\n",
       "      <th>2015</th>\n",
       "      <th>2016</th>\n",
       "      <th>2017</th>\n",
       "      <th>2018</th>\n",
       "      <th>2019</th>\n",
       "      <th>2020</th>\n",
       "      <th>2021</th>\n",
       "      <th>2022</th>\n",
       "      <th>2023</th>\n",
       "      <th>2024</th>\n",
       "      <th>2025</th>\n",
       "    </tr>\n",
       "  </thead>\n",
       "  <tbody>\n",
       "    <tr>\n",
       "      <th>inactive</th>\n",
       "      <td>9,158.00</td>\n",
       "      <td>0.00</td>\n",
       "      <td>0.00</td>\n",
       "      <td>0.00</td>\n",
       "      <td>0.00</td>\n",
       "      <td>0.00</td>\n",
       "      <td>0.00</td>\n",
       "      <td>0.00</td>\n",
       "      <td>0.00</td>\n",
       "      <td>0.00</td>\n",
       "      <td>0.00</td>\n",
       "    </tr>\n",
       "  </tbody>\n",
       "</table>\n",
       "</div>"
      ],
      "text/plain": [
       "             2015  2016  2017  2018  2019  2020  2021  2022  2023  2024  2025\n",
       "inactive 9,158.00  0.00  0.00  0.00  0.00  0.00  0.00  0.00  0.00  0.00  0.00"
      ]
     },
     "execution_count": 21,
     "metadata": {},
     "output_type": "execute_result"
    }
   ],
   "source": [
    "# 1st thing to do is to populate the first columns with then number of\n",
    "# customers in each segment at the end of 2015\n",
    "segments[:, 0] = customers_2015['segment'].value_counts(sort=False)\n",
    "\n",
    "# 2nd Give each column the name of its corresponding year \n",
    "# and row the name of its corresponding segment:\n",
    "segments = pd.DataFrame(segments, columns=np.arange(2015,2026), index=customers_2015['segment'].values.categories)"
   ]
  },
  {
   "cell_type": "code",
   "execution_count": 22,
   "id": "27394e0f",
   "metadata": {},
   "outputs": [
    {
     "data": {
      "text/html": [
       "<div>\n",
       "<style scoped>\n",
       "    .dataframe tbody tr th:only-of-type {\n",
       "        vertical-align: middle;\n",
       "    }\n",
       "\n",
       "    .dataframe tbody tr th {\n",
       "        vertical-align: top;\n",
       "    }\n",
       "\n",
       "    .dataframe thead th {\n",
       "        text-align: right;\n",
       "    }\n",
       "</style>\n",
       "<table border=\"1\" class=\"dataframe\">\n",
       "  <thead>\n",
       "    <tr style=\"text-align: right;\">\n",
       "      <th></th>\n",
       "      <th>2015</th>\n",
       "      <th>2016</th>\n",
       "      <th>2017</th>\n",
       "      <th>2018</th>\n",
       "      <th>2019</th>\n",
       "      <th>2020</th>\n",
       "      <th>2021</th>\n",
       "      <th>2022</th>\n",
       "      <th>2023</th>\n",
       "      <th>2024</th>\n",
       "      <th>2025</th>\n",
       "    </tr>\n",
       "  </thead>\n",
       "  <tbody>\n",
       "    <tr>\n",
       "      <th>inactive</th>\n",
       "      <td>9,158.00</td>\n",
       "      <td>0.00</td>\n",
       "      <td>0.00</td>\n",
       "      <td>0.00</td>\n",
       "      <td>0.00</td>\n",
       "      <td>0.00</td>\n",
       "      <td>0.00</td>\n",
       "      <td>0.00</td>\n",
       "      <td>0.00</td>\n",
       "      <td>0.00</td>\n",
       "      <td>0.00</td>\n",
       "    </tr>\n",
       "    <tr>\n",
       "      <th>cold</th>\n",
       "      <td>1,903.00</td>\n",
       "      <td>0.00</td>\n",
       "      <td>0.00</td>\n",
       "      <td>0.00</td>\n",
       "      <td>0.00</td>\n",
       "      <td>0.00</td>\n",
       "      <td>0.00</td>\n",
       "      <td>0.00</td>\n",
       "      <td>0.00</td>\n",
       "      <td>0.00</td>\n",
       "      <td>0.00</td>\n",
       "    </tr>\n",
       "    <tr>\n",
       "      <th>warm high value</th>\n",
       "      <td>119.00</td>\n",
       "      <td>0.00</td>\n",
       "      <td>0.00</td>\n",
       "      <td>0.00</td>\n",
       "      <td>0.00</td>\n",
       "      <td>0.00</td>\n",
       "      <td>0.00</td>\n",
       "      <td>0.00</td>\n",
       "      <td>0.00</td>\n",
       "      <td>0.00</td>\n",
       "      <td>0.00</td>\n",
       "    </tr>\n",
       "    <tr>\n",
       "      <th>warm low value</th>\n",
       "      <td>901.00</td>\n",
       "      <td>0.00</td>\n",
       "      <td>0.00</td>\n",
       "      <td>0.00</td>\n",
       "      <td>0.00</td>\n",
       "      <td>0.00</td>\n",
       "      <td>0.00</td>\n",
       "      <td>0.00</td>\n",
       "      <td>0.00</td>\n",
       "      <td>0.00</td>\n",
       "      <td>0.00</td>\n",
       "    </tr>\n",
       "    <tr>\n",
       "      <th>new warm</th>\n",
       "      <td>938.00</td>\n",
       "      <td>0.00</td>\n",
       "      <td>0.00</td>\n",
       "      <td>0.00</td>\n",
       "      <td>0.00</td>\n",
       "      <td>0.00</td>\n",
       "      <td>0.00</td>\n",
       "      <td>0.00</td>\n",
       "      <td>0.00</td>\n",
       "      <td>0.00</td>\n",
       "      <td>0.00</td>\n",
       "    </tr>\n",
       "  </tbody>\n",
       "</table>\n",
       "</div>"
      ],
      "text/plain": [
       "                    2015  2016  2017  2018  2019  2020  2021  2022  2023  \\\n",
       "inactive        9,158.00  0.00  0.00  0.00  0.00  0.00  0.00  0.00  0.00   \n",
       "cold            1,903.00  0.00  0.00  0.00  0.00  0.00  0.00  0.00  0.00   \n",
       "warm high value   119.00  0.00  0.00  0.00  0.00  0.00  0.00  0.00  0.00   \n",
       "warm low value    901.00  0.00  0.00  0.00  0.00  0.00  0.00  0.00  0.00   \n",
       "new warm          938.00  0.00  0.00  0.00  0.00  0.00  0.00  0.00  0.00   \n",
       "\n",
       "                 2024  2025  \n",
       "inactive         0.00  0.00  \n",
       "cold             0.00  0.00  \n",
       "warm high value  0.00  0.00  \n",
       "warm low value   0.00  0.00  \n",
       "new warm         0.00  0.00  "
      ]
     },
     "execution_count": 22,
     "metadata": {},
     "output_type": "execute_result"
    }
   ],
   "source": [
    "segments.head()"
   ]
  },
  {
   "cell_type": "code",
   "execution_count": 27,
   "id": "921e9216",
   "metadata": {},
   "outputs": [
    {
     "data": {
      "text/html": [
       "<div>\n",
       "<style scoped>\n",
       "    .dataframe tbody tr th:only-of-type {\n",
       "        vertical-align: middle;\n",
       "    }\n",
       "\n",
       "    .dataframe tbody tr th {\n",
       "        vertical-align: top;\n",
       "    }\n",
       "\n",
       "    .dataframe thead th {\n",
       "        text-align: right;\n",
       "    }\n",
       "</style>\n",
       "<table border=\"1\" class=\"dataframe\">\n",
       "  <thead>\n",
       "    <tr style=\"text-align: right;\">\n",
       "      <th></th>\n",
       "      <th>2015</th>\n",
       "      <th>2016</th>\n",
       "      <th>2017</th>\n",
       "      <th>2018</th>\n",
       "      <th>2019</th>\n",
       "      <th>2020</th>\n",
       "      <th>2021</th>\n",
       "      <th>2022</th>\n",
       "      <th>2023</th>\n",
       "      <th>2024</th>\n",
       "      <th>2025</th>\n",
       "    </tr>\n",
       "  </thead>\n",
       "  <tbody>\n",
       "    <tr>\n",
       "      <th>inactive</th>\n",
       "      <td>9158</td>\n",
       "      <td>10517</td>\n",
       "      <td>11539</td>\n",
       "      <td>12636</td>\n",
       "      <td>12940</td>\n",
       "      <td>13185</td>\n",
       "      <td>13386</td>\n",
       "      <td>13542</td>\n",
       "      <td>13664</td>\n",
       "      <td>13760</td>\n",
       "      <td>13834</td>\n",
       "    </tr>\n",
       "    <tr>\n",
       "      <th>cold</th>\n",
       "      <td>1903</td>\n",
       "      <td>1584</td>\n",
       "      <td>1711</td>\n",
       "      <td>874</td>\n",
       "      <td>821</td>\n",
       "      <td>782</td>\n",
       "      <td>740</td>\n",
       "      <td>709</td>\n",
       "      <td>685</td>\n",
       "      <td>665</td>\n",
       "      <td>651</td>\n",
       "    </tr>\n",
       "    <tr>\n",
       "      <th>warm high value</th>\n",
       "      <td>119</td>\n",
       "      <td>144</td>\n",
       "      <td>165</td>\n",
       "      <td>160</td>\n",
       "      <td>157</td>\n",
       "      <td>152</td>\n",
       "      <td>149</td>\n",
       "      <td>146</td>\n",
       "      <td>143</td>\n",
       "      <td>141</td>\n",
       "      <td>139</td>\n",
       "    </tr>\n",
       "    <tr>\n",
       "      <th>warm low value</th>\n",
       "      <td>901</td>\n",
       "      <td>991</td>\n",
       "      <td>1058</td>\n",
       "      <td>989</td>\n",
       "      <td>938</td>\n",
       "      <td>884</td>\n",
       "      <td>844</td>\n",
       "      <td>813</td>\n",
       "      <td>789</td>\n",
       "      <td>771</td>\n",
       "      <td>756</td>\n",
       "    </tr>\n",
       "    <tr>\n",
       "      <th>new warm</th>\n",
       "      <td>938</td>\n",
       "      <td>987</td>\n",
       "      <td>0</td>\n",
       "      <td>0</td>\n",
       "      <td>0</td>\n",
       "      <td>0</td>\n",
       "      <td>0</td>\n",
       "      <td>0</td>\n",
       "      <td>0</td>\n",
       "      <td>0</td>\n",
       "      <td>0</td>\n",
       "    </tr>\n",
       "  </tbody>\n",
       "</table>\n",
       "</div>"
      ],
      "text/plain": [
       "                 2015   2016   2017   2018   2019   2020   2021   2022   2023  \\\n",
       "inactive         9158  10517  11539  12636  12940  13185  13386  13542  13664   \n",
       "cold             1903   1584   1711    874    821    782    740    709    685   \n",
       "warm high value   119    144    165    160    157    152    149    146    143   \n",
       "warm low value    901    991   1058    989    938    884    844    813    789   \n",
       "new warm          938    987      0      0      0      0      0      0      0   \n",
       "\n",
       "                  2024   2025  \n",
       "inactive         13760  13834  \n",
       "cold               665    651  \n",
       "warm high value    141    139  \n",
       "warm low value     771    756  \n",
       "new warm             0      0  "
      ]
     },
     "execution_count": 27,
     "metadata": {},
     "output_type": "execute_result"
    }
   ],
   "source": [
    "# Compute for each an every period\n",
    "for i in range(2016, 2026):\n",
    "    segments[i] = segments[i-1].dot(transition).round(0)\n",
    "    segments[i].fillna(0, inplace=True)\n",
    "    \n",
    "# Noneed for float64 since we are rounding the results:\n",
    "segments = segments.astype(int)"
   ]
  },
  {
   "cell_type": "code",
   "execution_count": 29,
   "id": "a5ddb1ab",
   "metadata": {},
   "outputs": [
    {
     "data": {
      "text/html": [
       "<div>\n",
       "<style scoped>\n",
       "    .dataframe tbody tr th:only-of-type {\n",
       "        vertical-align: middle;\n",
       "    }\n",
       "\n",
       "    .dataframe tbody tr th {\n",
       "        vertical-align: top;\n",
       "    }\n",
       "\n",
       "    .dataframe thead th {\n",
       "        text-align: right;\n",
       "    }\n",
       "</style>\n",
       "<table border=\"1\" class=\"dataframe\">\n",
       "  <thead>\n",
       "    <tr style=\"text-align: right;\">\n",
       "      <th></th>\n",
       "      <th>2015</th>\n",
       "      <th>2016</th>\n",
       "      <th>2017</th>\n",
       "      <th>2018</th>\n",
       "      <th>2019</th>\n",
       "      <th>2020</th>\n",
       "      <th>2021</th>\n",
       "      <th>2022</th>\n",
       "      <th>2023</th>\n",
       "      <th>2024</th>\n",
       "      <th>2025</th>\n",
       "    </tr>\n",
       "  </thead>\n",
       "  <tbody>\n",
       "    <tr>\n",
       "      <th>inactive</th>\n",
       "      <td>9158</td>\n",
       "      <td>10517</td>\n",
       "      <td>11539</td>\n",
       "      <td>12636</td>\n",
       "      <td>12940</td>\n",
       "      <td>13185</td>\n",
       "      <td>13386</td>\n",
       "      <td>13542</td>\n",
       "      <td>13664</td>\n",
       "      <td>13760</td>\n",
       "      <td>13834</td>\n",
       "    </tr>\n",
       "    <tr>\n",
       "      <th>cold</th>\n",
       "      <td>1903</td>\n",
       "      <td>1584</td>\n",
       "      <td>1711</td>\n",
       "      <td>874</td>\n",
       "      <td>821</td>\n",
       "      <td>782</td>\n",
       "      <td>740</td>\n",
       "      <td>709</td>\n",
       "      <td>685</td>\n",
       "      <td>665</td>\n",
       "      <td>651</td>\n",
       "    </tr>\n",
       "    <tr>\n",
       "      <th>warm high value</th>\n",
       "      <td>119</td>\n",
       "      <td>144</td>\n",
       "      <td>165</td>\n",
       "      <td>160</td>\n",
       "      <td>157</td>\n",
       "      <td>152</td>\n",
       "      <td>149</td>\n",
       "      <td>146</td>\n",
       "      <td>143</td>\n",
       "      <td>141</td>\n",
       "      <td>139</td>\n",
       "    </tr>\n",
       "    <tr>\n",
       "      <th>warm low value</th>\n",
       "      <td>901</td>\n",
       "      <td>991</td>\n",
       "      <td>1058</td>\n",
       "      <td>989</td>\n",
       "      <td>938</td>\n",
       "      <td>884</td>\n",
       "      <td>844</td>\n",
       "      <td>813</td>\n",
       "      <td>789</td>\n",
       "      <td>771</td>\n",
       "      <td>756</td>\n",
       "    </tr>\n",
       "    <tr>\n",
       "      <th>new warm</th>\n",
       "      <td>938</td>\n",
       "      <td>987</td>\n",
       "      <td>0</td>\n",
       "      <td>0</td>\n",
       "      <td>0</td>\n",
       "      <td>0</td>\n",
       "      <td>0</td>\n",
       "      <td>0</td>\n",
       "      <td>0</td>\n",
       "      <td>0</td>\n",
       "      <td>0</td>\n",
       "    </tr>\n",
       "    <tr>\n",
       "      <th>active high value</th>\n",
       "      <td>573</td>\n",
       "      <td>657</td>\n",
       "      <td>639</td>\n",
       "      <td>625</td>\n",
       "      <td>608</td>\n",
       "      <td>594</td>\n",
       "      <td>582</td>\n",
       "      <td>571</td>\n",
       "      <td>562</td>\n",
       "      <td>554</td>\n",
       "      <td>548</td>\n",
       "    </tr>\n",
       "    <tr>\n",
       "      <th>active low value</th>\n",
       "      <td>3313</td>\n",
       "      <td>3537</td>\n",
       "      <td>3306</td>\n",
       "      <td>3134</td>\n",
       "      <td>2954</td>\n",
       "      <td>2820</td>\n",
       "      <td>2717</td>\n",
       "      <td>2637</td>\n",
       "      <td>2575</td>\n",
       "      <td>2527</td>\n",
       "      <td>2490</td>\n",
       "    </tr>\n",
       "    <tr>\n",
       "      <th>new active</th>\n",
       "      <td>1512</td>\n",
       "      <td>0</td>\n",
       "      <td>0</td>\n",
       "      <td>0</td>\n",
       "      <td>0</td>\n",
       "      <td>0</td>\n",
       "      <td>0</td>\n",
       "      <td>0</td>\n",
       "      <td>0</td>\n",
       "      <td>0</td>\n",
       "      <td>0</td>\n",
       "    </tr>\n",
       "  </tbody>\n",
       "</table>\n",
       "</div>"
      ],
      "text/plain": [
       "                   2015   2016   2017   2018   2019   2020   2021   2022  \\\n",
       "inactive           9158  10517  11539  12636  12940  13185  13386  13542   \n",
       "cold               1903   1584   1711    874    821    782    740    709   \n",
       "warm high value     119    144    165    160    157    152    149    146   \n",
       "warm low value      901    991   1058    989    938    884    844    813   \n",
       "new warm            938    987      0      0      0      0      0      0   \n",
       "active high value   573    657    639    625    608    594    582    571   \n",
       "active low value   3313   3537   3306   3134   2954   2820   2717   2637   \n",
       "new active         1512      0      0      0      0      0      0      0   \n",
       "\n",
       "                    2023   2024   2025  \n",
       "inactive           13664  13760  13834  \n",
       "cold                 685    665    651  \n",
       "warm high value      143    141    139  \n",
       "warm low value       789    771    756  \n",
       "new warm               0      0      0  \n",
       "active high value    562    554    548  \n",
       "active low value    2575   2527   2490  \n",
       "new active             0      0      0  "
      ]
     },
     "execution_count": 29,
     "metadata": {},
     "output_type": "execute_result"
    }
   ],
   "source": [
    "segments.head(10)"
   ]
  },
  {
   "cell_type": "code",
   "execution_count": 30,
   "id": "abc90819",
   "metadata": {},
   "outputs": [
    {
     "data": {
      "text/plain": [
       "<AxesSubplot:>"
      ]
     },
     "execution_count": 30,
     "metadata": {},
     "output_type": "execute_result"
    },
    {
     "data": {
      "image/png": "[encoded data removed]",
      "text/plain": [
       "<Figure size 720x576 with 1 Axes>"
      ]
     },
     "metadata": {
      "needs_background": "light"
     },
     "output_type": "display_data"
    }
   ],
   "source": [
    "# Plot inactive customers over time\n",
    "segments.iloc[0].plot(kind='bar')"
   ]
  },
  {
   "cell_type": "code",
   "execution_count": 31,
   "id": "17973a21",
   "metadata": {},
   "outputs": [
    {
     "data": {
      "text/plain": [
       "<AxesSubplot:>"
      ]
     },
     "execution_count": 31,
     "metadata": {},
     "output_type": "execute_result"
    },
    {
     "data": {
      "image/png": "[encoded data removed]",
      "text/plain": [
       "<Figure size 720x576 with 1 Axes>"
      ]
     },
     "metadata": {
      "needs_background": "light"
     },
     "output_type": "display_data"
    }
   ],
   "source": [
    "# Plot active high value customers over time\n",
    "segments.iloc[5].plot(kind='bar')"
   ]
  },
  {
   "cell_type": "markdown",
   "id": "f8dffde5",
   "metadata": {},
   "source": [
    "-----"
   ]
  },
  {
   "cell_type": "markdown",
   "id": "56e66ef1",
   "metadata": {},
   "source": [
    "# Assigning and Discounting Revenue (CLV)"
   ]
  },
  {
   "cell_type": "code",
   "execution_count": 32,
   "id": "31d549df",
   "metadata": {},
   "outputs": [],
   "source": [
    "# Yearly revenue per segment\n",
    "# This comes directly from module 2, lines 160-161\n",
    "yearly_revenue = [0, 0, 0, 0, 0, 323.57, 52.31, 79.17]"
   ]
  },
  {
   "cell_type": "code",
   "execution_count": 44,
   "id": "b5939bce",
   "metadata": {},
   "outputs": [
    {
     "name": "stdout",
     "output_type": "stream",
     "text": [
      "      inactive  cold  warm high value  warm low value  new warm  \\\n",
      "2015      0.00  0.00             0.00            0.00      0.00   \n",
      "2016      0.00  0.00             0.00            0.00      0.00   \n",
      "2017      0.00  0.00             0.00            0.00      0.00   \n",
      "2018      0.00  0.00             0.00            0.00      0.00   \n",
      "2019      0.00  0.00             0.00            0.00      0.00   \n",
      "2020      0.00  0.00             0.00            0.00      0.00   \n",
      "2021      0.00  0.00             0.00            0.00      0.00   \n",
      "2022      0.00  0.00             0.00            0.00      0.00   \n",
      "2023      0.00  0.00             0.00            0.00      0.00   \n",
      "2024      0.00  0.00             0.00            0.00      0.00   \n",
      "2025      0.00  0.00             0.00            0.00      0.00   \n",
      "\n",
      "      active high value  active low value  new active  \n",
      "2015         185,405.61        173,303.03  119,705.04  \n",
      "2016         212,585.49        185,020.47        0.00  \n",
      "2017         206,761.23        172,936.86        0.00  \n",
      "2018         202,231.25        163,939.54        0.00  \n",
      "2019         196,730.56        154,523.74        0.00  \n",
      "2020         192,200.58        147,514.20        0.00  \n",
      "2021         188,317.74        142,126.27        0.00  \n",
      "2022         184,758.47        137,941.47        0.00  \n",
      "2023         181,846.34        134,698.25        0.00  \n",
      "2024         179,257.78        132,187.37        0.00  \n",
      "2025         177,316.36        130,251.90        0.00  \n"
     ]
    }
   ],
   "source": [
    "# Compute revenue per segment\n",
    "\n",
    "* 1st Method\n",
    "segments.T * yearly_revenueb"
   ]
  },
  {
   "cell_type": "code",
   "execution_count": 45,
   "id": "7affe796",
   "metadata": {},
   "outputs": [
    {
     "name": "stdout",
     "output_type": "stream",
     "text": [
      "                        2015       2016       2017       2018       2019  \\\n",
      "inactive                0.00       0.00       0.00       0.00       0.00   \n",
      "cold                    0.00       0.00       0.00       0.00       0.00   \n",
      "warm high value         0.00       0.00       0.00       0.00       0.00   \n",
      "warm low value          0.00       0.00       0.00       0.00       0.00   \n",
      "new warm                0.00       0.00       0.00       0.00       0.00   \n",
      "active high value 185,405.61 212,585.49 206,761.23 202,231.25 196,730.56   \n",
      "active low value  173,303.03 185,020.47 172,936.86 163,939.54 154,523.74   \n",
      "new active        119,705.04       0.00       0.00       0.00       0.00   \n",
      "\n",
      "                        2020       2021       2022       2023       2024  \\\n",
      "inactive                0.00       0.00       0.00       0.00       0.00   \n",
      "cold                    0.00       0.00       0.00       0.00       0.00   \n",
      "warm high value         0.00       0.00       0.00       0.00       0.00   \n",
      "warm low value          0.00       0.00       0.00       0.00       0.00   \n",
      "new warm                0.00       0.00       0.00       0.00       0.00   \n",
      "active high value 192,200.58 188,317.74 184,758.47 181,846.34 179,257.78   \n",
      "active low value  147,514.20 142,126.27 137,941.47 134,698.25 132,187.37   \n",
      "new active              0.00       0.00       0.00       0.00       0.00   \n",
      "\n",
      "                        2025  \n",
      "inactive                0.00  \n",
      "cold                    0.00  \n",
      "warm high value         0.00  \n",
      "warm low value          0.00  \n",
      "new warm                0.00  \n",
      "active high value 177,316.36  \n",
      "active low value  130,251.90  \n",
      "new active              0.00  \n"
     ]
    }
   ],
   "source": [
    "# Compute revenue per segment\n",
    "revenue_per_segment = segments.multiply(yearly_revenue, axis='index')\n",
    "print(revenue_per_segment)"
   ]
  },
  {
   "cell_type": "code",
   "execution_count": 52,
   "id": "0e2bbe61",
   "metadata": {},
   "outputs": [
    {
     "data": {
      "text/plain": [
       "2015   478,414.00\n",
       "2016   397,606.00\n",
       "2017   379,698.00\n",
       "2018   366,171.00\n",
       "2019   351,254.00\n",
       "2020   339,715.00\n",
       "2021   330,444.00\n",
       "2022   322,700.00\n",
       "2023   316,545.00\n",
       "2024   311,445.00\n",
       "2025   307,568.00\n",
       "dtype: float64"
      ]
     },
     "execution_count": 52,
     "metadata": {},
     "output_type": "execute_result"
    }
   ],
   "source": [
    "# Compute yearly revenue\n",
    "yearly_revenue = revenue_per_segment.sum(axis=0).round(0)\n",
    "yearly_revenue"
   ]
  },
  {
   "cell_type": "code",
   "execution_count": 53,
   "id": "4dc2d37d",
   "metadata": {},
   "outputs": [
    {
     "data": {
      "text/plain": [
       "<AxesSubplot:>"
      ]
     },
     "execution_count": 53,
     "metadata": {},
     "output_type": "execute_result"
    },
    {
     "data": {
      "image/png": "[encoded data removed]",
      "text/plain": [
       "<Figure size 720x576 with 1 Axes>"
      ]
     },
     "metadata": {
      "needs_background": "light"
     },
     "output_type": "display_data"
    }
   ],
   "source": [
    "yearly_revenue.plot(kind='bar')"
   ]
  },
  {
   "cell_type": "code",
   "execution_count": 54,
   "id": "7a0f8797",
   "metadata": {},
   "outputs": [
    {
     "name": "stdout",
     "output_type": "stream",
     "text": [
      "2015     478,414.00\n",
      "2016     876,020.00\n",
      "2017   1,255,718.00\n",
      "2018   1,621,889.00\n",
      "2019   1,973,143.00\n",
      "2020   2,312,858.00\n",
      "2021   2,643,302.00\n",
      "2022   2,966,002.00\n",
      "2023   3,282,547.00\n",
      "2024   3,593,992.00\n",
      "2025   3,901,560.00\n",
      "dtype: float64\n"
     ]
    },
    {
     "data": {
      "text/plain": [
       "<AxesSubplot:>"
      ]
     },
     "execution_count": 54,
     "metadata": {},
     "output_type": "execute_result"
    },
    {
     "data": {
      "image/png": "[encoded data removed]",
      "text/plain": [
       "<Figure size 720x576 with 1 Axes>"
      ]
     },
     "metadata": {
      "needs_background": "light"
     },
     "output_type": "display_data"
    }
   ],
   "source": [
    "# Compute cumulated revenue\n",
    "cumulated_revenue = yearly_revenue.cumsum(axis=0)\n",
    "print(cumulated_revenue.round(0))\n",
    "cumulated_revenue.plot(kind='bar')"
   ]
  },
  {
   "cell_type": "code",
   "execution_count": 56,
   "id": "f5ad6bdd",
   "metadata": {},
   "outputs": [
    {
     "name": "stdout",
     "output_type": "stream",
     "text": [
      "[1.         0.90909091 0.82644628 0.7513148  0.68301346 0.62092132\n",
      " 0.56447393 0.51315812 0.46650738 0.42409762 0.38554329]\n"
     ]
    }
   ],
   "source": [
    "# Create a discount factor\n",
    "discount_rate = 0.10\n",
    "discount = 1 / ((1 + discount_rate) ** np.arange(0,11))\n",
    "print(discount)"
   ]
  },
  {
   "cell_type": "code",
   "execution_count": 57,
   "id": "9f76998b",
   "metadata": {},
   "outputs": [
    {
     "name": "stdout",
     "output_type": "stream",
     "text": [
      "2015   478,414.00\n",
      "2016   361,460.00\n",
      "2017   313,800.00\n",
      "2018   275,110.00\n",
      "2019   239,911.00\n",
      "2020   210,936.00\n",
      "2021   186,527.00\n",
      "2022   165,596.00\n",
      "2023   147,671.00\n",
      "2024   132,083.00\n",
      "2025   118,581.00\n",
      "dtype: float64\n"
     ]
    },
    {
     "data": {
      "text/plain": [
       "<AxesSubplot:label='fe38a0f4-ad27-4877-a60d-27626ff5fab1'>"
      ]
     },
     "execution_count": 57,
     "metadata": {},
     "output_type": "execute_result"
    },
    {
     "data": {
      "image/png": "[encoded data removed]",
      "text/plain": [
       "<Figure size 720x576 with 2 Axes>"
      ]
     },
     "metadata": {
      "needs_background": "light"
     },
     "output_type": "display_data"
    }
   ],
   "source": [
    "# Compute discounted yearly revenue\n",
    "# Future revenues in todays money\n",
    "disc_yearly_revenue = yearly_revenue.multiply(discount)\n",
    "print(disc_yearly_revenue.round(0))\n",
    "ax1 = disc_yearly_revenue.plot(kind='bar')\n",
    "ax2 = ax1.twiny()\n",
    "yearly_revenue.plot(kind='line', ax=ax2)"
   ]
  },
  {
   "cell_type": "code",
   "execution_count": 58,
   "id": "ffd02b0e",
   "metadata": {},
   "outputs": [
    {
     "name": "stdout",
     "output_type": "stream",
     "text": [
      "2015     478,414.00\n",
      "2016     839,874.00\n",
      "2017   1,153,674.00\n",
      "2018   1,428,784.00\n",
      "2019   1,668,695.00\n",
      "2020   1,879,631.00\n",
      "2021   2,066,158.00\n",
      "2022   2,231,754.00\n",
      "2023   2,379,425.00\n",
      "2024   2,511,508.00\n",
      "2025   2,630,089.00\n",
      "dtype: float64\n"
     ]
    },
    {
     "data": {
      "text/plain": [
       "<AxesSubplot:>"
      ]
     },
     "execution_count": 58,
     "metadata": {},
     "output_type": "execute_result"
    },
    {
     "data": {
      "image/png": "[encoded data removed]",
      "text/plain": [
       "<Figure size 720x576 with 1 Axes>"
      ]
     },
     "metadata": {
      "needs_background": "light"
     },
     "output_type": "display_data"
    }
   ],
   "source": [
    "# Compute discounted cumulated revenue\n",
    "disc_cumulated_revenue = disc_yearly_revenue.cumsum(axis=0)\n",
    "print(disc_cumulated_revenue.round(0))\n",
    "disc_cumulated_revenue.plot(kind='bar')"
   ]
  },
  {
   "cell_type": "code",
   "execution_count": 60,
   "id": "13d5e29a",
   "metadata": {},
   "outputs": [
    {
     "name": "stdout",
     "output_type": "stream",
     "text": [
      "2151675.0\n"
     ]
    }
   ],
   "source": [
    "# What is the database worth?\n",
    "#  What's the true value, the discounted cumulative value of my database \n",
    "# in terms of expected revenue of the next ten years\n",
    "print((disc_cumulated_revenue[2025] - yearly_revenue[2015]).round(0))"
   ]
  },
  {
   "cell_type": "code",
   "execution_count": null,
   "id": "b871b1fd",
   "metadata": {},
   "outputs": [],
   "source": []
  }
 ],
 "metadata": {
  "kernelspec": {
   "display_name": "Python 3",
   "language": "python",
   "name": "python3"
  },
  "language_info": {
   "codemirror_mode": {
    "name": "ipython",
    "version": 3
   },
   "file_extension": ".py",
   "mimetype": "text/x-python",
   "name": "python",
   "nbconvert_exporter": "python",
   "pygments_lexer": "ipython3",
   "version": "3.9.4"
  }
 },
 "nbformat": 4,
 "nbformat_minor": 5
}
