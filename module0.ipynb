{
 "cells": [
  {
   "cell_type": "markdown",
   "id": "3e36966c",
   "metadata": {},
   "source": [
    "% Introduction\n"
   ]
  },
  {
   "cell_type": "code",
   "execution_count": 160,
   "id": "abdaa43b",
   "metadata": {},
   "outputs": [],
   "source": [
    "import numpy as np\n",
    "import pandas as pd\n",
    "import matplotlib.pyplot as plt\n",
    "%precision 2\n",
    "%matplotlib inline"
   ]
  },
  {
   "cell_type": "markdown",
   "id": "3c954aa9",
   "metadata": {},
   "source": [
    "# Explore the Data"
   ]
  },
  {
   "cell_type": "code",
   "execution_count": 161,
   "id": "22a17087",
   "metadata": {},
   "outputs": [
    {
     "data": {
      "text/html": [
       "<div>\n",
       "<style scoped>\n",
       "    .dataframe tbody tr th:only-of-type {\n",
       "        vertical-align: middle;\n",
       "    }\n",
       "\n",
       "    .dataframe tbody tr th {\n",
       "        vertical-align: top;\n",
       "    }\n",
       "\n",
       "    .dataframe thead th {\n",
       "        text-align: right;\n",
       "    }\n",
       "</style>\n",
       "<table border=\"1\" class=\"dataframe\">\n",
       "  <thead>\n",
       "    <tr style=\"text-align: right;\">\n",
       "      <th></th>\n",
       "      <th>customer_id</th>\n",
       "      <th>purchase_amount</th>\n",
       "      <th>date_of_purchase</th>\n",
       "    </tr>\n",
       "  </thead>\n",
       "  <tbody>\n",
       "    <tr>\n",
       "      <th>0</th>\n",
       "      <td>760</td>\n",
       "      <td>25.0</td>\n",
       "      <td>2009-11-06</td>\n",
       "    </tr>\n",
       "    <tr>\n",
       "      <th>1</th>\n",
       "      <td>860</td>\n",
       "      <td>50.0</td>\n",
       "      <td>2012-09-28</td>\n",
       "    </tr>\n",
       "    <tr>\n",
       "      <th>2</th>\n",
       "      <td>1200</td>\n",
       "      <td>100.0</td>\n",
       "      <td>2005-10-25</td>\n",
       "    </tr>\n",
       "    <tr>\n",
       "      <th>3</th>\n",
       "      <td>1420</td>\n",
       "      <td>50.0</td>\n",
       "      <td>2009-07-09</td>\n",
       "    </tr>\n",
       "    <tr>\n",
       "      <th>4</th>\n",
       "      <td>1940</td>\n",
       "      <td>70.0</td>\n",
       "      <td>2013-01-25</td>\n",
       "    </tr>\n",
       "  </tbody>\n",
       "</table>\n",
       "</div>"
      ],
      "text/plain": [
       "   customer_id  purchase_amount date_of_purchase\n",
       "0          760             25.0       2009-11-06\n",
       "1          860             50.0       2012-09-28\n",
       "2         1200            100.0       2005-10-25\n",
       "3         1420             50.0       2009-07-09\n",
       "4         1940             70.0       2013-01-25"
      ]
     },
     "execution_count": 161,
     "metadata": {},
     "output_type": "execute_result"
    }
   ],
   "source": [
    "# Add headers to the data and load text as a dataframe\n",
    "headers = ['customer_id', 'purchase_amount', 'date_of_purchase']\n",
    "df = pd.read_csv('purchases.txt', header=None, \n",
    "                 names=headers, sep='\\t')\n",
    "df.head()"
   ]
  },
  {
   "cell_type": "code",
   "execution_count": 162,
   "id": "e4df3d49",
   "metadata": {},
   "outputs": [],
   "source": [
    "# Interpret the last column as a date\n",
    "df['date_of_purchase'] = pd.to_datetime(df['date_of_purchase'], \n",
    "                                        format='%Y-%m-%d')"
   ]
  },
  {
   "cell_type": "code",
   "execution_count": 163,
   "id": "50066d87",
   "metadata": {},
   "outputs": [],
   "source": [
    "# Extract year of purchase and save it as a column\n",
    "df['year_of_purchase'] = df['date_of_purchase'].dt.year"
   ]
  },
  {
   "cell_type": "code",
   "execution_count": 164,
   "id": "bf34bb45",
   "metadata": {},
   "outputs": [
    {
     "data": {
      "text/html": [
       "<div>\n",
       "<style scoped>\n",
       "    .dataframe tbody tr th:only-of-type {\n",
       "        vertical-align: middle;\n",
       "    }\n",
       "\n",
       "    .dataframe tbody tr th {\n",
       "        vertical-align: top;\n",
       "    }\n",
       "\n",
       "    .dataframe thead th {\n",
       "        text-align: right;\n",
       "    }\n",
       "</style>\n",
       "<table border=\"1\" class=\"dataframe\">\n",
       "  <thead>\n",
       "    <tr style=\"text-align: right;\">\n",
       "      <th></th>\n",
       "      <th>customer_id</th>\n",
       "      <th>purchase_amount</th>\n",
       "      <th>date_of_purchase</th>\n",
       "      <th>year_of_purchase</th>\n",
       "    </tr>\n",
       "  </thead>\n",
       "  <tbody>\n",
       "    <tr>\n",
       "      <th>1597</th>\n",
       "      <td>16730</td>\n",
       "      <td>40.0</td>\n",
       "      <td>2006-11-08</td>\n",
       "      <td>2006</td>\n",
       "    </tr>\n",
       "    <tr>\n",
       "      <th>501</th>\n",
       "      <td>99890</td>\n",
       "      <td>20.0</td>\n",
       "      <td>2008-06-18</td>\n",
       "      <td>2008</td>\n",
       "    </tr>\n",
       "    <tr>\n",
       "      <th>38205</th>\n",
       "      <td>165760</td>\n",
       "      <td>60.0</td>\n",
       "      <td>2011-11-25</td>\n",
       "      <td>2011</td>\n",
       "    </tr>\n",
       "    <tr>\n",
       "      <th>6400</th>\n",
       "      <td>47500</td>\n",
       "      <td>15.0</td>\n",
       "      <td>2005-12-28</td>\n",
       "      <td>2005</td>\n",
       "    </tr>\n",
       "    <tr>\n",
       "      <th>18334</th>\n",
       "      <td>9790</td>\n",
       "      <td>30.0</td>\n",
       "      <td>2012-03-03</td>\n",
       "      <td>2012</td>\n",
       "    </tr>\n",
       "  </tbody>\n",
       "</table>\n",
       "</div>"
      ],
      "text/plain": [
       "       customer_id  purchase_amount date_of_purchase  year_of_purchase\n",
       "1597         16730             40.0       2006-11-08              2006\n",
       "501          99890             20.0       2008-06-18              2008\n",
       "38205       165760             60.0       2011-11-25              2011\n",
       "6400         47500             15.0       2005-12-28              2005\n",
       "18334         9790             30.0       2012-03-03              2012"
      ]
     },
     "execution_count": 164,
     "metadata": {},
     "output_type": "execute_result"
    }
   ],
   "source": [
    "# Display 5 randomly selected rows\n",
    "df.sample(n=5, random_state=26)"
   ]
  },
  {
   "cell_type": "code",
   "execution_count": 165,
   "id": "aac88fd5",
   "metadata": {},
   "outputs": [
    {
     "name": "stdout",
     "output_type": "stream",
     "text": [
      "<class 'pandas.core.frame.DataFrame'>\n",
      "RangeIndex: 51243 entries, 0 to 51242\n",
      "Data columns (total 4 columns):\n",
      " #   Column            Non-Null Count  Dtype         \n",
      "---  ------            --------------  -----         \n",
      " 0   customer_id       51243 non-null  int64         \n",
      " 1   purchase_amount   51243 non-null  float64       \n",
      " 2   date_of_purchase  51243 non-null  datetime64[ns]\n",
      " 3   year_of_purchase  51243 non-null  int64         \n",
      "dtypes: datetime64[ns](1), float64(1), int64(2)\n",
      "memory usage: 1.6 MB\n"
     ]
    }
   ],
   "source": [
    "# Show data information after data transformation\n",
    "df.info()"
   ]
  },
  {
   "cell_type": "code",
   "execution_count": 166,
   "id": "a0a4ed0c",
   "metadata": {},
   "outputs": [
    {
     "data": {
      "text/plain": [
       "count    51243.000000\n",
       "mean        62.337195\n",
       "std        156.606801\n",
       "min          5.000000\n",
       "25%         25.000000\n",
       "50%         30.000000\n",
       "75%         60.000000\n",
       "max       4500.000000\n",
       "Name: purchase_amount, dtype: float64"
      ]
     },
     "execution_count": 166,
     "metadata": {},
     "output_type": "execute_result"
    }
   ],
   "source": [
    "df['purchase_amount'].describe()"
   ]
  },
  {
   "cell_type": "code",
   "execution_count": 167,
   "id": "967d7397",
   "metadata": {},
   "outputs": [
    {
     "data": {
      "text/plain": [
       "count    51243.000000\n",
       "mean      2010.869699\n",
       "std          2.883072\n",
       "min       2005.000000\n",
       "25%       2009.000000\n",
       "50%       2011.000000\n",
       "75%       2013.000000\n",
       "max       2015.000000\n",
       "Name: year_of_purchase, dtype: float64"
      ]
     },
     "execution_count": 167,
     "metadata": {},
     "output_type": "execute_result"
    }
   ],
   "source": [
    "df['year_of_purchase'].describe()"
   ]
  },
  {
   "cell_type": "code",
   "execution_count": 168,
   "id": "44a10b5e",
   "metadata": {},
   "outputs": [
    {
     "data": {
      "text/html": [
       "<div>\n",
       "<style scoped>\n",
       "    .dataframe tbody tr th:only-of-type {\n",
       "        vertical-align: middle;\n",
       "    }\n",
       "\n",
       "    .dataframe tbody tr th {\n",
       "        vertical-align: top;\n",
       "    }\n",
       "\n",
       "    .dataframe thead th {\n",
       "        text-align: right;\n",
       "    }\n",
       "</style>\n",
       "<table border=\"1\" class=\"dataframe\">\n",
       "  <thead>\n",
       "    <tr style=\"text-align: right;\">\n",
       "      <th></th>\n",
       "      <th>purchase_amount</th>\n",
       "    </tr>\n",
       "    <tr>\n",
       "      <th>year_of_purchase</th>\n",
       "      <th></th>\n",
       "    </tr>\n",
       "  </thead>\n",
       "  <tbody>\n",
       "    <tr>\n",
       "      <th>2005</th>\n",
       "      <td>1470</td>\n",
       "    </tr>\n",
       "    <tr>\n",
       "      <th>2006</th>\n",
       "      <td>2182</td>\n",
       "    </tr>\n",
       "    <tr>\n",
       "      <th>2007</th>\n",
       "      <td>4674</td>\n",
       "    </tr>\n",
       "    <tr>\n",
       "      <th>2008</th>\n",
       "      <td>4331</td>\n",
       "    </tr>\n",
       "    <tr>\n",
       "      <th>2009</th>\n",
       "      <td>5054</td>\n",
       "    </tr>\n",
       "    <tr>\n",
       "      <th>2010</th>\n",
       "      <td>4939</td>\n",
       "    </tr>\n",
       "    <tr>\n",
       "      <th>2011</th>\n",
       "      <td>4785</td>\n",
       "    </tr>\n",
       "    <tr>\n",
       "      <th>2012</th>\n",
       "      <td>5960</td>\n",
       "    </tr>\n",
       "    <tr>\n",
       "      <th>2013</th>\n",
       "      <td>5912</td>\n",
       "    </tr>\n",
       "    <tr>\n",
       "      <th>2014</th>\n",
       "      <td>5739</td>\n",
       "    </tr>\n",
       "    <tr>\n",
       "      <th>2015</th>\n",
       "      <td>6197</td>\n",
       "    </tr>\n",
       "  </tbody>\n",
       "</table>\n",
       "</div>"
      ],
      "text/plain": [
       "                  purchase_amount\n",
       "year_of_purchase                 \n",
       "2005                         1470\n",
       "2006                         2182\n",
       "2007                         4674\n",
       "2008                         4331\n",
       "2009                         5054\n",
       "2010                         4939\n",
       "2011                         4785\n",
       "2012                         5960\n",
       "2013                         5912\n",
       "2014                         5739\n",
       "2015                         6197"
      ]
     },
     "execution_count": 168,
     "metadata": {},
     "output_type": "execute_result"
    }
   ],
   "source": [
    "x = df[['year_of_purchase', 'purchase_amount']].groupby('year_of_purchase').count()\n",
    "x"
   ]
  },
  {
   "cell_type": "code",
   "execution_count": 169,
   "id": "bc4a612a",
   "metadata": {},
   "outputs": [
    {
     "data": {
      "text/html": [
       "<div>\n",
       "<style scoped>\n",
       "    .dataframe tbody tr th:only-of-type {\n",
       "        vertical-align: middle;\n",
       "    }\n",
       "\n",
       "    .dataframe tbody tr th {\n",
       "        vertical-align: top;\n",
       "    }\n",
       "\n",
       "    .dataframe thead th {\n",
       "        text-align: right;\n",
       "    }\n",
       "</style>\n",
       "<table border=\"1\" class=\"dataframe\">\n",
       "  <thead>\n",
       "    <tr style=\"text-align: right;\">\n",
       "      <th></th>\n",
       "      <th>Number of Purchases</th>\n",
       "    </tr>\n",
       "    <tr>\n",
       "      <th>year_of_purchase</th>\n",
       "      <th></th>\n",
       "    </tr>\n",
       "  </thead>\n",
       "  <tbody>\n",
       "    <tr>\n",
       "      <th>2005</th>\n",
       "      <td>1470</td>\n",
       "    </tr>\n",
       "    <tr>\n",
       "      <th>2006</th>\n",
       "      <td>2182</td>\n",
       "    </tr>\n",
       "    <tr>\n",
       "      <th>2007</th>\n",
       "      <td>4674</td>\n",
       "    </tr>\n",
       "    <tr>\n",
       "      <th>2008</th>\n",
       "      <td>4331</td>\n",
       "    </tr>\n",
       "    <tr>\n",
       "      <th>2009</th>\n",
       "      <td>5054</td>\n",
       "    </tr>\n",
       "    <tr>\n",
       "      <th>2010</th>\n",
       "      <td>4939</td>\n",
       "    </tr>\n",
       "    <tr>\n",
       "      <th>2011</th>\n",
       "      <td>4785</td>\n",
       "    </tr>\n",
       "    <tr>\n",
       "      <th>2012</th>\n",
       "      <td>5960</td>\n",
       "    </tr>\n",
       "    <tr>\n",
       "      <th>2013</th>\n",
       "      <td>5912</td>\n",
       "    </tr>\n",
       "    <tr>\n",
       "      <th>2014</th>\n",
       "      <td>5739</td>\n",
       "    </tr>\n",
       "    <tr>\n",
       "      <th>2015</th>\n",
       "      <td>6197</td>\n",
       "    </tr>\n",
       "  </tbody>\n",
       "</table>\n",
       "</div>"
      ],
      "text/plain": [
       "                  Number of Purchases\n",
       "year_of_purchase                     \n",
       "2005                             1470\n",
       "2006                             2182\n",
       "2007                             4674\n",
       "2008                             4331\n",
       "2009                             5054\n",
       "2010                             4939\n",
       "2011                             4785\n",
       "2012                             5960\n",
       "2013                             5912\n",
       "2014                             5739\n",
       "2015                             6197"
      ]
     },
     "execution_count": 169,
     "metadata": {},
     "output_type": "execute_result"
    }
   ],
   "source": [
    "x.rename(columns={'purchase_amount': 'Number of Purchases'})"
   ]
  },
  {
   "cell_type": "code",
   "execution_count": 170,
   "id": "512c3e20",
   "metadata": {},
   "outputs": [
    {
     "data": {
      "image/png": "[encoded data removed]",
      "text/plain": [
       "<Figure size 432x288 with 1 Axes>"
      ]
     },
     "metadata": {
      "needs_background": "light"
     },
     "output_type": "display_data"
    }
   ],
   "source": [
    "# Number of Purchases per year\n",
    "\n",
    "ax = x.plot.bar(ylabel='Number of Purchases per Year', xlabel='Year')\n",
    "plt.gca().get_legend().remove()\n",
    "#plt.legend(['Number of Purchases per Year'])\n",
    "plt.title('Number of Purchases per Year')\n",
    "for spine in ax.spines:\n",
    "    ax.spines[spine].set_visible(False)"
   ]
  },
  {
   "cell_type": "code",
   "execution_count": 171,
   "id": "14850350",
   "metadata": {},
   "outputs": [
    {
     "data": {
      "image/png": "[encoded data removed]",
      "text/plain": [
       "<Figure size 432x288 with 1 Axes>"
      ]
     },
     "metadata": {
      "needs_background": "light"
     },
     "output_type": "display_data"
    }
   ],
   "source": [
    "# Average Purchases per Year\n",
    "\n",
    "x = df[['year_of_purchase', 'purchase_amount']].groupby('year_of_purchase').mean()\n",
    "ax = x.plot.bar(xlabel='Year', ylabel='in \\$')\n",
    "plt.gca().get_legend().remove()\n",
    "#plt.legend(['Number of Purchases per Year'])\n",
    "plt.title('Average Purchases per Year')\n",
    "for spine in ax.spines:\n",
    "    ax.spines[spine].set_visible(False)"
   ]
  },
  {
   "cell_type": "code",
   "execution_count": 172,
   "id": "d1eef5fc",
   "metadata": {},
   "outputs": [
    {
     "data": {
      "image/png": "[encoded data removed]",
      "text/plain": [
       "<Figure size 432x288 with 1 Axes>"
      ]
     },
     "metadata": {
      "needs_background": "light"
     },
     "output_type": "display_data"
    }
   ],
   "source": [
    "# Total purchase amounts per year\n",
    "\n",
    "x = df[['year_of_purchase', 'purchase_amount']].groupby('year_of_purchase').sum()\n",
    "ax = x.plot.bar(xlabel='Year', ylabel='in \\$')\n",
    "plt.gca().get_legend().remove()\n",
    "#plt.legend(['Number of Purchases per Year'])\n",
    "plt.title('Total Amount Purchases per Year')\n",
    "for spine in ax.spines:\n",
    "    ax.spines[spine].set_visible(False)\n"
   ]
  },
  {
   "cell_type": "code",
   "execution_count": null,
   "id": "78e695e0",
   "metadata": {},
   "outputs": [],
   "source": []
  },
  {
   "cell_type": "code",
   "execution_count": null,
   "id": "e56e8fbe",
   "metadata": {},
   "outputs": [],
   "source": []
  },
  {
   "cell_type": "code",
   "execution_count": null,
   "id": "cbc13ba1",
   "metadata": {},
   "outputs": [],
   "source": []
  }
 ],
 "metadata": {
  "kernelspec": {
   "display_name": "Python 3",
   "language": "python",
   "name": "python3"
  },
  "language_info": {
   "codemirror_mode": {
    "name": "ipython",
    "version": 3
   },
   "file_extension": ".py",
   "mimetype": "text/x-python",
   "name": "python",
   "nbconvert_exporter": "python",
   "pygments_lexer": "ipython3",
   "version": "3.7.10"
  }
 },
 "nbformat": 4,
 "nbformat_minor": 5
}
